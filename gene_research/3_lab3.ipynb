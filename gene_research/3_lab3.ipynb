{
 "cells": [
  {
   "cell_type": "markdown",
   "metadata": {},
   "source": [
    "## Welcome to Week 4, Day 4\n",
    "\n",
    "This is the start of an AWESOME project! Really simple and very effective."
   ]
  },
  {
   "cell_type": "markdown",
   "metadata": {},
   "source": [
    "### First - a heads up for Windows PC users\n",
    "\n",
    "While executing this notebook, you might hit a problem with the Playwright browser raising a NotImplementedError.\n",
    "\n",
    "This should work when we move to python modules, but it can cause problems in Windows in a notebook.\n",
    "\n",
    "If you it this error and would like to run the notebook, you need to make a small change which seems quite hacky!\n",
    "\n",
    "1. Right click in `.venv` in the File Explorer on the left and select \"Find in folder\"\n",
    "2. Search for `asyncio.set_event_loop_policy(WindowsSelectorEventLoopPolicy())`  \n",
    "3. That code should be found in a line of code in a file called `kernelapp.py`\n",
    "4. Comment out the entire else clause that this line is a part of - see the fragment below\n",
    "5. Restart the kernel by pressing the \"Restart\" button above\n",
    "\n",
    "```python\n",
    "        if sys.platform.startswith(\"win\") and sys.version_info >= (3, 8):\n",
    "            import asyncio\n",
    " \n",
    "            try:\n",
    "                from asyncio import WindowsProactorEventLoopPolicy, WindowsSelectorEventLoopPolicy\n",
    "            except ImportError:\n",
    "                pass\n",
    "                # not affected\n",
    "           # else:\n",
    "            #    if type(asyncio.get_event_loop_policy()) is WindowsProactorEventLoopPolicy:\n",
    "                    # WindowsProactorEventLoopPolicy is not compatible with tornado 6\n",
    "                    # fallback to the pre-3.8 default of Selector\n",
    "                    # asyncio.set_event_loop_policy(WindowsSelectorEventLoopPolicy())\n",
    "```\n",
    "\n",
    "Thank you to student Nicolas for finding this, and to Kalyan, Yaki, Zibin and Bhaskar for confirming that this worked for them!\n",
    "\n",
    "As an alternative, you can just move to a Python module (which we do anyway in Day 5)"
   ]
  },
  {
   "cell_type": "code",
   "execution_count": 1,
   "metadata": {},
   "outputs": [],
   "source": [
    "from typing import Annotated\n",
    "from typing_extensions import TypedDict\n",
    "from langgraph.graph import StateGraph, START\n",
    "from langgraph.graph.message import add_messages\n",
    "from dotenv import load_dotenv\n",
    "from IPython.display import Image, display\n",
    "import gradio as gr\n",
    "from langgraph.prebuilt import ToolNode, tools_condition\n",
    "import requests\n",
    "import os\n",
    "from langchain.agents import Tool\n",
    "\n",
    "from langchain_openai import ChatOpenAI\n",
    "from langgraph.checkpoint.memory import MemorySaver"
   ]
  },
  {
   "cell_type": "code",
   "execution_count": 2,
   "metadata": {},
   "outputs": [
    {
     "data": {
      "text/plain": [
       "True"
      ]
     },
     "execution_count": 2,
     "metadata": {},
     "output_type": "execute_result"
    }
   ],
   "source": [
    "load_dotenv(override=True)"
   ]
  },
  {
   "cell_type": "markdown",
   "metadata": {},
   "source": [
    "### Asynchronous LangGraph\n",
    "\n",
    "To run a tool:  \n",
    "Sync: `tool.run(inputs)`  \n",
    "Async: `await tool.arun(inputs)`\n",
    "\n",
    "To invoke the graph:  \n",
    "Sync: `graph.invoke(state)`  \n",
    "Async: `await graph.ainvoke(state)`"
   ]
  },
  {
   "cell_type": "code",
   "execution_count": 3,
   "metadata": {},
   "outputs": [],
   "source": [
    "class State(TypedDict):\n",
    "    \n",
    "    messages: Annotated[list, add_messages]\n",
    "\n",
    "\n",
    "graph_builder = StateGraph(State)"
   ]
  },
  {
   "cell_type": "code",
   "execution_count": 4,
   "metadata": {},
   "outputs": [],
   "source": [
    "pushover_token = os.getenv(\"PUSHOVER_TOKEN\")\n",
    "pushover_user = os.getenv(\"PUSHOVER_USER\")\n",
    "pushover_url = \"https://api.pushover.net/1/messages.json\"\n",
    "\n",
    "def push(text: str):\n",
    "    \"\"\"Send a push notification to the user\"\"\"\n",
    "    requests.post(pushover_url, data = {\"token\": pushover_token, \"user\": pushover_user, \"message\": text})\n",
    "\n",
    "tool_push = Tool(\n",
    "        name=\"send_push_notification\",\n",
    "        func=push,\n",
    "        description=\"useful for when you want to send a push notification\"\n",
    "    )"
   ]
  },
  {
   "cell_type": "markdown",
   "metadata": {},
   "source": [
    "### Next: Install Playwright\n",
    "\n",
    "On Windows and MacOS:  \n",
    "`playwright install`\n",
    "\n",
    "On Linux:  \n",
    "`playwright install —with-reps chromium`"
   ]
  },
  {
   "cell_type": "markdown",
   "metadata": {},
   "source": [
    "### Introducing nest_asyncio\n",
    "\n",
    "Python async code only allows for one \"event loop\" processing aynchronous events.\n",
    "\n",
    "The `nest_asyncio` library patches this, and is used for special situations, if you need to run a nested event loop.\n",
    "\n"
   ]
  },
  {
   "cell_type": "code",
   "execution_count": 5,
   "metadata": {},
   "outputs": [],
   "source": [
    "import nest_asyncio\n",
    "nest_asyncio.apply()"
   ]
  },
  {
   "cell_type": "markdown",
   "metadata": {},
   "source": [
    "### The LangChain community\n",
    "\n",
    "One of the remarkable things about LangChain is the rich community around it.\n",
    "\n",
    "Check this out:\n"
   ]
  },
  {
   "cell_type": "code",
   "execution_count": 6,
   "metadata": {},
   "outputs": [],
   "source": [
    "from langchain_community.agent_toolkits import PlayWrightBrowserToolkit\n",
    "from langchain_community.tools.playwright.utils import create_async_playwright_browser\n",
    "\n",
    "# If you get a NotImplementedError here or later, see the Heads Up at the top of the notebook\n",
    "\n",
    "async_browser =  create_async_playwright_browser(headless=False)  # headful mode\n",
    "toolkit = PlayWrightBrowserToolkit.from_browser(async_browser=async_browser)\n",
    "tools = toolkit.get_tools()"
   ]
  },
  {
   "cell_type": "code",
   "execution_count": 7,
   "metadata": {},
   "outputs": [
    {
     "name": "stdout",
     "output_type": "stream",
     "text": [
      "click_element=async_browser=<Browser type=<BrowserType name=chromium executable_path=/home/osnat/.cache/ms-playwright/chromium-1169/chrome-linux/chrome> version=136.0.7103.25>\n",
      "navigate_browser=async_browser=<Browser type=<BrowserType name=chromium executable_path=/home/osnat/.cache/ms-playwright/chromium-1169/chrome-linux/chrome> version=136.0.7103.25>\n",
      "previous_webpage=async_browser=<Browser type=<BrowserType name=chromium executable_path=/home/osnat/.cache/ms-playwright/chromium-1169/chrome-linux/chrome> version=136.0.7103.25>\n",
      "extract_text=async_browser=<Browser type=<BrowserType name=chromium executable_path=/home/osnat/.cache/ms-playwright/chromium-1169/chrome-linux/chrome> version=136.0.7103.25>\n",
      "extract_hyperlinks=async_browser=<Browser type=<BrowserType name=chromium executable_path=/home/osnat/.cache/ms-playwright/chromium-1169/chrome-linux/chrome> version=136.0.7103.25>\n",
      "get_elements=async_browser=<Browser type=<BrowserType name=chromium executable_path=/home/osnat/.cache/ms-playwright/chromium-1169/chrome-linux/chrome> version=136.0.7103.25>\n",
      "current_webpage=async_browser=<Browser type=<BrowserType name=chromium executable_path=/home/osnat/.cache/ms-playwright/chromium-1169/chrome-linux/chrome> version=136.0.7103.25>\n"
     ]
    }
   ],
   "source": [
    "for tool in tools:\n",
    "    print(f\"{tool.name}={tool}\")"
   ]
  },
  {
   "cell_type": "code",
   "execution_count": 9,
   "metadata": {},
   "outputs": [],
   "source": [
    "tool_dict = {tool.name:tool for tool in tools}\n",
    "\n",
    "navigate_tool = tool_dict.get(\"navigate_browser\")\n",
    "extract_text_tool = tool_dict.get(\"extract_text\")\n",
    "\n",
    "    \n",
    "await navigate_tool.arun({\"url\": \"https://www.cnn.com\"})\n",
    "text = await extract_text_tool.arun({})"
   ]
  },
  {
   "cell_type": "code",
   "execution_count": 10,
   "metadata": {},
   "outputs": [
    {
     "name": "stdout",
     "output_type": "stream",
     "text": [
      "Breaking News, Latest News and Videos | CNN CNN values your feedback\n",
      "1. How relevant is this ad to you? 2. Did you encounter any technical\n",
      "issues? No Video player was slow to load content Video content never\n",
      "loaded Ad froze or did not finish loading Video content did not start\n",
      "after ad Audio on ad was too loud Other issues Ad never loaded Ad\n",
      "prevented/slowed the page from loading Content moved around while ad\n",
      "loaded Ad was repetitive to ads I've seen previously Other issues\n",
      "Cancel Submit Thank You! Your effort and contribution in providing\n",
      "this feedback is much\n",
      "appreciated. Close Ad Feedback Close icon US World Politics Business\n",
      "Health Entertainment Style Travel Sports Science Climate Weather\n",
      "Ukraine-Russia War Israel-Hamas War Games More US World Politics\n",
      "Business Health Entertainment Style Travel Sports Science Climate\n",
      "Weather Ukraine-Russia War Israel-Hamas War Games Watch Listen Live TV\n",
      "Subscribe Sign in My Account Settings Newsletters Topics you follow\n",
      "Sign out Your CNN account Sign in to your CNN account Sign in My\n",
      "Account Settings Newsletters Topics you follow Sign out Your CNN\n",
      "account Sign in to your CNN account Live TV Listen Watch Edition US\n",
      "International Arabic Español Edition US International Arabic Español\n",
      "World Africa Americas Asia Australia China Europe India Middle East\n",
      "United Kingdom US Politics Trump Facts First CNN Polls 2025 Elections\n",
      "Business Tech Media Calculators Videos Markets Pre-markets After-Hours\n",
      "Fear & Greed Investing Markets Now Nightcap Health Life, But Better\n",
      "Fitness Food Sleep Mindfulness Relationships Entertainment Movies\n",
      "Television Celebrity Tech Innovate Foreseeable Future Mission: Ahead\n",
      "Work Transformed Innovative Cities Style Arts Design Fashion\n",
      "Architecture Luxury Beauty Video Travel Destinations Food & Drink Stay\n",
      "News Videos Sports Football Tennis Golf Motorsport US Sports Olympics\n",
      "Climbing Esports Hockey Science Space Life Unearthed Climate Solutions\n",
      "Weather Weather Video Climate Ukraine-Russia War Israel-Hamas War\n",
      "Features As Equals Call to Earth Freedom Project Impact Your World\n",
      "Inside Africa CNN Heroes Watch Live TV CNN Fast Shows A-Z CNN10 CNN\n",
      "Max CNN TV Schedules Listen CNN 5 Things Chasing Life with Dr. Sanjay\n",
      "Gupta The Assignment with Audie Cornish One Thing Tug of War CNN\n",
      "Political Briefing The Axe Files All There Is with Anderson Cooper All\n",
      "CNN Audio podcasts Games Daily Crossword Jumble Crossword Sudoblock\n",
      "Sudoku 5 Things Quiz About CNN Photos Investigations CNN Profiles CNN\n",
      "Leadership CNN Newsletters Work for CNN Follow CNN Musk’s fallout with\n",
      "Trump BRICS summit Iran’s supreme leader Why is it so hot? Julian\n",
      "McMahon dies Oasis returns Madrid high-heel race Arthur Ashe’s legacy\n",
      "Evgenia Novozhenina/Pool/AFP/Getty Images/File Why Chinese leader Xi\n",
      "Jinping is skipping this year’s BRICS summit Jack Guez/AFP/Getty\n",
      "Images A Gaza ceasefire is the closest it has been in months. Here’s\n",
      "what we know Chip Somodevilla/Getty Images Musk says he is forming new\n",
      "political party after fallout with Trump Rescuers race to find Texas\n",
      "flood victims, including missing campers Show all • Live Updates Live\n",
      "Updates Ronaldo Schemidt/AFP/Getty Images • Live Updates Live Updates\n",
      "Live Updates At least 50 people are confirmed dead as dozens of\n",
      "families endure excruciating wait for news on loved ones Ronaldo\n",
      "Schemidt/AFP/Getty Images How torrential flooding wrought tragedy at a\n",
      "camp for girls in central Texas Jul 5, 2025 CNN Video See aftermath at\n",
      "summer camp in Texas after flooding 3:30 Jul 5, 2025 Eric Gay/AP In\n",
      "pictures Deadly flooding in Texas Jul 5, 2025 Play CNN Headlines -\n",
      "Source: CNN Video Watch the latest CNN Headlines OHHDL/Reuters Dalai\n",
      "Lama marks his 90th birthday as crowds throng his home-in-exile At 90,\n",
      "the Dalai Lama braces for final showdown with Beijing: his\n",
      "reincarnation Ad Feedback More top stories Ivan Antypenko/Suspilne\n",
      "Ukraine/Getty Images China tells EU it can’t accept Russia losing its\n",
      "war against Ukraine, official says Iran’s supreme leader appears in\n",
      "public for first time since start of Israel conflict Video Protests\n",
      "continue in Israel amid ceasefire negotiations 0:48 Ukraine says it\n",
      "struck a Russian air base as Moscow sent hundreds of drones into Kyiv\n",
      "Denmark has long been Euroskeptic. Donald Trump helped change that\n",
      "Germany's far-right AfD party is more popular than ever – but calls\n",
      "are mounting for its ban Andrea Pistolesi/Stone RF/Getty Images ‘I\n",
      "will never regret coming’: 24-year-old solo female traveler recaps\n",
      "104-hour escape from Iran Tom Brenner for The Washington Post via\n",
      "Getty Images It’s not just the manosphere. Right-leaning influencers\n",
      "and media are courting women now, too NASA Earth is as far away from\n",
      "the sun as it gets. So why is it so hot? Ad Feedback Chris\n",
      "Weeks/WireImage/Getty Images ‘Fantastic Four’ and ‘Nip/Tuck’ star\n",
      "Julian McMahon dead at 56 Jul 5, 2025 Martinez Velez/Europa\n",
      "Press/Getty Images The changes coming to European hand-luggage rules\n",
      "Jul 5, 2025 CNN Video The search for the Colossal Squid 1:40 Jul 6,\n",
      "2025 Ad Feedback Courtesy Adrian Clouatre ICE detains breastfeeding\n",
      "mom as her Marine veteran husband fights for her freedom • Video 1:30\n",
      "CNN Video CNN takes a look at one of China’s largest warships 1:30\n",
      "Herika Martinez/AFP/Getty Images Families fear their relatives are\n",
      "among hundreds of bodies at a Mexican crematorium Ludovic\n",
      "Marin/AFP/Getty Images Trump admin. deports Djibouti detainees to\n",
      "South Sudan Julien de Rosa/AFP/Getty Images Joyful Parisians take a\n",
      "historic plunge into the Seine after 100 years Manu Fernandez/AP\n",
      "Madrid Pride: Runners hit the pavement in city’s famous high-heel race\n",
      "s.ap arkitektar An ambitious vision of a city built from lava\n",
      "Mirrorpix/Getty Images He won Wimbledon 50 years ago. To this day, his\n",
      "legacy still stretches way beyond the court Getty Images/Reuters\n",
      "Soccer stars and Diogo Jota’s family gather for funeral of Liverpool\n",
      "player and his brother • Video 2:05 CNN Video Major League Eating co-\n",
      "founder on what makes Joey Chestnut so hard to beat 2:05 Scott A\n",
      "Garfitt/Invision/AP Oasis returns after 16-year hiatus to a UK crowd\n",
      "ecstatic for the band’s 1990s hits Ad Feedback Featured Sections Space\n",
      "and science Courtesy Alan W Chambers He’s searching for a human-made\n",
      "problem in areas largely untouched by humans. Answers are just\n",
      "emerging Long-dead satellite emits strong radio signal, puzzling\n",
      "astronomers Scientists say they have identified Earth’s oldest rocks\n",
      "Gallery Bearded vultures make a return Global Travel Show all Matthew\n",
      "Holler She ditched New York for Paris at the age of 79 but stumbled at\n",
      "the first hurdle 20 of Canada’s best foods (Sorry, Hawaiian pizza did\n",
      "not make the list) This hilltop town is one of Europe’s smallest — and\n",
      "most unusual — countries He fell in love at first sight with a\n",
      "stranger at the Trevi Fountain: ‘Like a present from the sky, she\n",
      "arrived’ Ad Feedback Global Business • Analysis Analysis Angela\n",
      "Weiss/AFP/Getty Images Analysis Why the GOP doesn’t want Americans\n",
      "biking to work but will spend millions on a ‘heroes’ sculpture garden\n",
      "Trump wants more skilled tradespeople. His Labor Department is trying\n",
      "to cut off a pipeline of workers It’s not just workers that can\n",
      "benefit from a four-day week, a trial suggests Here’s how the feud\n",
      "between Elon Musk and Donald Trump has unfolded Art and Style Courtesy\n",
      "Pyri This pinecone-sized device could transform the fight against\n",
      "wildfires Photographer finds surreal beauty — and few humans — inside\n",
      "a Chinese EV factory Photographer shows the secretive, colorful world\n",
      "of Ghanaian funerals Dior’s next chapter, zoot suits and a Wes\n",
      "Anderson easter egg: What we saw at the Paris Fashion Week men’s shows\n",
      "SPORT Show all Kyusung Gong/AP Los Angeles suffers worst ever loss at\n",
      "Dodger Stadium as Houston Astros win 18-1 Having seen ‘very toxic’\n",
      "climates in NFL locker rooms, this player is leading change with\n",
      "LGBTQ-targeted youth football camp More big names are out of Wimbledon\n",
      "than ever before. Here’s why McLaren’s Lando Norris on the dream and\n",
      "dilemma fueling his F1 title ambitions Ad Feedback US Politics POOL\n",
      "Trump signs his agenda bill, with a flyover to mark the occasion\n",
      "Democrats going after Trump’s megabill tell their own stories of\n",
      "needing Medicaid and other aid programs Why Roberts and Gorsuch may\n",
      "decide the Supreme Court’s blockbuster transgender sports case Trump\n",
      "claims he wasn’t aware the term ‘Shylock’ is viewed as antisemitic\n",
      "health and wellness Aaron Lockwood This overlooked aspect of fitness\n",
      "affects everything There is no safe amount of processed meat to eat,\n",
      "according to new research Transforming secondhand finds into treasures\n",
      "The cost of loneliness can be death. Here’s how to find good friends\n",
      "Tech Viktoriia Lomtieva/iStockphoto/Getty Images How to tell if you\n",
      "have a ‘dopamine deficit’ and what you can do to reset This man says\n",
      "ChatGPT sparked a ‘spiritual awakening.’ His wife says it threatens\n",
      "their marriage Video How AI can help ease the strain on health care\n",
      "services 4:39 Microsoft to lay off around 9,000 workers in its largest\n",
      "cuts since 2023 Photos You Should See • Gallery Gallery\n",
      "@laurensanchezbezos/Instagram/Reuters Gallery In pictures: Lauren\n",
      "Sanchez and Jeff Bezos’ Venetian wedding • Gallery Gallery Matthew\n",
      "Stockman/Allsport/Getty Images Gallery People we’ve lost in 2025 •\n",
      "Gallery Gallery Royce L. Bair/DarkSky International Gallery Protecting\n",
      "our night skies from light pollution • Gallery Gallery Lorenzo Poli\n",
      "Gallery Haunting image of an abandoned mining town wins Earth Photo\n",
      "prize • Gallery Gallery Dendrinos/MOm Gallery Mediterranean monk\n",
      "seals: Back from the brink • Gallery Gallery Luiz Thiago de Jesus/AMLD\n",
      "Gallery Back from the brink: Golden lion tamarin Ad Feedback In Case\n",
      "You Missed It Jane Rosenberg/Reuters What it was like inside the\n",
      "courtroom during the Sean ‘Diddy’ Combs trial Trump could derail\n",
      "Mamdani’s ambitious housing agenda ICE raids are turning parts of the\n",
      "US’ second biggest city into ghost towns America’s tariff-driven\n",
      "buying spree leaves households saddled with debt and financially\n",
      "vulnerable Activists sound alarm over US cuts to programs promoting\n",
      "democracy in Iran Judge blocks Trump’s rule barring migrants at US-\n",
      "Mexico border from claiming asylum Four cartoonists detained in Turkey\n",
      "over image authorities say depicts the Prophet Mohammed Analysis\n",
      "Prophecy, not politics, may also shape America’s clash with Iran\n",
      "Princess Diana’s ‘caring dress’ fetches over $500,000 in largest\n",
      "auction of late royal’s fashion Subscribe Sign in My Account Settings\n",
      "Newsletters Topics you follow Sign out Your CNN account Sign in to\n",
      "your CNN account Live TV Listen Watch World Africa Americas Asia\n",
      "Australia China Europe India Middle East United Kingdom US Politics\n",
      "Trump Facts First CNN Polls 2025 Elections Business Tech Media\n",
      "Calculators Videos Markets Pre-markets After-Hours Fear & Greed\n",
      "Investing Markets Now Nightcap Health Life, But Better Fitness Food\n",
      "Sleep Mindfulness Relationships Entertainment Movies Television\n",
      "Celebrity Tech Innovate Foreseeable Future Mission: Ahead Work\n",
      "Transformed Innovative Cities Style Arts Design Fashion Architecture\n",
      "Luxury Beauty Video Travel Destinations Food & Drink Stay News Videos\n",
      "Sports Football Tennis Golf Motorsport US Sports Olympics Climbing\n",
      "Esports Hockey Science Space Life Unearthed Climate Solutions Weather\n",
      "Weather Video Climate Ukraine-Russia War Israel-Hamas War Features As\n",
      "Equals Call to Earth Freedom Project Impact Your World Inside Africa\n",
      "CNN Heroes Watch Live TV CNN Fast Shows A-Z CNN10 CNN Max CNN TV\n",
      "Schedules Listen CNN 5 Things Chasing Life with Dr. Sanjay Gupta The\n",
      "Assignment with Audie Cornish One Thing Tug of War CNN Political\n",
      "Briefing The Axe Files All There Is with Anderson Cooper All CNN Audio\n",
      "podcasts Games Daily Crossword Jumble Crossword Sudoblock Sudoku 5\n",
      "Things Quiz About CNN Photos Investigations CNN Profiles CNN\n",
      "Leadership CNN Newsletters Work for CNN Watch Listen Live TV Follow\n",
      "CNN Subscribe Sign in My Account Settings Newsletters Topics you\n",
      "follow Sign out Your CNN account Sign in to your CNN account Terms of\n",
      "Use Privacy Policy Cookie Settings Ad Choices Accessibility & CC About\n",
      "Newsletters Transcripts © 2025 Cable News Network. A Warner Bros.\n",
      "Discovery Company. All Rights Reserved. CNN Sans ™ & © 2016 Cable News\n",
      "Network. Privacy Policy For privacy options, please see our privacy\n",
      "policy: https://www.cnn.com/privacy . Back Button Cookie List Search\n",
      "Icon Filter Icon Clear checkbox label label Apply Cancel Consent\n",
      "Leg.Interest checkbox label label checkbox label label checkbox label\n",
      "label Close\n"
     ]
    }
   ],
   "source": [
    "import textwrap\n",
    "print(textwrap.fill(text))"
   ]
  },
  {
   "cell_type": "code",
   "execution_count": 11,
   "metadata": {},
   "outputs": [],
   "source": [
    "all_tools = tools + [tool_push]"
   ]
  },
  {
   "cell_type": "code",
   "execution_count": 12,
   "metadata": {},
   "outputs": [],
   "source": [
    "\n",
    "llm = ChatOpenAI(model=\"gpt-4o-mini\")\n",
    "llm_with_tools = llm.bind_tools(all_tools)\n",
    "\n",
    "\n",
    "def chatbot(state: State):\n",
    "    return {\"messages\": [llm_with_tools.invoke(state[\"messages\"])]}\n"
   ]
  },
  {
   "cell_type": "code",
   "execution_count": 13,
   "metadata": {},
   "outputs": [
    {
     "data": {
      "image/png": "[encoded data removed]",
      "text/plain": [
       "<IPython.core.display.Image object>"
      ]
     },
     "metadata": {},
     "output_type": "display_data"
    }
   ],
   "source": [
    "\n",
    "graph_builder = StateGraph(State)\n",
    "graph_builder.add_node(\"chatbot\", chatbot)\n",
    "graph_builder.add_node(\"tools\", ToolNode(tools=all_tools))\n",
    "graph_builder.add_conditional_edges( \"chatbot\", tools_condition, \"tools\")\n",
    "graph_builder.add_edge(\"tools\", \"chatbot\")\n",
    "graph_builder.add_edge(START, \"chatbot\")\n",
    "\n",
    "memory = MemorySaver()\n",
    "graph = graph_builder.compile(checkpointer=memory)\n",
    "display(Image(graph.get_graph().draw_mermaid_png()))"
   ]
  },
  {
   "cell_type": "code",
   "execution_count": 14,
   "metadata": {},
   "outputs": [
    {
     "name": "stdout",
     "output_type": "stream",
     "text": [
      "* Running on local URL:  http://127.0.0.1:7861\n",
      "* To create a public link, set `share=True` in `launch()`.\n"
     ]
    },
    {
     "data": {
      "text/html": [
       "<div><iframe src=\"http://127.0.0.1:7861/\" width=\"100%\" height=\"500\" allow=\"autoplay; camera; microphone; clipboard-read; clipboard-write;\" frameborder=\"0\" allowfullscreen></iframe></div>"
      ],
      "text/plain": [
       "<IPython.core.display.HTML object>"
      ]
     },
     "metadata": {},
     "output_type": "display_data"
    },
    {
     "data": {
      "text/plain": []
     },
     "execution_count": 14,
     "metadata": {},
     "output_type": "execute_result"
    }
   ],
   "source": [
    "config = {\"configurable\": {\"thread_id\": \"10\"}}\n",
    "\n",
    "async def chat(user_input: str, history):\n",
    "    result = await graph.ainvoke({\"messages\": [{\"role\": \"user\", \"content\": user_input}]}, config=config)\n",
    "    return result[\"messages\"][-1].content\n",
    "\n",
    "\n",
    "gr.ChatInterface(chat, type=\"messages\").launch()"
   ]
  },
  {
   "cell_type": "code",
   "execution_count": null,
   "metadata": {},
   "outputs": [],
   "source": []
  }
 ],
 "metadata": {
  "kernelspec": {
   "display_name": ".venv",
   "language": "python",
   "name": "python3"
  },
  "language_info": {
   "codemirror_mode": {
    "name": "ipython",
    "version": 3
   },
   "file_extension": ".py",
   "mimetype": "text/x-python",
   "name": "python",
   "nbconvert_exporter": "python",
   "pygments_lexer": "ipython3",
   "version": "3.12.3"
  }
 },
 "nbformat": 4,
 "nbformat_minor": 2
}
