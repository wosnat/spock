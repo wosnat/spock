{
 "cells": [
  {
   "cell_type": "markdown",
   "metadata": {},
   "source": [
    "## Welcome to Week 4, Day 4\n",
    "\n",
    "This is the start of an AWESOME project! Really simple and very effective."
   ]
  },
  {
   "cell_type": "markdown",
   "metadata": {},
   "source": [
    "### First - a heads up for Windows PC users\n",
    "\n",
    "While executing this notebook, you might hit a problem with the Playwright browser raising a NotImplementedError.\n",
    "\n",
    "This should work when we move to python modules, but it can cause problems in Windows in a notebook.\n",
    "\n",
    "If you it this error and would like to run the notebook, you need to make a small change which seems quite hacky!\n",
    "\n",
    "1. Right click in `.venv` in the File Explorer on the left and select \"Find in folder\"\n",
    "2. Search for `asyncio.set_event_loop_policy(WindowsSelectorEventLoopPolicy())`  \n",
    "3. That code should be found in a line of code in a file called `kernelapp.py`\n",
    "4. Comment out the entire else clause that this line is a part of - see the fragment below\n",
    "5. Restart the kernel by pressing the \"Restart\" button above\n",
    "\n",
    "```python\n",
    "        if sys.platform.startswith(\"win\") and sys.version_info >= (3, 8):\n",
    "            import asyncio\n",
    " \n",
    "            try:\n",
    "                from asyncio import WindowsProactorEventLoopPolicy, WindowsSelectorEventLoopPolicy\n",
    "            except ImportError:\n",
    "                pass\n",
    "                # not affected\n",
    "           # else:\n",
    "            #    if type(asyncio.get_event_loop_policy()) is WindowsProactorEventLoopPolicy:\n",
    "                    # WindowsProactorEventLoopPolicy is not compatible with tornado 6\n",
    "                    # fallback to the pre-3.8 default of Selector\n",
    "                    # asyncio.set_event_loop_policy(WindowsSelectorEventLoopPolicy())\n",
    "```\n",
    "\n",
    "Thank you to student Nicolas for finding this, and to Kalyan, Yaki, Zibin and Bhaskar for confirming that this worked for them!\n",
    "\n",
    "As an alternative, you can just move to a Python module (which we do anyway in Day 5)"
   ]
  },
  {
   "cell_type": "code",
   "execution_count": 2,
   "metadata": {},
   "outputs": [],
   "source": [
    "from typing import Annotated\n",
    "from typing_extensions import TypedDict\n",
    "from langgraph.graph import StateGraph, START\n",
    "from langgraph.graph.message import add_messages\n",
    "from dotenv import load_dotenv\n",
    "from IPython.display import Image, display\n",
    "import gradio as gr\n",
    "from langgraph.prebuilt import ToolNode, tools_condition\n",
    "import requests\n",
    "import os\n",
    "from langchain.agents import Tool\n",
    "\n",
    "from langchain_openai import ChatOpenAI\n",
    "from langgraph.checkpoint.memory import MemorySaver"
   ]
  },
  {
   "cell_type": "code",
   "execution_count": 3,
   "metadata": {},
   "outputs": [
    {
     "data": {
      "text/plain": [
       "True"
      ]
     },
     "execution_count": 3,
     "metadata": {},
     "output_type": "execute_result"
    }
   ],
   "source": [
    "load_dotenv(override=True)"
   ]
  },
  {
   "cell_type": "markdown",
   "metadata": {},
   "source": [
    "### Asynchronous LangGraph\n",
    "\n",
    "To run a tool:  \n",
    "Sync: `tool.run(inputs)`  \n",
    "Async: `await tool.arun(inputs)`\n",
    "\n",
    "To invoke the graph:  \n",
    "Sync: `graph.invoke(state)`  \n",
    "Async: `await graph.ainvoke(state)`"
   ]
  },
  {
   "cell_type": "code",
   "execution_count": 4,
   "metadata": {},
   "outputs": [],
   "source": [
    "class State(TypedDict):\n",
    "    \n",
    "    messages: Annotated[list, add_messages]\n",
    "\n",
    "\n",
    "graph_builder = StateGraph(State)"
   ]
  },
  {
   "cell_type": "code",
   "execution_count": 5,
   "metadata": {},
   "outputs": [],
   "source": [
    "pushover_token = os.getenv(\"PUSHOVER_TOKEN\")\n",
    "pushover_user = os.getenv(\"PUSHOVER_USER\")\n",
    "pushover_url = \"https://api.pushover.net/1/messages.json\"\n",
    "\n",
    "def push(text: str):\n",
    "    \"\"\"Send a push notification to the user\"\"\"\n",
    "    requests.post(pushover_url, data = {\"token\": pushover_token, \"user\": pushover_user, \"message\": text})\n",
    "\n",
    "tool_push = Tool(\n",
    "        name=\"send_push_notification\",\n",
    "        func=push,\n",
    "        description=\"useful for when you want to send a push notification\"\n",
    "    )"
   ]
  },
  {
   "cell_type": "markdown",
   "metadata": {},
   "source": [
    "### Next: Install Playwright\n",
    "\n",
    "On Windows and MacOS:  \n",
    "`playwright install`\n",
    "\n",
    "On Linux:  \n",
    "`playwright install —with-reps chromium`"
   ]
  },
  {
   "cell_type": "markdown",
   "metadata": {},
   "source": [
    "### Introducing nest_asyncio\n",
    "\n",
    "Python async code only allows for one \"event loop\" processing aynchronous events.\n",
    "\n",
    "The `nest_asyncio` library patches this, and is used for special situations, if you need to run a nested event loop.\n",
    "\n"
   ]
  },
  {
   "cell_type": "code",
   "execution_count": 6,
   "metadata": {},
   "outputs": [],
   "source": [
    "import nest_asyncio\n",
    "nest_asyncio.apply()"
   ]
  },
  {
   "cell_type": "markdown",
   "metadata": {},
   "source": [
    "### The LangChain community\n",
    "\n",
    "One of the remarkable things about LangChain is the rich community around it.\n",
    "\n",
    "Check this out:\n"
   ]
  },
  {
   "cell_type": "code",
   "execution_count": 7,
   "metadata": {},
   "outputs": [],
   "source": [
    "from langchain_community.agent_toolkits import PlayWrightBrowserToolkit\n",
    "from langchain_community.tools.playwright.utils import create_async_playwright_browser\n",
    "\n",
    "# If you get a NotImplementedError here or later, see the Heads Up at the top of the notebook\n",
    "\n",
    "async_browser =  create_async_playwright_browser(headless=False)  # headful mode\n",
    "toolkit = PlayWrightBrowserToolkit.from_browser(async_browser=async_browser)\n",
    "tools = toolkit.get_tools()"
   ]
  },
  {
   "cell_type": "code",
   "execution_count": 8,
   "metadata": {},
   "outputs": [
    {
     "name": "stdout",
     "output_type": "stream",
     "text": [
      "click_element=async_browser=<Browser type=<BrowserType name=chromium executable_path=/home/osnat/.cache/ms-playwright/chromium-1179/chrome-linux/chrome> version=138.0.7204.23>\n",
      "navigate_browser=async_browser=<Browser type=<BrowserType name=chromium executable_path=/home/osnat/.cache/ms-playwright/chromium-1179/chrome-linux/chrome> version=138.0.7204.23>\n",
      "previous_webpage=async_browser=<Browser type=<BrowserType name=chromium executable_path=/home/osnat/.cache/ms-playwright/chromium-1179/chrome-linux/chrome> version=138.0.7204.23>\n",
      "extract_text=async_browser=<Browser type=<BrowserType name=chromium executable_path=/home/osnat/.cache/ms-playwright/chromium-1179/chrome-linux/chrome> version=138.0.7204.23>\n",
      "extract_hyperlinks=async_browser=<Browser type=<BrowserType name=chromium executable_path=/home/osnat/.cache/ms-playwright/chromium-1179/chrome-linux/chrome> version=138.0.7204.23>\n",
      "get_elements=async_browser=<Browser type=<BrowserType name=chromium executable_path=/home/osnat/.cache/ms-playwright/chromium-1179/chrome-linux/chrome> version=138.0.7204.23>\n",
      "current_webpage=async_browser=<Browser type=<BrowserType name=chromium executable_path=/home/osnat/.cache/ms-playwright/chromium-1179/chrome-linux/chrome> version=138.0.7204.23>\n"
     ]
    }
   ],
   "source": [
    "for tool in tools:\n",
    "    print(f\"{tool.name}={tool}\")"
   ]
  },
  {
   "cell_type": "code",
   "execution_count": 9,
   "metadata": {},
   "outputs": [],
   "source": [
    "tool_dict = {tool.name:tool for tool in tools}\n",
    "\n",
    "navigate_tool = tool_dict.get(\"navigate_browser\")\n",
    "extract_text_tool = tool_dict.get(\"extract_text\")\n",
    "\n",
    "    \n",
    "await navigate_tool.arun({\"url\": \"https://www.cnn.com\"})\n",
    "text = await extract_text_tool.arun({})"
   ]
  },
  {
   "cell_type": "code",
   "execution_count": 10,
   "metadata": {},
   "outputs": [
    {
     "name": "stdout",
     "output_type": "stream",
     "text": [
      "Breaking News, Latest News and Videos | CNN CNN values your feedback\n",
      "1. How relevant is this ad to you? 2. Did you encounter any technical\n",
      "issues? No Video player was slow to load content Video content never\n",
      "loaded Ad froze or did not finish loading Video content did not start\n",
      "after ad Audio on ad was too loud Other issues Ad never loaded Ad\n",
      "prevented/slowed the page from loading Content moved around while ad\n",
      "loaded Ad was repetitive to ads I've seen previously Other issues\n",
      "Cancel Submit Thank You! Your effort and contribution in providing\n",
      "this feedback is much\n",
      "appreciated. Close Ad Feedback Close icon US World Politics Business\n",
      "Health Entertainment Style Travel Sports Science Climate Weather\n",
      "Ukraine-Russia War Israel-Hamas War Games More US World Politics\n",
      "Business Health Entertainment Style Travel Sports Science Climate\n",
      "Weather Ukraine-Russia War Israel-Hamas War Games Watch Listen Live TV\n",
      "Subscribe Sign in My Account Settings Newsletters Topics you follow\n",
      "Sign out Your CNN account Sign in to your CNN account Sign in My\n",
      "Account Settings Newsletters Topics you follow Sign out Your CNN\n",
      "account Sign in to your CNN account Live TV Listen Watch Edition US\n",
      "International Arabic Español Edition US International Arabic Español\n",
      "World Africa Americas Asia Australia China Europe India Middle East\n",
      "United Kingdom US Politics Trump Facts First CNN Polls 2025 Elections\n",
      "Business Tech Media Calculators Videos Markets Pre-markets After-Hours\n",
      "Fear & Greed Investing Markets Now Nightcap Health Life, But Better\n",
      "Fitness Food Sleep Mindfulness Relationships Entertainment Movies\n",
      "Television Celebrity Tech Innovate Foreseeable Future Mission: Ahead\n",
      "Work Transformed Innovative Cities Style Arts Design Fashion\n",
      "Architecture Luxury Beauty Video Travel Destinations Food & Drink Stay\n",
      "News Videos Sports Football Tennis Golf Motorsport US Sports Olympics\n",
      "Climbing Esports Hockey Science Space Life Unearthed Climate Solutions\n",
      "Weather Weather Video Climate Ukraine-Russia War Israel-Hamas War\n",
      "Features As Equals Call to Earth Freedom Project Impact Your World\n",
      "Inside Africa CNN Heroes Watch Live TV CNN Fast Shows A-Z CNN10 CNN\n",
      "Max CNN TV Schedules Listen CNN 5 Things Chasing Life with Dr. Sanjay\n",
      "Gupta The Assignment with Audie Cornish One Thing Tug of War CNN\n",
      "Political Briefing The Axe Files All There Is with Anderson Cooper All\n",
      "CNN Audio podcasts Games Daily Crossword Jumble Crossword Sudoblock\n",
      "Sudoku 5 Things Quiz About CNN Photos Investigations CNN Profiles CNN\n",
      "Leadership CNN Newsletters Work for CNN Follow CNN Musk’s fallout with\n",
      "Trump British Grand Prix Dalai Lama’s 90th birthday WNBA controversy\n",
      "BRICS summit Diogo Jota tributes Iran’s supreme leader Saul\n",
      "Loeb/AFP/Getty Images How foreign diplomats say Trump has upended Oval\n",
      "Office visits Alex Wong/Getty Images Trump’s ‘reciprocal’ tariff pause\n",
      "is about to expire. Cue the confusion Chip Somodevilla/Getty Images\n",
      "Musk says he is forming new political party after falling out with\n",
      "Trump Death toll in catastrophic Texas floods rises to 67 Show all •\n",
      "Live Updates Live Updates Getty Images, Reuters, AP • Live Updates\n",
      "Live Updates Live Updates Hundreds of volunteers comb the banks of a\n",
      "tributary of the Guadalupe River, searching for those still missing\n",
      "Robert Ivey Video Timelapse video shows speed of floodwater rising in\n",
      "Texas 0:31 Jul 6, 2025 Eric Vryn/Getty Images Beleaguered Weather\n",
      "Service defends its forecasts as Texas officials point fingers over\n",
      "flood warnings Jul 6, 2025 CNN/Ricky Gonzalez Video Man describes\n",
      "narrowly escaping Airbnb during Texas flash flooding 1:16 Jul 6, 2025\n",
      "Play CNN Headlines - Source: CNN Video Watch the latest CNN Headlines\n",
      "Anushree Fadnavis/Reuters Dalai Lama marks his 90th birthday as crowds\n",
      "throng his home-in-exile At 90, the Dalai Lama braces for final\n",
      "showdown with Beijing: his reincarnation Ad Feedback More top stories\n",
      "Sean Gallup/Getty Images Calls are mounting to ban Germany’s far-right\n",
      "AfD party – despite it being more popular than ever Wildfires sweep\n",
      "through forests in drought-hit Syrian coast in major test for new\n",
      "government Why Chinese leader Xi Jinping is skipping this year’s BRICS\n",
      "summit Iran’s supreme leader appears in public for first time since\n",
      "start of Israel conflict Video Protests continue in Israel amid\n",
      "ceasefire negotiations 0:48 Peter Byrne/PA Images/Getty Images Diogo\n",
      "Jota’s death is the latest tragedy to befall Liverpool Vincent\n",
      "Carchietta/Imagn Images/Reuters Kylian Mbappé’s stunning bicycle kick\n",
      "propels Real Madrid to win over Borussia Dortmund, and Club World Cup\n",
      "semifinals Andrea Pistolesi/Stone RF/Getty Images ‘I will never regret\n",
      "coming’: 24-year-old solo female traveler recaps 104-hour escape from\n",
      "Iran Ad Feedback Chris Weeks/WireImage/Getty Images ‘Fantastic Four’\n",
      "and ‘Nip/Tuck’ star Julian McMahon dead at 56 Jul 5, 2025 Martinez\n",
      "Velez/Europa Press/Getty Images The changes coming to European hand-\n",
      "luggage rules Jul 5, 2025 VINCENZO PINTO/AFP/AFP via Getty Images\n",
      "Video See where Pope Leo XIV is going on vacation 2:32 Jul 6, 2025\n",
      "s.ap arkitektar An ambitious vision of a city built from lava Jul 4,\n",
      "2025 Ad Feedback Andrew Boyers/Reuters Lando Norris wins controversial\n",
      "British Grand Prix after Oscar Piastri penalized Ali Gradischer/Getty\n",
      "Images Faith Kipyegon and Beatrice Chebet smash world records at an\n",
      "extraordinary Diamond League meeting Courtesy Adrian Clouatre ICE\n",
      "detains breastfeeding mom as her Marine veteran husband fights for her\n",
      "freedom • Video 1:30 CNN Video CNN takes a look at one of China’s\n",
      "largest warships 1:30 Scott A Garfitt/Invision/AP Oasis returns after\n",
      "16-year hiatus to a UK crowd ecstatic for the band’s 1990s hits NASA\n",
      "Earth is as far away from the sun as it gets. So why is it so hot? •\n",
      "Analysis Analysis Eric Lee/Getty Images Analysis Why Trump’s hold on\n",
      "the GOP Congress may threaten its hold on power Erica Denhoff/Cal\n",
      "Sport Media/AP How a journalist’s questions about a physical WNBA play\n",
      "spiraled into a controversy involving race Mirrorpix/Getty Images He\n",
      "won Wimbledon 50 years ago. To this day, his legacy still stretches\n",
      "way beyond the court Jack Guez/AFP/Getty Images A Gaza ceasefire is\n",
      "the closest it has been in months. Here’s what we know • Video 1:40\n",
      "CNN Video The search for the Colossal Squid 1:40 Ad Feedback Featured\n",
      "Sections Space and science Courtesy Alan W Chambers He’s searching for\n",
      "a human-made problem in areas largely untouched by humans. Answers are\n",
      "just emerging Long-dead satellite emits strong radio signal, puzzling\n",
      "astronomers Scientists say they have identified Earth’s oldest rocks\n",
      "Gallery Bearded vultures make a return Global Travel Show all Matthew\n",
      "Holler She ditched New York for Paris at the age of 79 but stumbled at\n",
      "the first hurdle 20 of Canada’s best foods (Sorry, Hawaiian pizza did\n",
      "not make the list) This hilltop town is one of Europe’s smallest — and\n",
      "most unusual — countries He fell in love at first sight with a\n",
      "stranger at the Trevi Fountain: ‘Like a present from the sky, she\n",
      "arrived’ Ad Feedback Global Business Graeme Sloan/Bloomberg/Getty\n",
      "Images Bessent says tariffs will ‘boomerang’ to ‘Liberation Day’\n",
      "levels if countries fail to negotiate deals Analysis Why the GOP\n",
      "doesn’t want Americans biking to work but will spend millions on a\n",
      "‘heroes’ sculpture garden Trump wants more skilled tradespeople. His\n",
      "Labor Department is trying to cut off a pipeline of workers It’s not\n",
      "just workers that can benefit from a four-day week, a trial suggests\n",
      "Art and Style Courtesy Pyri This pinecone-sized device could transform\n",
      "the fight against wildfires Photographer finds surreal beauty — and\n",
      "few humans — inside a Chinese EV factory Photographer shows the\n",
      "secretive, colorful world of Ghanaian funerals Dior’s next chapter,\n",
      "zoot suits and a Wes Anderson easter egg: What we saw at the Paris\n",
      "Fashion Week men’s shows SPORT Show all Kyusung Gong/AP Los Angeles\n",
      "suffers worst ever loss at Dodger Stadium as Houston Astros win 18-1\n",
      "Having seen ‘very toxic’ climates in NFL locker rooms, this player is\n",
      "leading change with LGBTQ-targeted youth football camp More big names\n",
      "are out of Wimbledon than ever before. Here’s why McLaren’s Lando\n",
      "Norris on the dream and dilemma fueling his F1 title ambitions Ad\n",
      "Feedback US Politics POOL Trump signs his agenda bill, with a flyover\n",
      "to mark the occasion Democrats going after Trump’s megabill tell their\n",
      "own stories of needing Medicaid and other aid programs Why Roberts and\n",
      "Gorsuch may decide the Supreme Court’s blockbuster transgender sports\n",
      "case Trump claims he wasn’t aware the term ‘Shylock’ is viewed as\n",
      "antisemitic health and wellness Aaron Lockwood This overlooked aspect\n",
      "of fitness affects everything There is no safe amount of processed\n",
      "meat to eat, according to new research Transforming secondhand finds\n",
      "into treasures The cost of loneliness can be death. Here’s how to find\n",
      "good friends Tech Viktoriia Lomtieva/iStockphoto/Getty Images How to\n",
      "tell if you have a ‘dopamine deficit’ and what you can do to reset\n",
      "This man says ChatGPT sparked a ‘spiritual awakening.’ His wife says\n",
      "it threatens their marriage Video How AI can help ease the strain on\n",
      "health care services 4:39 Microsoft to lay off around 9,000 workers in\n",
      "its largest cuts since 2023 Photos You Should See • Gallery Gallery\n",
      "Peter Byrne/PA/AP Gallery In pictures: Remembering Diogo Jota •\n",
      "Gallery Gallery Ronaldo Schemidt/AFP/Getty Images Gallery In pictures:\n",
      "Deadly flooding in Texas • Gallery Gallery Jean\n",
      "Cummings/THA/Shutterstock Gallery People we’ve lost in 2025 • Gallery\n",
      "Gallery Julian Dakdouk/PictureGroup/Shutterstock Gallery The last week\n",
      "in 36 photos • Gallery Gallery Hansruedi Weyrich/Vulture Conservation\n",
      "Foundation Gallery Bearded vultures make a return • Gallery Gallery\n",
      "Royce L. Bair/DarkSky International Gallery Protecting our night skies\n",
      "from light pollution Ad Feedback In Case You Missed It Jane\n",
      "Rosenberg/Reuters What it was like inside the courtroom during the\n",
      "Sean ‘Diddy’ Combs trial Trump could derail Mamdani’s ambitious\n",
      "housing agenda ICE raids are turning parts of the US’ second biggest\n",
      "city into ghost towns America’s tariff-driven buying spree leaves\n",
      "households saddled with debt and financially vulnerable Activists\n",
      "sound alarm over US cuts to programs promoting democracy in Iran Judge\n",
      "blocks Trump’s rule barring migrants at US-Mexico border from claiming\n",
      "asylum Four cartoonists detained in Turkey over image authorities say\n",
      "depicts the Prophet Mohammed Analysis Prophecy, not politics, may also\n",
      "shape America’s clash with Iran Princess Diana’s ‘caring dress’\n",
      "fetches over $500,000 in largest auction of late royal’s fashion\n",
      "Subscribe Sign in My Account Settings Newsletters Topics you follow\n",
      "Sign out Your CNN account Sign in to your CNN account Live TV Listen\n",
      "Watch World Africa Americas Asia Australia China Europe India Middle\n",
      "East United Kingdom US Politics Trump Facts First CNN Polls 2025\n",
      "Elections Business Tech Media Calculators Videos Markets Pre-markets\n",
      "After-Hours Fear & Greed Investing Markets Now Nightcap Health Life,\n",
      "But Better Fitness Food Sleep Mindfulness Relationships Entertainment\n",
      "Movies Television Celebrity Tech Innovate Foreseeable Future Mission:\n",
      "Ahead Work Transformed Innovative Cities Style Arts Design Fashion\n",
      "Architecture Luxury Beauty Video Travel Destinations Food & Drink Stay\n",
      "News Videos Sports Football Tennis Golf Motorsport US Sports Olympics\n",
      "Climbing Esports Hockey Science Space Life Unearthed Climate Solutions\n",
      "Weather Weather Video Climate Ukraine-Russia War Israel-Hamas War\n",
      "Features As Equals Call to Earth Freedom Project Impact Your World\n",
      "Inside Africa CNN Heroes Watch Live TV CNN Fast Shows A-Z CNN10 CNN\n",
      "Max CNN TV Schedules Listen CNN 5 Things Chasing Life with Dr. Sanjay\n",
      "Gupta The Assignment with Audie Cornish One Thing Tug of War CNN\n",
      "Political Briefing The Axe Files All There Is with Anderson Cooper All\n",
      "CNN Audio podcasts Games Daily Crossword Jumble Crossword Sudoblock\n",
      "Sudoku 5 Things Quiz About CNN Photos Investigations CNN Profiles CNN\n",
      "Leadership CNN Newsletters Work for CNN Watch Listen Live TV Follow\n",
      "CNN Subscribe Sign in My Account Settings Newsletters Topics you\n",
      "follow Sign out Your CNN account Sign in to your CNN account Terms of\n",
      "Use Privacy Policy Cookie Settings Ad Choices Accessibility & CC About\n",
      "Newsletters Transcripts © 2025 Cable News Network. A Warner Bros.\n",
      "Discovery Company. All Rights Reserved. CNN Sans ™ & © 2016 Cable News\n",
      "Network. Privacy Policy For privacy options, please see our privacy\n",
      "policy: https://www.cnn.com/privacy . Back Button Cookie List Search\n",
      "Icon Filter Icon Clear checkbox label label Apply Cancel Consent\n",
      "Leg.Interest checkbox label label checkbox label label checkbox label\n",
      "label Close\n"
     ]
    }
   ],
   "source": [
    "import textwrap\n",
    "print(textwrap.fill(text))"
   ]
  },
  {
   "cell_type": "code",
   "execution_count": 11,
   "metadata": {},
   "outputs": [],
   "source": [
    "all_tools = tools + [tool_push]"
   ]
  },
  {
   "cell_type": "code",
   "execution_count": 12,
   "metadata": {},
   "outputs": [],
   "source": [
    "\n",
    "llm = ChatOpenAI(model=\"gpt-4o-mini\")\n",
    "llm_with_tools = llm.bind_tools(all_tools)\n",
    "\n",
    "\n",
    "def chatbot(state: State):\n",
    "    return {\"messages\": [llm_with_tools.invoke(state[\"messages\"])]}\n"
   ]
  },
  {
   "cell_type": "code",
   "execution_count": 13,
   "metadata": {},
   "outputs": [
    {
     "data": {
      "image/png": "[encoded data removed]",
      "text/plain": [
       "<IPython.core.display.Image object>"
      ]
     },
     "metadata": {},
     "output_type": "display_data"
    }
   ],
   "source": [
    "\n",
    "graph_builder = StateGraph(State)\n",
    "graph_builder.add_node(\"chatbot\", chatbot)\n",
    "graph_builder.add_node(\"tools\", ToolNode(tools=all_tools))\n",
    "graph_builder.add_conditional_edges( \"chatbot\", tools_condition, \"tools\")\n",
    "graph_builder.add_edge(\"tools\", \"chatbot\")\n",
    "graph_builder.add_edge(START, \"chatbot\")\n",
    "\n",
    "memory = MemorySaver()\n",
    "graph = graph_builder.compile(checkpointer=memory)\n",
    "display(Image(graph.get_graph().draw_mermaid_png()))"
   ]
  },
  {
   "cell_type": "code",
   "execution_count": 14,
   "metadata": {},
   "outputs": [
    {
     "name": "stdout",
     "output_type": "stream",
     "text": [
      "* Running on local URL:  http://127.0.0.1:7861\n",
      "* To create a public link, set `share=True` in `launch()`.\n"
     ]
    },
    {
     "data": {
      "text/html": [
       "<div><iframe src=\"http://127.0.0.1:7861/\" width=\"100%\" height=\"500\" allow=\"autoplay; camera; microphone; clipboard-read; clipboard-write;\" frameborder=\"0\" allowfullscreen></iframe></div>"
      ],
      "text/plain": [
       "<IPython.core.display.HTML object>"
      ]
     },
     "metadata": {},
     "output_type": "display_data"
    },
    {
     "data": {
      "text/plain": []
     },
     "execution_count": 14,
     "metadata": {},
     "output_type": "execute_result"
    }
   ],
   "source": [
    "config = {\"configurable\": {\"thread_id\": \"10\"}}\n",
    "\n",
    "async def chat(user_input: str, history):\n",
    "    result = await graph.ainvoke({\"messages\": [{\"role\": \"user\", \"content\": user_input}]}, config=config)\n",
    "    return result[\"messages\"][-1].content\n",
    "\n",
    "\n",
    "gr.ChatInterface(chat, type=\"messages\").launch()"
   ]
  },
  {
   "cell_type": "code",
   "execution_count": null,
   "metadata": {},
   "outputs": [],
   "source": []
  }
 ],
 "metadata": {
  "kernelspec": {
   "display_name": ".venv",
   "language": "python",
   "name": "python3"
  },
  "language_info": {
   "codemirror_mode": {
    "name": "ipython",
    "version": 3
   },
   "file_extension": ".py",
   "mimetype": "text/x-python",
   "name": "python",
   "nbconvert_exporter": "python",
   "pygments_lexer": "ipython3",
   "version": "3.12.3"
  }
 },
 "nbformat": 4,
 "nbformat_minor": 2
}
