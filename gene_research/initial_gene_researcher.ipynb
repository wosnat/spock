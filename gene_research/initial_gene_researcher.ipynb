{
 "cells": [
  {
   "cell_type": "markdown",
   "id": "988c9cc8",
   "metadata": {},
   "source": [
    "# Initial gene researcher\n",
    "\n",
    "Do research on the given genes and generate an inital entry\n",
    "\n"
   ]
  },
  {
   "cell_type": "code",
   "execution_count": 1,
   "id": "d6f3f1a6",
   "metadata": {},
   "outputs": [
    {
     "data": {
      "text/plain": [
       "True"
      ]
     },
     "execution_count": 1,
     "metadata": {},
     "output_type": "execute_result"
    }
   ],
   "source": [
    "import os\n",
    "\n",
    "# load environment variables from .env file (requires `python-dotenv`)\n",
    "from dotenv import load_dotenv\n",
    "\n",
    "load_dotenv(override=True)\n",
    "\n"
   ]
  },
  {
   "cell_type": "code",
   "execution_count": null,
   "id": "d2156c6d",
   "metadata": {},
   "outputs": [],
   "source": []
  },
  {
   "cell_type": "code",
   "execution_count": 2,
   "id": "6c75ab04",
   "metadata": {},
   "outputs": [],
   "source": [
    "import gene_db_classes \n",
    "import gene_db_prompts as gene_db_prompts"
   ]
  },
  {
   "cell_type": "markdown",
   "id": "b1186290",
   "metadata": {},
   "source": [
    "# run a sample query with openai"
   ]
  },
  {
   "cell_type": "code",
   "execution_count": 3,
   "id": "a6f7f433",
   "metadata": {},
   "outputs": [],
   "source": [
    "# Initialize the chat model with OpenAI's GPT-4o-mini\n",
    "# pip install -qU \"langchain[openai]\"\n",
    "from langchain.chat_models import init_chat_model\n",
    "\n",
    "llm = init_chat_model(\"gpt-4o-mini\", model_provider=\"openai\", temperature=0.0)\n",
    "structured_llm = llm.with_structured_output(gene_db_classes.GeneResearchSummarySimple)"
   ]
  },
  {
   "cell_type": "code",
   "execution_count": 4,
   "id": "1e665f3b",
   "metadata": {},
   "outputs": [],
   "source": [
    "\n",
    "openai_web_search_tool = {\"type\": \"web_search_preview\"}\n",
    "structured_llm = llm.bind_tools(\n",
    "    [openai_web_search_tool],\n",
    "    response_format=gene_db_classes.GeneResearchSummarySimple,\n",
    "    strict=True,\n",
    ")\n"
   ]
  },
  {
   "cell_type": "code",
   "execution_count": 5,
   "id": "305b3277",
   "metadata": {},
   "outputs": [],
   "source": [
    "query = '''\n",
    "What is cynS in Prochlorococcus MED4 and is it involved in bacterial interaction or nutrient exchange? \n",
    "Do not make up any information. If you don't know, try searching the web. \n",
    "If you still don't know, say 'I don't know'.\n",
    "'''\n",
    "\n",
    "sample_result = structured_llm.invoke(query)"
   ]
  },
  {
   "cell_type": "code",
   "execution_count": 6,
   "id": "60d706bd",
   "metadata": {},
   "outputs": [
    {
     "data": {
      "text/plain": [
       "{'content': [{'type': 'text',\n",
       "   'text': '{\"gene_name\":\"cynS\",\"gene_function\":\"Encodes cyanate lyase, an enzyme that catalyzes the conversion of cyanate to ammonia and carbon dioxide.\",\"research_findings\":[{\"finding_category\":\"gene function\",\"finding_sub_category\":\"cyanate utilization\",\"finding_description\":\"In Prochlorococcus sp. strain MED4, cynS is part of the cynABDS operon, indicating its role in cyanate utilization.\",\"finding_evidence\":\"Gene expression analysis\",\"finding_type\":\"gene function\",\"url\":\"https://pubmed.ncbi.nlm.nih.gov/21057026/\",\"title\":\"Characterization of cyanate metabolism in marine Synechococcus and Prochlorococcus spp\",\"citation\":\"Rangel et al., 2010\",\"organism\":\"Prochlorococcus sp. strain MED4\",\"phylogenetic_distance\":\"close\",\"additional_notes\":\"The cynS gene is prevalent among cyanobacteria, suggesting its importance in nitrogen metabolism.\",\"confidence_score\":9}]} ',\n",
       "   'annotations': []}],\n",
       " 'additional_kwargs': {'tool_outputs': [{'id': 'ws_686529d411c8819e9f69c226ea8b9f9909b20eeb25611907',\n",
       "    'status': 'completed',\n",
       "    'type': 'web_search_call',\n",
       "    'action': {'type': 'search',\n",
       "     'query': 'cynS Prochlorococcus MED4 bacterial interaction nutrient exchange'}}],\n",
       "  'parsed': {'gene_name': 'cynS',\n",
       "   'gene_function': 'Encodes cyanate lyase, an enzyme that catalyzes the conversion of cyanate to ammonia and carbon dioxide.',\n",
       "   'research_findings': [{'finding_category': 'gene function',\n",
       "     'finding_sub_category': 'cyanate utilization',\n",
       "     'finding_description': 'In Prochlorococcus sp. strain MED4, cynS is part of the cynABDS operon, indicating its role in cyanate utilization.',\n",
       "     'finding_evidence': 'Gene expression analysis',\n",
       "     'finding_type': 'gene function',\n",
       "     'url': 'https://pubmed.ncbi.nlm.nih.gov/21057026/',\n",
       "     'title': 'Characterization of cyanate metabolism in marine Synechococcus and Prochlorococcus spp',\n",
       "     'citation': 'Rangel et al., 2010',\n",
       "     'organism': 'Prochlorococcus sp. strain MED4',\n",
       "     'phylogenetic_distance': 'close',\n",
       "     'additional_notes': 'The cynS gene is prevalent among cyanobacteria, suggesting its importance in nitrogen metabolism.',\n",
       "     'confidence_score': 9}]}},\n",
       " 'response_metadata': {'id': 'resp_686529d39004819ebf5c186aebf52b9009b20eeb25611907',\n",
       "  'created_at': 1751460307.0,\n",
       "  'metadata': {},\n",
       "  'model': 'gpt-4o-mini-2024-07-18',\n",
       "  'object': 'response',\n",
       "  'service_tier': 'default',\n",
       "  'status': 'completed',\n",
       "  'model_name': 'gpt-4o-mini-2024-07-18'},\n",
       " 'type': 'ai',\n",
       " 'name': None,\n",
       " 'id': 'msg_686529d6be08819e81779dcd68fc677809b20eeb25611907',\n",
       " 'example': False,\n",
       " 'tool_calls': [],\n",
       " 'invalid_tool_calls': [],\n",
       " 'usage_metadata': {'input_tokens': 924,\n",
       "  'output_tokens': 220,\n",
       "  'total_tokens': 1144,\n",
       "  'output_token_details': {}}}"
      ]
     },
     "execution_count": 6,
     "metadata": {},
     "output_type": "execute_result"
    }
   ],
   "source": [
    "sample_result.model_dump()"
   ]
  },
  {
   "cell_type": "code",
   "execution_count": 7,
   "id": "2cf3c6c5",
   "metadata": {},
   "outputs": [
    {
     "data": {
      "text/plain": [
       "['__abstractmethods__',\n",
       " '__add__',\n",
       " '__annotations__',\n",
       " '__class__',\n",
       " '__class_getitem__',\n",
       " '__class_vars__',\n",
       " '__copy__',\n",
       " '__deepcopy__',\n",
       " '__delattr__',\n",
       " '__dict__',\n",
       " '__dir__',\n",
       " '__doc__',\n",
       " '__eq__',\n",
       " '__fields__',\n",
       " '__fields_set__',\n",
       " '__format__',\n",
       " '__ge__',\n",
       " '__get_pydantic_core_schema__',\n",
       " '__get_pydantic_json_schema__',\n",
       " '__getattr__',\n",
       " '__getattribute__',\n",
       " '__getstate__',\n",
       " '__gt__',\n",
       " '__hash__',\n",
       " '__init__',\n",
       " '__init_subclass__',\n",
       " '__iter__',\n",
       " '__le__',\n",
       " '__lt__',\n",
       " '__module__',\n",
       " '__ne__',\n",
       " '__new__',\n",
       " '__pretty__',\n",
       " '__private_attributes__',\n",
       " '__pydantic_complete__',\n",
       " '__pydantic_computed_fields__',\n",
       " '__pydantic_core_schema__',\n",
       " '__pydantic_custom_init__',\n",
       " '__pydantic_decorators__',\n",
       " '__pydantic_extra__',\n",
       " '__pydantic_fields__',\n",
       " '__pydantic_fields_set__',\n",
       " '__pydantic_generic_metadata__',\n",
       " '__pydantic_init_subclass__',\n",
       " '__pydantic_parent_namespace__',\n",
       " '__pydantic_post_init__',\n",
       " '__pydantic_private__',\n",
       " '__pydantic_root_model__',\n",
       " '__pydantic_serializer__',\n",
       " '__pydantic_setattr_handlers__',\n",
       " '__pydantic_validator__',\n",
       " '__reduce__',\n",
       " '__reduce_ex__',\n",
       " '__replace__',\n",
       " '__repr__',\n",
       " '__repr_args__',\n",
       " '__repr_name__',\n",
       " '__repr_recursion__',\n",
       " '__repr_str__',\n",
       " '__rich_repr__',\n",
       " '__setattr__',\n",
       " '__setstate__',\n",
       " '__signature__',\n",
       " '__sizeof__',\n",
       " '__slots__',\n",
       " '__str__',\n",
       " '__subclasshook__',\n",
       " '__weakref__',\n",
       " '_abc_impl',\n",
       " '_backwards_compat_tool_calls',\n",
       " '_calculate_keys',\n",
       " '_copy_and_set_values',\n",
       " '_get_value',\n",
       " '_iter',\n",
       " '_setattr_handler',\n",
       " 'additional_kwargs',\n",
       " 'construct',\n",
       " 'content',\n",
       " 'copy',\n",
       " 'dict',\n",
       " 'example',\n",
       " 'from_orm',\n",
       " 'get_lc_namespace',\n",
       " 'id',\n",
       " 'invalid_tool_calls',\n",
       " 'is_lc_serializable',\n",
       " 'json',\n",
       " 'lc_attributes',\n",
       " 'lc_id',\n",
       " 'lc_secrets',\n",
       " 'model_computed_fields',\n",
       " 'model_config',\n",
       " 'model_construct',\n",
       " 'model_copy',\n",
       " 'model_dump',\n",
       " 'model_dump_json',\n",
       " 'model_extra',\n",
       " 'model_fields',\n",
       " 'model_fields_set',\n",
       " 'model_json_schema',\n",
       " 'model_parametrized_name',\n",
       " 'model_post_init',\n",
       " 'model_rebuild',\n",
       " 'model_validate',\n",
       " 'model_validate_json',\n",
       " 'model_validate_strings',\n",
       " 'name',\n",
       " 'parse_file',\n",
       " 'parse_obj',\n",
       " 'parse_raw',\n",
       " 'pretty_print',\n",
       " 'pretty_repr',\n",
       " 'response_metadata',\n",
       " 'schema',\n",
       " 'schema_json',\n",
       " 'text',\n",
       " 'to_json',\n",
       " 'to_json_not_implemented',\n",
       " 'tool_calls',\n",
       " 'type',\n",
       " 'update_forward_refs',\n",
       " 'usage_metadata',\n",
       " 'validate']"
      ]
     },
     "execution_count": 7,
     "metadata": {},
     "output_type": "execute_result"
    }
   ],
   "source": [
    "dir(sample_result)"
   ]
  },
  {
   "cell_type": "markdown",
   "id": "eea963b8",
   "metadata": {},
   "source": [
    "# run a sample query with openai"
   ]
  },
  {
   "cell_type": "code",
   "execution_count": 8,
   "id": "282de51b",
   "metadata": {},
   "outputs": [],
   "source": [
    "# Initialize the chat model with OpenAI's GPT-4o-mini\n",
    "# pip install -qU \"langchain[openai]\"\n",
    "from langchain.chat_models import init_chat_model\n",
    "\n",
    "llm = init_chat_model(\"gpt-4o-mini\", model_provider=\"openai\", temperature=0.0)\n",
    "structured_llm = llm.with_structured_output(gene_db_classes.GeneResearchSummarySimple)"
   ]
  },
  {
   "cell_type": "markdown",
   "id": "31b96c40",
   "metadata": {},
   "source": [
    "\n",
    "openai_web_search_tool = {\"type\": \"web_search_preview\"}\n",
    "structured_llm = llm.bind_tools(\n",
    "    [openai_web_search_tool],\n",
    "    #response_format=gene_db_classes.GeneResearchEntry,\n",
    "    strict=True,\n",
    ")\n"
   ]
  },
  {
   "cell_type": "code",
   "execution_count": 9,
   "id": "4d9b9ce4",
   "metadata": {},
   "outputs": [],
   "source": [
    "query = '''\n",
    "What is cynS in Prochlorococcus MED4 and is it involved in bacterial interaction or nutrient exchange? \n",
    "Do not make up any information. If you don't know, try searching the web. \n",
    "If you still don't know, say 'I don't know'.\n",
    "'''\n",
    "\n",
    "sample_result = structured_llm.invoke(query)"
   ]
  },
  {
   "cell_type": "code",
   "execution_count": 10,
   "id": "0265db05",
   "metadata": {},
   "outputs": [
    {
     "data": {
      "text/plain": [
       "{'gene_name': 'cynS',\n",
       " 'gene_function': 'CynS is involved in the synthesis of cyanate, which is a nitrogen source for the organism.',\n",
       " 'research_findings': [{'finding_category': 'nutrient uptake',\n",
       "   'finding_sub_category': 'cyanate utilization',\n",
       "   'finding_description': 'CynS facilitates the uptake and utilization of cyanate as a nitrogen source in Prochlorococcus MED4.',\n",
       "   'finding_evidence': 'Gene knockout experiments showed reduced growth on cyanate in cynS mutants compared to wild type.',\n",
       "   'finding_type': 'nutrient uptake',\n",
       "   'url': 'https://www.ncbi.nlm.nih.gov/pubmed/12345678',\n",
       "   'title': 'Role of cynS in cyanate utilization in Prochlorococcus MED4',\n",
       "   'citation': 'Smith et al., 2020, Journal of Marine Microbiology',\n",
       "   'organism': 'Prochlorococcus MED4',\n",
       "   'phylogenetic_distance': 'close',\n",
       "   'additional_notes': 'CynS may play a role in interactions with other microorganisms by utilizing cyanate, which can influence nutrient dynamics in marine environments.',\n",
       "   'confidence_score': 8}]}"
      ]
     },
     "execution_count": 10,
     "metadata": {},
     "output_type": "execute_result"
    }
   ],
   "source": [
    "sample_result.model_dump()"
   ]
  },
  {
   "cell_type": "code",
   "execution_count": 11,
   "id": "0e081a73",
   "metadata": {},
   "outputs": [
    {
     "data": {
      "text/plain": [
       "RunnableBinding(bound=ChatOpenAI(client=<openai.resources.chat.completions.completions.Completions object at 0x000001CBBFC48920>, async_client=<openai.resources.chat.completions.completions.AsyncCompletions object at 0x000001CBCA5655B0>, root_client=<openai.OpenAI object at 0x000001CBCA1EE780>, root_async_client=<openai.AsyncOpenAI object at 0x000001CBC0053EC0>, model_name='gpt-4o-mini', temperature=0.0, model_kwargs={}, openai_api_key=SecretStr('**********')), kwargs={'response_format': <class 'gene_db_classes.GeneResearchSummarySimple'>, 'ls_structured_output_format': {'kwargs': {'method': 'json_schema', 'strict': None}, 'schema': {'type': 'function', 'function': {'name': 'GeneResearchSummarySimple', 'description': \"Research on a specific gene's involvement in coping with stress conditions\", 'parameters': {'properties': {'gene_name': {'description': 'Name of the gene being studied', 'type': 'string'}, 'gene_function': {'description': 'Function of the gene', 'type': 'string'}, 'research_findings': {'description': 'List of research findings related to this gene, can be empty if none found', 'items': {'description': 'Description of the research process and findings related to a specific finding on a specific gene', 'properties': {'finding_category': {'description': \"Category of the finding, e.g. 'physiological', 'gene function', 'stress response', 'nutrient uptake', 'nutrient exudation', 'coculture role'\", 'type': 'string'}, 'finding_sub_category': {'description': \"sub category of the finding, e.g. 'high light stress' for stress response, nutrient name/type for nutrient exchange\", 'type': 'string'}, 'finding_description': {'description': 'Description of the finding related to the gene', 'type': 'string'}, 'finding_evidence': {'description': \"Evidence supporting this finding, e.g. 'gene knockout experiments', 'gene expression analysis', 'protein interaction studies'\", 'type': 'string'}, 'finding_type': {'description': \"Type of finding, e.g. 'gene function', 'stress response', 'nutrient uptake', 'nutrient exudation', 'coculture role'\", 'type': 'string'}, 'url': {'description': 'URL to access the research paper supporting this finding', 'type': 'string'}, 'title': {'description': 'Title of the research paper supporting this finding', 'type': 'string'}, 'citation': {'description': 'Citation for the research paper supporting this finding', 'type': 'string'}, 'organism': {'description': 'Organism where the finding is studied in the cited literature', 'type': 'string'}, 'phylogenetic_distance': {'description': 'Phylogenetic distance between this research and Prochlorococcus', 'type': 'string'}, 'additional_notes': {'description': 'Any additional notes or comments about the finding', 'type': 'string'}, 'confidence_score': {'anyOf': [{'maximum': 10, 'minimum': 1, 'type': 'integer'}, {'type': 'null'}], 'default': None, 'description': 'A numerical score representing the confidence in the evidence, from 1 to 10'}}, 'required': ['finding_category', 'finding_sub_category', 'finding_description', 'finding_evidence', 'finding_type', 'url', 'title', 'citation', 'organism', 'phylogenetic_distance', 'additional_notes'], 'type': 'object'}, 'type': 'array'}}, 'required': ['gene_name', 'gene_function', 'research_findings'], 'type': 'object'}}}}}, config={}, config_factories=[])\n",
       "| RunnableBinding(bound=RunnableLambda(...), kwargs={}, config={}, config_factories=[], custom_output_type=<class 'gene_db_classes.GeneResearchSummarySimple'>)"
      ]
     },
     "execution_count": 11,
     "metadata": {},
     "output_type": "execute_result"
    }
   ],
   "source": [
    "structured_llm"
   ]
  },
  {
   "cell_type": "code",
   "execution_count": null,
   "id": "81003f2e",
   "metadata": {},
   "outputs": [],
   "source": []
  },
  {
   "cell_type": "markdown",
   "id": "ced3024c",
   "metadata": {},
   "source": [
    "# run a sample query with perplexity"
   ]
  },
  {
   "cell_type": "code",
   "execution_count": 12,
   "id": "eb2acd53",
   "metadata": {},
   "outputs": [],
   "source": [
    "# Initialize the chat model with OpenAI's GPT-4o-mini\n",
    "# pip install -qU \"langchain-perplexity\"\n",
    "from langchain.chat_models import init_chat_model\n",
    "\n",
    "llm = init_chat_model(\"llama-3.1-sonar-small-128k-online\", model_provider=\"perplexity\")\n",
    "structured_llm = llm.with_structured_output(gene_db_classes.GeneResearchSummarySimple)"
   ]
  },
  {
   "cell_type": "code",
   "execution_count": 13,
   "id": "028d1f92",
   "metadata": {},
   "outputs": [],
   "source": [
    "from langchain_core.prompts import ChatPromptTemplate\n",
    "\n",
    "prompt_template = ChatPromptTemplate([\n",
    "    (\"system\", gene_db_prompts.system_prompt_from_gemini_without_literature_placeholder),\n",
    "    (\"user\", gene_db_prompts.prompt_from_gemini_without_literature_placeholder)\n",
    "])\n",
    "\n",
    "query = prompt_template.invoke({\"gene_name_or_id\": \"amt1\"})"
   ]
  },
  {
   "cell_type": "code",
   "execution_count": 14,
   "id": "d4e4173a",
   "metadata": {},
   "outputs": [],
   "source": [
    "# query = '''\n",
    "# What is cynS in Prochlorococcus MED4 and is it involved in bacterial interaction or nutrient exchange? \n",
    "# Do not make up any information. If you don't know, try searching the web. \n",
    "# If you still don't know, say 'I don't know'.\n",
    "# '''\n",
    "\n",
    "\n",
    "sample_result = structured_llm.invoke(query)"
   ]
  },
  {
   "cell_type": "code",
   "execution_count": 15,
   "id": "f67ee4ac",
   "metadata": {},
   "outputs": [
    {
     "data": {
      "text/plain": [
       "{'gene_name': 'amt1',\n",
       " 'gene_function': 'Ammonium transporter involved in ammonia transport across plasma membranes.',\n",
       " 'research_findings': []}"
      ]
     },
     "execution_count": 15,
     "metadata": {},
     "output_type": "execute_result"
    }
   ],
   "source": [
    "sample_result.model_dump()"
   ]
  },
  {
   "cell_type": "code",
   "execution_count": 16,
   "id": "cbfdd625",
   "metadata": {},
   "outputs": [],
   "source": [
    "# query = '''\n",
    "# What is cynS in Prochlorococcus MED4 and is it involved in bacterial interaction or nutrient exchange? \n",
    "# Do not make up any information. If you don't know, try searching the web. \n",
    "# If you still don't know, say 'I don't know'.\n",
    "# '''\n",
    "\n",
    "sample_result = llm.invoke(query)"
   ]
  },
  {
   "cell_type": "code",
   "execution_count": 17,
   "id": "46d770c9",
   "metadata": {},
   "outputs": [
    {
     "data": {
      "text/plain": [
       "{'content': '```json\\n{\\n  \"gene_identifier\": \"amt1\",\\n  \"gene_function\": \"Ammonium transport across plasma membranes, facilitating the movement of ammonia.\",\\n  \"research_findings\": [\\n    {\\n      \"finding_category\": \"nutrient uptake\",\\n      \"finding_type\": \"uptake of ammonium\",\\n      \"finding_description\": \"Shown to be upregulated under nitrogen starvation, facilitating the uptake of ammonium.\",\\n      \"finding_evidence\": [\\n        {\\n          \"method\": \"gene expression analysis (RNA-seq)\",\\n          \"phylogenetic_distance\": \"Direct\",\\n          \"confidence_score\": 8\\n        }\\n      ]\\n    },\\n    {\\n      \"finding_category\": \"nutrient exchange\",\\n      \"finding_type\": \"AMT1-Rh synergy in ammonia transport\",\\n      \"finding_description\": \"AMT1 synergizes with Rhesus glycoprotein (Rh) to facilitate ammonia transport.\",\\n      \"finding_evidence\": [\\n        {\\n          \"method\": \"expression analysis and localization studies\",\\n          \"phylogenetic_distance\": \"Relevant\",\\n          \"confidence_score\": 7\\n        }\\n      ]\\n    },\\n    {\\n      \"finding_category\": \"metabolic handoffs\",\\n      \"finding_type\": \"Role in ammonia excretion\",\\n      \"finding_description\": \"May be a primary contributor to ammonia excretion in *Sinonovacula constricta*, which is the basis of their ability to inhabit benthic water with high ammonia levels.\",\\n      \"finding_evidence\": [\\n        {\\n          \"method\": \"expression validation using competitive allele-specific PCR (KASP)\",\\n          \"phylogenetic_distance\": \"Relevant\",\\n          \"confidence_score\": 7\\n        }\\n      ]\\n    },\\n    {\\n      \"finding_category\": \"stress response\",\\n      \"finding_type\": \"Oxidative stress response\",\\n      \"finding_description\": \"No direct evidence found in the provided literature regarding oxidative stress response. However, upregulation under nitrogen starvation suggests a role in stress response mechanisms.\",\\n      \"finding_evidence\": [\\n        {\\n          \"method\": \"gene expression analysis (RNA-seq)\",\\n          \"phylogenetic_distance\": \"Distant (Based on general function in other organisms)\",\\n          \"confidence_score\": 3\\n        }\\n      ]\\n    }\\n  ]\\n}\\n```',\n",
       " 'additional_kwargs': {'citations': ['https://pmc.ncbi.nlm.nih.gov/articles/PMC10215384/',\n",
       "   'https://academic.oup.com/nar/article/45/D1/D985/2605745',\n",
       "   'https://pubmed.ncbi.nlm.nih.gov/20457585/',\n",
       "   'https://pmc.ncbi.nlm.nih.gov/articles/PMC10606640/',\n",
       "   'https://academic.oup.com/mbe/article/27/10/2268/964346']},\n",
       " 'response_metadata': {'model_name': 'llama-3.1-sonar-small-128k-online'},\n",
       " 'type': 'ai',\n",
       " 'name': None,\n",
       " 'id': 'run--56b0eb26-8a08-4f70-bdf3-8d18a861a9a8-0',\n",
       " 'example': False,\n",
       " 'tool_calls': [],\n",
       " 'invalid_tool_calls': [],\n",
       " 'usage_metadata': {'input_tokens': 850,\n",
       "  'output_tokens': 468,\n",
       "  'total_tokens': 1318}}"
      ]
     },
     "execution_count": 17,
     "metadata": {},
     "output_type": "execute_result"
    }
   ],
   "source": [
    "sample_result.model_dump()\n"
   ]
  },
  {
   "cell_type": "code",
   "execution_count": 18,
   "id": "79c65ba9",
   "metadata": {},
   "outputs": [
    {
     "name": "stdout",
     "output_type": "stream",
     "text": [
      "```json\n",
      "{\n",
      "  \"gene_identifier\": \"amt1\",\n",
      "  \"gene_function\": \"Ammonium transport across plasma membranes, facilitating the movement of ammonia.\",\n",
      "  \"research_findings\": [\n",
      "    {\n",
      "      \"finding_category\": \"nutrient uptake\",\n",
      "      \"finding_type\": \"uptake of ammonium\",\n",
      "      \"finding_description\": \"Shown to be upregulated under nitrogen starvation, facilitating the uptake of ammonium.\",\n",
      "      \"finding_evidence\": [\n",
      "        {\n",
      "          \"method\": \"gene expression analysis (RNA-seq)\",\n",
      "          \"phylogenetic_distance\": \"Direct\",\n",
      "          \"confidence_score\": 8\n",
      "        }\n",
      "      ]\n",
      "    },\n",
      "    {\n",
      "      \"finding_category\": \"nutrient exchange\",\n",
      "      \"finding_type\": \"AMT1-Rh synergy in ammonia transport\",\n",
      "      \"finding_description\": \"AMT1 synergizes with Rhesus glycoprotein (Rh) to facilitate ammonia transport.\",\n",
      "      \"finding_evidence\": [\n",
      "        {\n",
      "          \"method\": \"expression analysis and localization studies\",\n",
      "          \"phylogenetic_distance\": \"Relevant\",\n",
      "          \"confidence_score\": 7\n",
      "        }\n",
      "      ]\n",
      "    },\n",
      "    {\n",
      "      \"finding_category\": \"metabolic handoffs\",\n",
      "      \"finding_type\": \"Role in ammonia excretion\",\n",
      "      \"finding_description\": \"May be a primary contributor to ammonia excretion in *Sinonovacula constricta*, which is the basis of their ability to inhabit benthic water with high ammonia levels.\",\n",
      "      \"finding_evidence\": [\n",
      "        {\n",
      "          \"method\": \"expression validation using competitive allele-specific PCR (KASP)\",\n",
      "          \"phylogenetic_distance\": \"Relevant\",\n",
      "          \"confidence_score\": 7\n",
      "        }\n",
      "      ]\n",
      "    },\n",
      "    {\n",
      "      \"finding_category\": \"stress response\",\n",
      "      \"finding_type\": \"Oxidative stress response\",\n",
      "      \"finding_description\": \"No direct evidence found in the provided literature regarding oxidative stress response. However, upregulation under nitrogen starvation suggests a role in stress response mechanisms.\",\n",
      "      \"finding_evidence\": [\n",
      "        {\n",
      "          \"method\": \"gene expression analysis (RNA-seq)\",\n",
      "          \"phylogenetic_distance\": \"Distant (Based on general function in other organisms)\",\n",
      "          \"confidence_score\": 3\n",
      "        }\n",
      "      ]\n",
      "    }\n",
      "  ]\n",
      "}\n",
      "```\n"
     ]
    }
   ],
   "source": [
    "print(sample_result.content)\n"
   ]
  },
  {
   "cell_type": "code",
   "execution_count": 19,
   "id": "eaff0fa8",
   "metadata": {},
   "outputs": [],
   "source": [
    "\n",
    "from langchain_core.prompts import ChatPromptTemplate\n",
    "\n",
    "prompt_template = ChatPromptTemplate([\n",
    "    #(\"system\", gene_db_prompts.system_prompt_from_gemini_without_literature_placeholder),\n",
    "    (\"user\", gene_db_prompts.prompt_build_gene_entry_try1)\n",
    "])\n",
    "\n",
    "query = prompt_template.invoke({\"gene_name_or_id\": \"amt1\"})"
   ]
  },
  {
   "cell_type": "code",
   "execution_count": 20,
   "id": "2bb4f6f1",
   "metadata": {},
   "outputs": [
    {
     "data": {
      "text/plain": [
       "{'content': \"### Literature Review\\n\\n#### Key Search Terms and Databases\\n- **Key Search Terms**: Prochlorococcus, amt1, nitrogen regulation, gene expression, stress responses, nitrogen assimilation.\\n- **Databases**: PubMed Central (PMC), Google Scholar, National Center for Biotechnology Information (NCBI).\\n\\n#### Overview of the Literature\\n- **Number of Relevant Papers Found**: 3 relevant papers found.\\n- **Date Range of the Research**: The research spans from 2003 to 2024.\\n- **Main Research Focuses**: The main research focuses on the function of the amt1 gene in Prochlorococcus, its role in nitrogen regulation, and its contribution to the organism's physiological state under various stress conditions.\\n\\n#### Key Sources Identified\\n\\n1. **García-Fernández et al. (2004)**\\n   - **Citation**: García-Fernández JM, et al. Streamlined Regulation and Gene Loss as Adaptive Responses in Prochlorococcus. BioRxiv, 2004.\\n   - **Summary**: The study examines the expression of the amt1 and ntcA genes in Prochlorococcus strain PCC 9511. It shows that nitrogen limitation induces the expression of ntcA but not amt1, indicating that amt1 might not be under NtcA control in this strain. The upstream region of ntcA contains a typical −10 box, which is not found in the upstream region of amt1, suggesting an unusual regulatory behavior for amt1[1].\\n\\n2. **Tolonen et al. (2006)**\\n   - **Citation**: Tolonen AC, et al. Global gene expression of Prochlorococcus ecotypes in response to nitrogen starvation. BioRxiv, 2006.\\n   - **Summary**: This study assesses the role of NtcA as a global transcriptional regulator during nitrogen starvation in Prochlorococcus. It finds that high-ranking NtcA sites are abundant among the initially upregulated genes, including those for N transport (such as amt1) and N assimilation. The presence of NtcA sites upstream of initially upregulated genes suggests that NtcA targets include genes for nitrogen transport and assimilation[3].\\n\\n3. **Other Relevant Findings**\\n   - Another study on Prochlorococcus responses to light and oxygen (2024) notes the challenges in discerning accuracies of strain assignment annotations due to high conservation of target protein complexes. This study primarily focuses on proteomic analysis and does not directly address the function of amt1 but highlights the complexity in protein identification in Prochlorococcus[2].\\n\\n#### Challenges or Limitations\\n- The primary challenge in this research is the limited direct information on the amt1 gene's function specifically in Prochlorococcus. Much of the relevant information is inferred from studies focusing on NtcA and other nitrogen-related genes.\\n- The high conservation of target protein complexes in Prochlorococcus makes it difficult to discern strain-specific protein annotations, as noted in the study on Prochlorococcus responses to light and oxygen[2].\\n\\n#### Conflicting Information or Significant Gaps in the Research\\n- There is conflicting information regarding the regulation of amt1. While García-Fernández et al. (2004) suggest that amt1 might not be under NtcA control, Tolonen et al. (2006) imply that NtcA targets include genes for N transport, which could include amt1. Further research is needed to conclusively establish the regulatory behavior of amt1.\\n- There are significant gaps in understanding the detailed physiological contributions of amt1, especially in relation to uptake and exudation processes.\\n\\n#### Initial Observations about the Gene's Function and Importance\\n- The amt1 gene is likely involved in ammonium transport in Prochlorococcus, given its probable role in nitrogen transport as suggested by its presence in NtcA target lists[3].\\n- The gene's expression is influenced by nitrogen availability, with upregulation during nitrogen starvation as part of the organism's adaptive response to nutrient limitation.\\n\\n### Database Entry\\n\\n<database_entry>\\n  <primary_function>\\n    The primary function of the amt1 gene in Prochlorococcus is likely related to the transport of ammonium, which is essential for the organism's nitrogen assimilation processes.\\n  </primary_function>\\n\\n  <physiological_contribution>\\n    The contribution of the amt1 gene to the overall physiological state of Prochlorococcus involves its role in adapting to nitrogen-limited environments. During nitrogen starvation, the upregulation of amt1 helps in scavenging for available nitrogen sources, which is crucial for maintaining cellular homeostasis.\\n  </physiological_contribution>\\n\\n  <stress_responses>\\n    <response1>\\n      Nitrogen starvation induces the expression of amt1 as part of the organism's stress response mechanism. This upregulation ensures that Prochlorococcus can utilize available nitrogen sources efficiently to sustain its metabolic activities.\\n    </response1>\\n    <response2>\\n      The lack of a −10 box in the upstream region of amt1, as observed in Prochlorococcus strain PCC 9511, might indicate an unusual regulatory behavior. This could suggest alternative regulatory mechanisms or additional regulatory elements controlling amt1 expression[1].\\n  </stress_responses>\\n\\n  <uptake_exudation>\\n    <uptake>\\n      The uptake process related to amt1 involves the transport of ammonium across the cell membrane. This process is essential for incorporating nitrogen into the cell, which is then assimilated into amino acids and other nitrogen-containing compounds[3].\\n    </uptake>\\n    <exudation>\\n      There is no direct information available on exudation processes related to amt1. However, it is plausible that the gene's expression could influence exudation patterns indirectly by modulating cellular nitrogen metabolism.\\n    </exudation>\\n  </uptake_exudation>\\n\\n  <bacterial_interaction>\\n      Since there is limited direct information on bacterial interactions involving amt1, it is challenging to provide specific details. However, the gene's role in nitrogen transport and assimilation could potentially influence interactions with other bacteria in the environment.\\n  </bacterial_interaction>\\n\\n  <phylogenetic_persistence>\\n    The persistence of research on the amt1 gene across different phylogenetic levels is limited. While NtcA and other nitrogen-related genes have been extensively studied in various cyanobacteria, including Prochlorococcus, specific studies focusing on amt1 are scarce. Further research is needed to establish the gene's role and persistence across different phylogenetic levels.\\n  </phylogenetic_persistence>\\n\\n  <references>\\n    <ref1> García-Fernández JM, et al. Streamlined Regulation and Gene Loss as Adaptive Responses in Prochlorococcus. BioRxiv, 2004.</ref1>\\n    <ref2> Tolonen AC, et al. Global gene expression of Prochlorococcus ecotypes in response to nitrogen starvation. BioRxiv, 2006.</ref2>\\n    <ref3> Tolonen AC, et al. Global gene expression of Prochlorococcus ecotypes in response to nitrogen starvation. BioRxiv, 2006.</ref3>\\n    <ref4> Tolonen AC, et al. Global gene expression of Prochlorococcus ecotypes in response to nitrogen starvation. BioRxiv, 2006.</ref4>\\n  </references>\\n</database_entry>\",\n",
       " 'additional_kwargs': {'citations': ['https://pmc.ncbi.nlm.nih.gov/articles/PMC539009/',\n",
       "   'https://pmc.ncbi.nlm.nih.gov/articles/PMC11262661/',\n",
       "   'https://pmc.ncbi.nlm.nih.gov/articles/PMC1682016/',\n",
       "   'https://core.ac.uk/download/60898276.pdf',\n",
       "   'https://arep.med.harvard.edu/pdf/Rocap03.pdf']},\n",
       " 'response_metadata': {'model_name': 'llama-3.1-sonar-small-128k-online'},\n",
       " 'type': 'ai',\n",
       " 'name': None,\n",
       " 'id': 'run--97cbb1b5-259b-4f2e-9542-cad96dd3b4f0-0',\n",
       " 'example': False,\n",
       " 'tool_calls': [],\n",
       " 'invalid_tool_calls': [],\n",
       " 'usage_metadata': {'input_tokens': 773,\n",
       "  'output_tokens': 1513,\n",
       "  'total_tokens': 2286}}"
      ]
     },
     "execution_count": 20,
     "metadata": {},
     "output_type": "execute_result"
    }
   ],
   "source": [
    "sample_result = llm.invoke(query)\n",
    "sample_result.model_dump()\n"
   ]
  },
  {
   "cell_type": "code",
   "execution_count": 21,
   "id": "9eb3c327",
   "metadata": {},
   "outputs": [
    {
     "name": "stdout",
     "output_type": "stream",
     "text": [
      "### Literature Review\n",
      "\n",
      "#### Key Search Terms and Databases\n",
      "- **Key Search Terms**: Prochlorococcus, amt1, nitrogen regulation, gene expression, stress responses, nitrogen assimilation.\n",
      "- **Databases**: PubMed Central (PMC), Google Scholar, National Center for Biotechnology Information (NCBI).\n",
      "\n",
      "#### Overview of the Literature\n",
      "- **Number of Relevant Papers Found**: 3 relevant papers found.\n",
      "- **Date Range of the Research**: The research spans from 2003 to 2024.\n",
      "- **Main Research Focuses**: The main research focuses on the function of the amt1 gene in Prochlorococcus, its role in nitrogen regulation, and its contribution to the organism's physiological state under various stress conditions.\n",
      "\n",
      "#### Key Sources Identified\n",
      "\n",
      "1. **García-Fernández et al. (2004)**\n",
      "   - **Citation**: García-Fernández JM, et al. Streamlined Regulation and Gene Loss as Adaptive Responses in Prochlorococcus. BioRxiv, 2004.\n",
      "   - **Summary**: The study examines the expression of the amt1 and ntcA genes in Prochlorococcus strain PCC 9511. It shows that nitrogen limitation induces the expression of ntcA but not amt1, indicating that amt1 might not be under NtcA control in this strain. The upstream region of ntcA contains a typical −10 box, which is not found in the upstream region of amt1, suggesting an unusual regulatory behavior for amt1[1].\n",
      "\n",
      "2. **Tolonen et al. (2006)**\n",
      "   - **Citation**: Tolonen AC, et al. Global gene expression of Prochlorococcus ecotypes in response to nitrogen starvation. BioRxiv, 2006.\n",
      "   - **Summary**: This study assesses the role of NtcA as a global transcriptional regulator during nitrogen starvation in Prochlorococcus. It finds that high-ranking NtcA sites are abundant among the initially upregulated genes, including those for N transport (such as amt1) and N assimilation. The presence of NtcA sites upstream of initially upregulated genes suggests that NtcA targets include genes for nitrogen transport and assimilation[3].\n",
      "\n",
      "3. **Other Relevant Findings**\n",
      "   - Another study on Prochlorococcus responses to light and oxygen (2024) notes the challenges in discerning accuracies of strain assignment annotations due to high conservation of target protein complexes. This study primarily focuses on proteomic analysis and does not directly address the function of amt1 but highlights the complexity in protein identification in Prochlorococcus[2].\n",
      "\n",
      "#### Challenges or Limitations\n",
      "- The primary challenge in this research is the limited direct information on the amt1 gene's function specifically in Prochlorococcus. Much of the relevant information is inferred from studies focusing on NtcA and other nitrogen-related genes.\n",
      "- The high conservation of target protein complexes in Prochlorococcus makes it difficult to discern strain-specific protein annotations, as noted in the study on Prochlorococcus responses to light and oxygen[2].\n",
      "\n",
      "#### Conflicting Information or Significant Gaps in the Research\n",
      "- There is conflicting information regarding the regulation of amt1. While García-Fernández et al. (2004) suggest that amt1 might not be under NtcA control, Tolonen et al. (2006) imply that NtcA targets include genes for N transport, which could include amt1. Further research is needed to conclusively establish the regulatory behavior of amt1.\n",
      "- There are significant gaps in understanding the detailed physiological contributions of amt1, especially in relation to uptake and exudation processes.\n",
      "\n",
      "#### Initial Observations about the Gene's Function and Importance\n",
      "- The amt1 gene is likely involved in ammonium transport in Prochlorococcus, given its probable role in nitrogen transport as suggested by its presence in NtcA target lists[3].\n",
      "- The gene's expression is influenced by nitrogen availability, with upregulation during nitrogen starvation as part of the organism's adaptive response to nutrient limitation.\n",
      "\n",
      "### Database Entry\n",
      "\n",
      "<database_entry>\n",
      "  <primary_function>\n",
      "    The primary function of the amt1 gene in Prochlorococcus is likely related to the transport of ammonium, which is essential for the organism's nitrogen assimilation processes.\n",
      "  </primary_function>\n",
      "\n",
      "  <physiological_contribution>\n",
      "    The contribution of the amt1 gene to the overall physiological state of Prochlorococcus involves its role in adapting to nitrogen-limited environments. During nitrogen starvation, the upregulation of amt1 helps in scavenging for available nitrogen sources, which is crucial for maintaining cellular homeostasis.\n",
      "  </physiological_contribution>\n",
      "\n",
      "  <stress_responses>\n",
      "    <response1>\n",
      "      Nitrogen starvation induces the expression of amt1 as part of the organism's stress response mechanism. This upregulation ensures that Prochlorococcus can utilize available nitrogen sources efficiently to sustain its metabolic activities.\n",
      "    </response1>\n",
      "    <response2>\n",
      "      The lack of a −10 box in the upstream region of amt1, as observed in Prochlorococcus strain PCC 9511, might indicate an unusual regulatory behavior. This could suggest alternative regulatory mechanisms or additional regulatory elements controlling amt1 expression[1].\n",
      "  </stress_responses>\n",
      "\n",
      "  <uptake_exudation>\n",
      "    <uptake>\n",
      "      The uptake process related to amt1 involves the transport of ammonium across the cell membrane. This process is essential for incorporating nitrogen into the cell, which is then assimilated into amino acids and other nitrogen-containing compounds[3].\n",
      "    </uptake>\n",
      "    <exudation>\n",
      "      There is no direct information available on exudation processes related to amt1. However, it is plausible that the gene's expression could influence exudation patterns indirectly by modulating cellular nitrogen metabolism.\n",
      "    </exudation>\n",
      "  </uptake_exudation>\n",
      "\n",
      "  <bacterial_interaction>\n",
      "      Since there is limited direct information on bacterial interactions involving amt1, it is challenging to provide specific details. However, the gene's role in nitrogen transport and assimilation could potentially influence interactions with other bacteria in the environment.\n",
      "  </bacterial_interaction>\n",
      "\n",
      "  <phylogenetic_persistence>\n",
      "    The persistence of research on the amt1 gene across different phylogenetic levels is limited. While NtcA and other nitrogen-related genes have been extensively studied in various cyanobacteria, including Prochlorococcus, specific studies focusing on amt1 are scarce. Further research is needed to establish the gene's role and persistence across different phylogenetic levels.\n",
      "  </phylogenetic_persistence>\n",
      "\n",
      "  <references>\n",
      "    <ref1> García-Fernández JM, et al. Streamlined Regulation and Gene Loss as Adaptive Responses in Prochlorococcus. BioRxiv, 2004.</ref1>\n",
      "    <ref2> Tolonen AC, et al. Global gene expression of Prochlorococcus ecotypes in response to nitrogen starvation. BioRxiv, 2006.</ref2>\n",
      "    <ref3> Tolonen AC, et al. Global gene expression of Prochlorococcus ecotypes in response to nitrogen starvation. BioRxiv, 2006.</ref3>\n",
      "    <ref4> Tolonen AC, et al. Global gene expression of Prochlorococcus ecotypes in response to nitrogen starvation. BioRxiv, 2006.</ref4>\n",
      "  </references>\n",
      "</database_entry>\n"
     ]
    }
   ],
   "source": [
    "print(sample_result.content)\n"
   ]
  },
  {
   "cell_type": "code",
   "execution_count": null,
   "id": "f4ccac1f",
   "metadata": {},
   "outputs": [],
   "source": []
  }
 ],
 "metadata": {
  "kernelspec": {
   "display_name": "spock",
   "language": "python",
   "name": "python3"
  },
  "language_info": {
   "codemirror_mode": {
    "name": "ipython",
    "version": 3
   },
   "file_extension": ".py",
   "mimetype": "text/x-python",
   "name": "python",
   "nbconvert_exporter": "python",
   "pygments_lexer": "ipython3",
   "version": "3.12.11"
  }
 },
 "nbformat": 4,
 "nbformat_minor": 5
}
