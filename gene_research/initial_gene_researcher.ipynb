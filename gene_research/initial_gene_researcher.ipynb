{
 "cells": [
  {
   "cell_type": "markdown",
   "id": "988c9cc8",
   "metadata": {},
   "source": [
    "# Initial gene researcher\n",
    "\n",
    "Do research on the given genes and generate an inital entry\n",
    "\n"
   ]
  },
  {
   "cell_type": "code",
   "execution_count": 30,
   "id": "d6f3f1a6",
   "metadata": {},
   "outputs": [
    {
     "data": {
      "text/plain": [
       "True"
      ]
     },
     "execution_count": 30,
     "metadata": {},
     "output_type": "execute_result"
    }
   ],
   "source": [
    "import os\n",
    "\n",
    "# load environment variables from .env file (requires `python-dotenv`)\n",
    "from dotenv import load_dotenv\n",
    "\n",
    "load_dotenv(override=True)\n",
    "\n"
   ]
  },
  {
   "cell_type": "code",
   "execution_count": null,
   "id": "d2156c6d",
   "metadata": {},
   "outputs": [],
   "source": []
  },
  {
   "cell_type": "code",
   "execution_count": 2,
   "id": "6c75ab04",
   "metadata": {},
   "outputs": [],
   "source": [
    "import gene_db_classes "
   ]
  },
  {
   "cell_type": "markdown",
   "id": "b1186290",
   "metadata": {},
   "source": [
    "# run a sample query with openai"
   ]
  },
  {
   "cell_type": "code",
   "execution_count": null,
   "id": "a6f7f433",
   "metadata": {},
   "outputs": [],
   "source": [
    "# Initialize the chat model with OpenAI's GPT-4o-mini\n",
    "# pip install -qU \"langchain[openai]\"\n",
    "from langchain.chat_models import init_chat_model\n",
    "\n",
    "llm = init_chat_model(\"gpt-4o-mini\", model_provider=\"openai\", temperature=0.0)\n",
    "structured_llm = llm.with_structured_output(gene_db_classes.GeneResearchEntry)"
   ]
  },
  {
   "cell_type": "code",
   "execution_count": 24,
   "id": "1e665f3b",
   "metadata": {},
   "outputs": [],
   "source": [
    "\n",
    "openai_web_search_tool = {\"type\": \"web_search_preview\"}\n",
    "structured_llm = llm.bind_tools(\n",
    "    [openai_web_search_tool],\n",
    "    #response_format=gene_db_classes.GeneResearchEntry,\n",
    "    strict=True,\n",
    ")\n"
   ]
  },
  {
   "cell_type": "code",
   "execution_count": 25,
   "id": "305b3277",
   "metadata": {},
   "outputs": [],
   "source": [
    "query = '''\n",
    "What is cynS in Prochlorococcus MED4 and is it involved in bacterial interaction or nutrient exchange? \n",
    "Do not make up any information. If you don't know, try searching the web. \n",
    "If you still don't know, say 'I don't know'.\n",
    "'''\n",
    "\n",
    "sample_result = structured_llm.invoke(query)"
   ]
  },
  {
   "cell_type": "code",
   "execution_count": 26,
   "id": "60d706bd",
   "metadata": {},
   "outputs": [
    {
     "data": {
      "text/plain": [
       "{'content': [{'type': 'text',\n",
       "   'text': 'The cynS gene in *Prochlorococcus marinus* MED4 encodes cyanase, an enzyme that catalyzes the conversion of cyanate to ammonia and carbon dioxide, playing a role in nitrogen metabolism. ([journals.asm.org](https://journals.asm.org/doi/full/10.1128/aem.01272-10?utm_source=openai)) In *Prochlorococcus* sp. strain MED4, cynS is part of the cynABDS operon, suggesting its involvement in cyanate utilization. ([pmc.ncbi.nlm.nih.gov](https://pmc.ncbi.nlm.nih.gov/articles/PMC3019706/?utm_source=openai)) However, there is no evidence to suggest that cynS is involved in bacterial interactions or nutrient exchange beyond its role in nitrogen metabolism. ',\n",
       "   'annotations': [{'end_index': 280,\n",
       "     'start_index': 186,\n",
       "     'title': 'Characterization of Cyanate Metabolism in Marine Synechococcus and Prochlorococcus spp | Applied and Environmental Microbiology',\n",
       "     'type': 'url_citation',\n",
       "     'url': 'https://journals.asm.org/doi/full/10.1128/aem.01272-10?utm_source=openai'},\n",
       "    {'end_index': 499,\n",
       "     'start_index': 406,\n",
       "     'title': 'Characterization of Cyanate Metabolism in Marine Synechococcus and Prochlorococcus spp - PMC',\n",
       "     'type': 'url_citation',\n",
       "     'url': 'https://pmc.ncbi.nlm.nih.gov/articles/PMC3019706/?utm_source=openai'}]}],\n",
       " 'additional_kwargs': {'tool_outputs': [{'id': 'ws_6863737fca70819285c85ebc4e176c7b04a806f7a8149075',\n",
       "    'status': 'completed',\n",
       "    'type': 'web_search_call',\n",
       "    'action': {'type': 'search',\n",
       "     'query': 'cynS Prochlorococcus MED4 bacterial interaction nutrient exchange'}}]},\n",
       " 'response_metadata': {'id': 'resp_6863737f419c819287124df055a257f204a806f7a8149075',\n",
       "  'created_at': 1751348095.0,\n",
       "  'metadata': {},\n",
       "  'model': 'gpt-4o-mini-2024-07-18',\n",
       "  'object': 'response',\n",
       "  'service_tier': 'default',\n",
       "  'status': 'completed',\n",
       "  'model_name': 'gpt-4o-mini-2024-07-18'},\n",
       " 'type': 'ai',\n",
       " 'name': None,\n",
       " 'id': 'msg_686373814a508192b2d0c0bf0dadcf3a04a806f7a8149075',\n",
       " 'example': False,\n",
       " 'tool_calls': [],\n",
       " 'invalid_tool_calls': [],\n",
       " 'usage_metadata': {'input_tokens': 354,\n",
       "  'output_tokens': 191,\n",
       "  'total_tokens': 545,\n",
       "  'output_token_details': {}}}"
      ]
     },
     "execution_count": 26,
     "metadata": {},
     "output_type": "execute_result"
    }
   ],
   "source": [
    "sample_result.model_dump()"
   ]
  },
  {
   "cell_type": "markdown",
   "id": "eea963b8",
   "metadata": {},
   "source": [
    "# run a sample query with openai"
   ]
  },
  {
   "cell_type": "code",
   "execution_count": null,
   "id": "282de51b",
   "metadata": {},
   "outputs": [],
   "source": [
    "# Initialize the chat model with OpenAI's GPT-4o-mini\n",
    "# pip install -qU \"langchain[openai]\"\n",
    "from langchain.chat_models import init_chat_model\n",
    "\n",
    "llm = init_chat_model(\"gpt-4o-mini\", model_provider=\"openai\", temperature=0.0)\n",
    "structured_llm = llm.with_structured_output(gene_db_classes.GeneResearchEntry)"
   ]
  },
  {
   "cell_type": "code",
   "execution_count": null,
   "id": "31b96c40",
   "metadata": {},
   "outputs": [],
   "source": [
    "\n",
    "openai_web_search_tool = {\"type\": \"web_search_preview\"}\n",
    "structured_llm = llm.bind_tools(\n",
    "    [openai_web_search_tool],\n",
    "    #response_format=gene_db_classes.GeneResearchEntry,\n",
    "    strict=True,\n",
    ")\n"
   ]
  },
  {
   "cell_type": "code",
   "execution_count": null,
   "id": "4d9b9ce4",
   "metadata": {},
   "outputs": [],
   "source": [
    "query = '''\n",
    "What is cynS in Prochlorococcus MED4 and is it involved in bacterial interaction or nutrient exchange? \n",
    "Do not make up any information. If you don't know, try searching the web. \n",
    "If you still don't know, say 'I don't know'.\n",
    "'''\n",
    "\n",
    "sample_result = structured_llm.invoke(query)"
   ]
  },
  {
   "cell_type": "code",
   "execution_count": null,
   "id": "0265db05",
   "metadata": {},
   "outputs": [
    {
     "data": {
      "text/plain": [
       "{'content': [{'type': 'text',\n",
       "   'text': 'The cynS gene in *Prochlorococcus marinus* MED4 encodes cyanase, an enzyme that catalyzes the conversion of cyanate to ammonia and carbon dioxide, playing a role in nitrogen metabolism. ([journals.asm.org](https://journals.asm.org/doi/full/10.1128/aem.01272-10?utm_source=openai)) In *Prochlorococcus* sp. strain MED4, cynS is part of the cynABDS operon, suggesting its involvement in cyanate utilization. ([pmc.ncbi.nlm.nih.gov](https://pmc.ncbi.nlm.nih.gov/articles/PMC3019706/?utm_source=openai)) However, there is no evidence to suggest that cynS is involved in bacterial interactions or nutrient exchange beyond its role in nitrogen metabolism. ',\n",
       "   'annotations': [{'end_index': 280,\n",
       "     'start_index': 186,\n",
       "     'title': 'Characterization of Cyanate Metabolism in Marine Synechococcus and Prochlorococcus spp | Applied and Environmental Microbiology',\n",
       "     'type': 'url_citation',\n",
       "     'url': 'https://journals.asm.org/doi/full/10.1128/aem.01272-10?utm_source=openai'},\n",
       "    {'end_index': 499,\n",
       "     'start_index': 406,\n",
       "     'title': 'Characterization of Cyanate Metabolism in Marine Synechococcus and Prochlorococcus spp - PMC',\n",
       "     'type': 'url_citation',\n",
       "     'url': 'https://pmc.ncbi.nlm.nih.gov/articles/PMC3019706/?utm_source=openai'}]}],\n",
       " 'additional_kwargs': {'tool_outputs': [{'id': 'ws_6863737fca70819285c85ebc4e176c7b04a806f7a8149075',\n",
       "    'status': 'completed',\n",
       "    'type': 'web_search_call',\n",
       "    'action': {'type': 'search',\n",
       "     'query': 'cynS Prochlorococcus MED4 bacterial interaction nutrient exchange'}}]},\n",
       " 'response_metadata': {'id': 'resp_6863737f419c819287124df055a257f204a806f7a8149075',\n",
       "  'created_at': 1751348095.0,\n",
       "  'metadata': {},\n",
       "  'model': 'gpt-4o-mini-2024-07-18',\n",
       "  'object': 'response',\n",
       "  'service_tier': 'default',\n",
       "  'status': 'completed',\n",
       "  'model_name': 'gpt-4o-mini-2024-07-18'},\n",
       " 'type': 'ai',\n",
       " 'name': None,\n",
       " 'id': 'msg_686373814a508192b2d0c0bf0dadcf3a04a806f7a8149075',\n",
       " 'example': False,\n",
       " 'tool_calls': [],\n",
       " 'invalid_tool_calls': [],\n",
       " 'usage_metadata': {'input_tokens': 354,\n",
       "  'output_tokens': 191,\n",
       "  'total_tokens': 545,\n",
       "  'output_token_details': {}}}"
      ]
     },
     "metadata": {},
     "output_type": "display_data"
    }
   ],
   "source": [
    "sample_result.model_dump()"
   ]
  },
  {
   "cell_type": "code",
   "execution_count": 17,
   "id": "0e081a73",
   "metadata": {},
   "outputs": [
    {
     "data": {
      "text/plain": [
       "RunnableBinding(bound=ChatOpenAI(client=<openai.resources.chat.completions.completions.Completions object at 0x00000161C3AB5010>, async_client=<openai.resources.chat.completions.completions.AsyncCompletions object at 0x00000161C3C45DF0>, root_client=<openai.OpenAI object at 0x00000161C3627170>, root_async_client=<openai.AsyncOpenAI object at 0x00000161C3B0BEF0>, model_name='gpt-4o-mini', model_kwargs={}, openai_api_key=SecretStr('**********')), kwargs={'response_format': <class 'gene_db_classes.GeneResearchEntry'>, 'ls_structured_output_format': {'kwargs': {'method': 'json_schema', 'strict': None}, 'schema': {'type': 'function', 'function': {'name': 'GeneResearchEntry', 'description': \"Research on a specific gene's involvement in coping with stress conditions\", 'parameters': {'properties': {'gene_protein_id': {'description': 'Identifier for the gene product, e.g., UniProt ID', 'type': 'string'}, 'gene_refseq_id': {'description': 'RefSeq ID for the gene', 'type': 'string'}, 'gene_name': {'description': 'Name of the gene being studied', 'type': 'string'}, 'gene_function': {'description': 'Function of the gene', 'type': 'string'}, 'gene_function_description': {'description': \"Detailed description of the gene's function\", 'type': 'string'}, 'go_terms': {'description': 'Gene Ontology (GO) terms associated with the gene', 'items': {'type': 'string'}, 'type': 'array'}, 'COGs': {'description': 'Clusters of Orthologous Groups (COGs) associated with the gene', 'items': {'type': 'string'}, 'type': 'array'}, 'KEGG_pathways': {'description': 'KEGG pathways associated with the gene', 'items': {'type': 'string'}, 'type': 'array'}, 'pfam_domains': {'description': 'Pfam domains associated with the gene', 'items': {'type': 'string'}, 'type': 'array'}, 'physiological_contribution': {'description': 'How this gene contributes to the overall physiological state of the organism', 'type': 'string'}, 'stress_responses': {'description': 'List of stress responses associated with this gene, can be empty if none found', 'items': {'description': 'line item in a gene entry research on this gene involvement in coping with stress condition', 'properties': {'description': {'description': 'Description of this gene role in coping with this specific stress response', 'type': 'string'}, 'type_of_stress': {'description': \"Type of stress this gene helps to cope with, e.g., 'high light', 'low light', 'high temperature', 'low temperature', 'high salinity', 'low salinity', 'high CO2', 'low CO2', 'nitrogen limitation', 'phosphorus limitation', 'iron limitation'\", 'type': 'string'}, 'pathways': {'description': \"list of Pathways this gene belongs to that are involved in the stress response process, e.g., 'MAPK signaling', 'calcium signaling'\", 'items': {'type': 'string'}, 'type': 'array'}, 'research_summaries': {'description': 'List of research summaries related to this stress response on this gene', 'items': {'description': 'Description of the research process and findings related to a specific finding on a specific gene', 'properties': {'reference': {'description': 'Reference to the literature supporting a finding', 'properties': {'title': {'description': 'Title of the research paper', 'type': 'string'}, 'authors': {'description': 'Authors of the research paper', 'type': 'string'}, 'journal': {'description': 'Journal where the research was published', 'type': 'string'}, 'year': {'description': 'Year of publication', 'type': 'integer'}, 'doi': {'anyOf': [{'type': 'string'}, {'type': 'null'}], 'default': None, 'description': 'DOI of the research paper, if available'}, 'url': {'anyOf': [{'type': 'string'}, {'type': 'null'}], 'default': None, 'description': 'URL to access the research paper, if available'}}, 'required': ['title', 'authors', 'journal', 'year'], 'type': 'object'}, 'evidence': {'description': \"Evidence supporting this gene's role in the research literature cited in the reference field\", 'type': 'string'}, 'evidence_type': {'enum': ['experimental', 'observational', 'correlative', 'anecdotal', 'meta_analytic', 'expert_opinion', 'theoretical'], 'type': 'string'}, 'phylogenetic_conservation': {'description': \"Phylogenetic conservation of this finding, e.g. 'conserved in all Prochlorococcus species' or 'conserved in all cyanobacteria' or 'conserved in all bacteria' or 'not conserved'\", 'type': 'string'}, 'organism': {'description': 'Organism where the finding is studied in the cited literature', 'type': 'string'}, 'experimental_approach': {'description': 'Experimental approach used to study the finding in the cited literature', 'type': 'string'}, 'confidence_level': {'enum': ['high', 'moderate', 'low', 'insufficient'], 'type': 'string'}, 'degree_of_confidence': {'enum': ['definitive', 'strong', 'suggestive', 'weak', 'speculative'], 'type': 'string'}, 'additional_notes': {'description': 'Any additional notes or comments about the finding', 'type': 'string'}, 'confidence_score': {'anyOf': [{'type': 'integer'}, {'type': 'null'}], 'default': None, 'description': 'A numerical score representing the confidence in the evidence, from 1 to 10'}}, 'required': ['reference', 'evidence', 'evidence_type', 'phylogenetic_conservation', 'organism', 'experimental_approach', 'confidence_level', 'degree_of_confidence', 'additional_notes'], 'type': 'object'}, 'type': 'array'}}, 'required': ['description', 'type_of_stress', 'pathways', 'research_summaries'], 'type': 'object'}, 'type': 'array'}, 'nutrient_uptake': {'description': 'List of nutrient uptake processes associated with this gene, can be empty if none found', 'items': {'description': 'Nutrient uptake related to a specific gene', 'properties': {'nutrient': {'description': \"Nutrient being taken up. e.g., 'nitrogen', 'phosphorus', 'iron'\", 'type': 'string'}, 'description': {'description': 'Description of this gene role in the uptake process related to this nutrient', 'type': 'string'}, 'pathways': {'description': \"list of Pathways this gene belongs to that are involved in the nutrient uptake process, e.g., 'nitrate assimilation', 'phosphate uptake', 'iron transport'\", 'items': {'type': 'string'}, 'type': 'array'}, 'research_summaries': {'description': 'List of research summaries related to this nutrient uptake on this gene', 'items': {'description': 'Description of the research process and findings related to a specific finding on a specific gene', 'properties': {'reference': {'description': 'Reference to the literature supporting a finding', 'properties': {'title': {'description': 'Title of the research paper', 'type': 'string'}, 'authors': {'description': 'Authors of the research paper', 'type': 'string'}, 'journal': {'description': 'Journal where the research was published', 'type': 'string'}, 'year': {'description': 'Year of publication', 'type': 'integer'}, 'doi': {'anyOf': [{'type': 'string'}, {'type': 'null'}], 'default': None, 'description': 'DOI of the research paper, if available'}, 'url': {'anyOf': [{'type': 'string'}, {'type': 'null'}], 'default': None, 'description': 'URL to access the research paper, if available'}}, 'required': ['title', 'authors', 'journal', 'year'], 'type': 'object'}, 'evidence': {'description': \"Evidence supporting this gene's role in the research literature cited in the reference field\", 'type': 'string'}, 'evidence_type': {'enum': ['experimental', 'observational', 'correlative', 'anecdotal', 'meta_analytic', 'expert_opinion', 'theoretical'], 'type': 'string'}, 'phylogenetic_conservation': {'description': \"Phylogenetic conservation of this finding, e.g. 'conserved in all Prochlorococcus species' or 'conserved in all cyanobacteria' or 'conserved in all bacteria' or 'not conserved'\", 'type': 'string'}, 'organism': {'description': 'Organism where the finding is studied in the cited literature', 'type': 'string'}, 'experimental_approach': {'description': 'Experimental approach used to study the finding in the cited literature', 'type': 'string'}, 'confidence_level': {'enum': ['high', 'moderate', 'low', 'insufficient'], 'type': 'string'}, 'degree_of_confidence': {'enum': ['definitive', 'strong', 'suggestive', 'weak', 'speculative'], 'type': 'string'}, 'additional_notes': {'description': 'Any additional notes or comments about the finding', 'type': 'string'}, 'confidence_score': {'anyOf': [{'type': 'integer'}, {'type': 'null'}], 'default': None, 'description': 'A numerical score representing the confidence in the evidence, from 1 to 10'}}, 'required': ['reference', 'evidence', 'evidence_type', 'phylogenetic_conservation', 'organism', 'experimental_approach', 'confidence_level', 'degree_of_confidence', 'additional_notes'], 'type': 'object'}, 'type': 'array'}}, 'required': ['nutrient', 'description', 'pathways', 'research_summaries'], 'type': 'object'}, 'type': 'array'}, 'nutrient_exudation': {'description': 'List of nutrient exudation processes associated with this gene, can be empty if none found', 'items': {'description': 'Nutrient exudation related to a specific gene', 'properties': {'nutrient': {'description': \"Nutrient being exuded. e.g., 'nitrogen', 'phosphorus', 'iron'\", 'type': 'string'}, 'description': {'description': 'Description of this gene role in the exudation process related to this nutrient', 'type': 'string'}, 'pathways': {'description': \"list of Pathways this gene belongs to that are involved in the nutrient exudation process, e.g., 'nitrate exudation', 'phosphate exudation', 'iron exudation'\", 'items': {'type': 'string'}, 'type': 'array'}, 'research_summaries': {'description': 'List of research summaries related to this nutrient exudation on this gene', 'items': {'description': 'Description of the research process and findings related to a specific finding on a specific gene', 'properties': {'reference': {'description': 'Reference to the literature supporting a finding', 'properties': {'title': {'description': 'Title of the research paper', 'type': 'string'}, 'authors': {'description': 'Authors of the research paper', 'type': 'string'}, 'journal': {'description': 'Journal where the research was published', 'type': 'string'}, 'year': {'description': 'Year of publication', 'type': 'integer'}, 'doi': {'anyOf': [{'type': 'string'}, {'type': 'null'}], 'default': None, 'description': 'DOI of the research paper, if available'}, 'url': {'anyOf': [{'type': 'string'}, {'type': 'null'}], 'default': None, 'description': 'URL to access the research paper, if available'}}, 'required': ['title', 'authors', 'journal', 'year'], 'type': 'object'}, 'evidence': {'description': \"Evidence supporting this gene's role in the research literature cited in the reference field\", 'type': 'string'}, 'evidence_type': {'enum': ['experimental', 'observational', 'correlative', 'anecdotal', 'meta_analytic', 'expert_opinion', 'theoretical'], 'type': 'string'}, 'phylogenetic_conservation': {'description': \"Phylogenetic conservation of this finding, e.g. 'conserved in all Prochlorococcus species' or 'conserved in all cyanobacteria' or 'conserved in all bacteria' or 'not conserved'\", 'type': 'string'}, 'organism': {'description': 'Organism where the finding is studied in the cited literature', 'type': 'string'}, 'experimental_approach': {'description': 'Experimental approach used to study the finding in the cited literature', 'type': 'string'}, 'confidence_level': {'enum': ['high', 'moderate', 'low', 'insufficient'], 'type': 'string'}, 'degree_of_confidence': {'enum': ['definitive', 'strong', 'suggestive', 'weak', 'speculative'], 'type': 'string'}, 'additional_notes': {'description': 'Any additional notes or comments about the finding', 'type': 'string'}, 'confidence_score': {'anyOf': [{'type': 'integer'}, {'type': 'null'}], 'default': None, 'description': 'A numerical score representing the confidence in the evidence, from 1 to 10'}}, 'required': ['reference', 'evidence', 'evidence_type', 'phylogenetic_conservation', 'organism', 'experimental_approach', 'confidence_level', 'degree_of_confidence', 'additional_notes'], 'type': 'object'}, 'type': 'array'}}, 'required': ['nutrient', 'description', 'pathways', 'research_summaries'], 'type': 'object'}, 'type': 'array'}, 'role_in_coculture': {'description': 'List of coculture processes associated with this gene, can be empty if none found', 'items': {'description': 'Role of a specific gene in coculture conditions with heterotrophic bacteria', 'properties': {'interaction_type': {'description': \"Type of interaction, e.g., 'mutualism', 'commensalism', 'parasitism'\", 'type': 'string'}, 'description': {'description': 'Description of this gene role in coculture conditions with heterotrophic bacteria', 'type': 'string'}, 'involved_bacteria': {'description': 'List of bacteria involved in the interaction', 'items': {'type': 'string'}, 'type': 'array'}, 'pathways': {'description': \"list of Pathways this gene belongs to that are involved in the interaction process, e.g., 'nitrate assimilation', 'phosphate uptake', 'iron transport'\", 'items': {'type': 'string'}, 'type': 'array'}, 'research_summaries': {'description': 'List of research summaries related to this coculture role on this gene', 'items': {'description': 'Description of the research process and findings related to a specific finding on a specific gene', 'properties': {'reference': {'description': 'Reference to the literature supporting a finding', 'properties': {'title': {'description': 'Title of the research paper', 'type': 'string'}, 'authors': {'description': 'Authors of the research paper', 'type': 'string'}, 'journal': {'description': 'Journal where the research was published', 'type': 'string'}, 'year': {'description': 'Year of publication', 'type': 'integer'}, 'doi': {'anyOf': [{'type': 'string'}, {'type': 'null'}], 'default': None, 'description': 'DOI of the research paper, if available'}, 'url': {'anyOf': [{'type': 'string'}, {'type': 'null'}], 'default': None, 'description': 'URL to access the research paper, if available'}}, 'required': ['title', 'authors', 'journal', 'year'], 'type': 'object'}, 'evidence': {'description': \"Evidence supporting this gene's role in the research literature cited in the reference field\", 'type': 'string'}, 'evidence_type': {'enum': ['experimental', 'observational', 'correlative', 'anecdotal', 'meta_analytic', 'expert_opinion', 'theoretical'], 'type': 'string'}, 'phylogenetic_conservation': {'description': \"Phylogenetic conservation of this finding, e.g. 'conserved in all Prochlorococcus species' or 'conserved in all cyanobacteria' or 'conserved in all bacteria' or 'not conserved'\", 'type': 'string'}, 'organism': {'description': 'Organism where the finding is studied in the cited literature', 'type': 'string'}, 'experimental_approach': {'description': 'Experimental approach used to study the finding in the cited literature', 'type': 'string'}, 'confidence_level': {'enum': ['high', 'moderate', 'low', 'insufficient'], 'type': 'string'}, 'degree_of_confidence': {'enum': ['definitive', 'strong', 'suggestive', 'weak', 'speculative'], 'type': 'string'}, 'additional_notes': {'description': 'Any additional notes or comments about the finding', 'type': 'string'}, 'confidence_score': {'anyOf': [{'type': 'integer'}, {'type': 'null'}], 'default': None, 'description': 'A numerical score representing the confidence in the evidence, from 1 to 10'}}, 'required': ['reference', 'evidence', 'evidence_type', 'phylogenetic_conservation', 'organism', 'experimental_approach', 'confidence_level', 'degree_of_confidence', 'additional_notes'], 'type': 'object'}, 'type': 'array'}}, 'required': ['interaction_type', 'description', 'involved_bacteria', 'pathways', 'research_summaries'], 'type': 'object'}, 'type': 'array'}}, 'required': ['gene_protein_id', 'gene_refseq_id', 'gene_name', 'gene_function', 'gene_function_description', 'go_terms', 'COGs', 'KEGG_pathways', 'pfam_domains', 'physiological_contribution', 'stress_responses', 'nutrient_uptake', 'nutrient_exudation', 'role_in_coculture'], 'type': 'object'}}}}}, config={}, config_factories=[])\n",
       "| RunnableBinding(bound=RunnableLambda(...), kwargs={}, config={}, config_factories=[], custom_output_type=<class 'gene_db_classes.GeneResearchEntry'>)"
      ]
     },
     "execution_count": 17,
     "metadata": {},
     "output_type": "execute_result"
    }
   ],
   "source": [
    "structured_llm"
   ]
  },
  {
   "cell_type": "code",
   "execution_count": null,
   "id": "81003f2e",
   "metadata": {},
   "outputs": [],
   "source": []
  },
  {
   "cell_type": "markdown",
   "id": "ced3024c",
   "metadata": {},
   "source": [
    "# run a sample query with perplexity"
   ]
  },
  {
   "cell_type": "code",
   "execution_count": 31,
   "id": "eb2acd53",
   "metadata": {},
   "outputs": [],
   "source": [
    "# Initialize the chat model with OpenAI's GPT-4o-mini\n",
    "# pip install -qU \"langchain-perplexity\"\n",
    "from langchain.chat_models import init_chat_model\n",
    "\n",
    "llm = init_chat_model(\"llama-3.1-sonar-small-128k-online\", model_provider=\"perplexity\")\n",
    "structured_llm = llm.with_structured_output(gene_db_classes.GeneResearchEntry)"
   ]
  },
  {
   "cell_type": "code",
   "execution_count": 32,
   "id": "d4e4173a",
   "metadata": {},
   "outputs": [],
   "source": [
    "query = '''\n",
    "What is cynS in Prochlorococcus MED4 and is it involved in bacterial interaction or nutrient exchange? \n",
    "Do not make up any information. If you don't know, try searching the web. \n",
    "If you still don't know, say 'I don't know'.\n",
    "'''\n",
    "\n",
    "sample_result = structured_llm.invoke(query)"
   ]
  },
  {
   "cell_type": "code",
   "execution_count": 34,
   "id": "cbfdd625",
   "metadata": {},
   "outputs": [],
   "source": [
    "query = '''\n",
    "What is cynS in Prochlorococcus MED4 and is it involved in bacterial interaction or nutrient exchange? \n",
    "Do not make up any information. If you don't know, try searching the web. \n",
    "If you still don't know, say 'I don't know'.\n",
    "'''\n",
    "\n",
    "sample_result = llm.invoke(query)"
   ]
  },
  {
   "cell_type": "code",
   "execution_count": 35,
   "id": "f67ee4ac",
   "metadata": {},
   "outputs": [
    {
     "data": {
      "text/plain": [
       "{'content': 'CynS in Prochlorococcus MED4 is the gene that encodes cyanase, which is involved in the utilization of cyanate. According to the information in source [2], cynS is part of the cynABDS operon and is implicated in cyanate utilization. This process is related to nitrogen metabolism in marine cyanobacteria like Prochlorococcus MED4.\\n\\nCyanase is not directly involved in bacterial interaction or nutrient exchange in the context provided by the sources. Its primary function is related to detoxifying cyanate, which is a byproduct of intracellular urea and/or carbamoyl phosphate decomposition, and it plays a significant role in nitrogen metabolism[2].',\n",
       " 'additional_kwargs': {'citations': ['https://genome.jgi.doe.gov/prom4/prom4.home.html',\n",
       "   'https://pubmed.ncbi.nlm.nih.gov/21057026/',\n",
       "   'https://www.frontiersin.org/journals/microbiology/articles/10.3389/fmicb.2012.00285/full',\n",
       "   'https://science.williams.edu/files/2020/12/ROS-2020-for-online-pub.pdf',\n",
       "   'https://www.pnas.org/doi/10.1073/pnas.2025638118']},\n",
       " 'response_metadata': {'model_name': 'llama-3.1-sonar-small-128k-online'},\n",
       " 'type': 'ai',\n",
       " 'name': None,\n",
       " 'id': 'run--c9cbe7ed-2d10-4e10-8e17-b767dd5ad19e-0',\n",
       " 'example': False,\n",
       " 'tool_calls': [],\n",
       " 'invalid_tool_calls': [],\n",
       " 'usage_metadata': {'input_tokens': 56,\n",
       "  'output_tokens': 141,\n",
       "  'total_tokens': 197}}"
      ]
     },
     "execution_count": 35,
     "metadata": {},
     "output_type": "execute_result"
    }
   ],
   "source": [
    "sample_result.model_dump()"
   ]
  },
  {
   "cell_type": "code",
   "execution_count": null,
   "id": "46d770c9",
   "metadata": {},
   "outputs": [],
   "source": []
  }
 ],
 "metadata": {
  "kernelspec": {
   "display_name": "spock",
   "language": "python",
   "name": "python3"
  },
  "language_info": {
   "codemirror_mode": {
    "name": "ipython",
    "version": 3
   },
   "file_extension": ".py",
   "mimetype": "text/x-python",
   "name": "python",
   "nbconvert_exporter": "python",
   "pygments_lexer": "ipython3",
   "version": "3.12.11"
  }
 },
 "nbformat": 4,
 "nbformat_minor": 5
}
