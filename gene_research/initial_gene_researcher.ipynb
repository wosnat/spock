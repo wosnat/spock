{
 "cells": [
  {
   "cell_type": "markdown",
   "id": "988c9cc8",
   "metadata": {},
   "source": [
    "# Initial gene researcher\n",
    "\n",
    "Do research on the given genes and generate an inital entry\n",
    "\n"
   ]
  },
  {
   "cell_type": "code",
   "execution_count": 2,
   "id": "d6f3f1a6",
   "metadata": {},
   "outputs": [
    {
     "data": {
      "text/plain": [
       "True"
      ]
     },
     "execution_count": 2,
     "metadata": {},
     "output_type": "execute_result"
    }
   ],
   "source": [
    "import os\n",
    "\n",
    "# load environment variables from .env file (requires `python-dotenv`)\n",
    "from dotenv import load_dotenv\n",
    "\n",
    "load_dotenv(override=True)\n",
    "\n"
   ]
  },
  {
   "cell_type": "code",
   "execution_count": null,
   "id": "d2156c6d",
   "metadata": {},
   "outputs": [],
   "source": []
  },
  {
   "cell_type": "code",
   "execution_count": 3,
   "id": "6c75ab04",
   "metadata": {},
   "outputs": [],
   "source": [
    "import gene_db_classes \n",
    "import gene_db_prompts as gene_db_prompts"
   ]
  },
  {
   "cell_type": "markdown",
   "id": "b1186290",
   "metadata": {},
   "source": [
    "# run a sample query with openai"
   ]
  },
  {
   "cell_type": "code",
   "execution_count": 3,
   "id": "a6f7f433",
   "metadata": {},
   "outputs": [],
   "source": [
    "# Initialize the chat model with OpenAI's GPT-4o-mini\n",
    "# pip install -qU \"langchain[openai]\"\n",
    "from langchain.chat_models import init_chat_model\n",
    "\n",
    "llm = init_chat_model(\"gpt-4o-mini\", model_provider=\"openai\", temperature=0.0)\n",
    "structured_llm = llm.with_structured_output(gene_db_classes.GeneResearchSummarySimple)"
   ]
  },
  {
   "cell_type": "code",
   "execution_count": 4,
   "id": "1e665f3b",
   "metadata": {},
   "outputs": [],
   "source": [
    "\n",
    "openai_web_search_tool = {\"type\": \"web_search_preview\"}\n",
    "structured_llm = llm.bind_tools(\n",
    "    [openai_web_search_tool],\n",
    "    response_format=gene_db_classes.GeneResearchSummarySimple,\n",
    "    strict=True,\n",
    ")\n"
   ]
  },
  {
   "cell_type": "code",
   "execution_count": 5,
   "id": "305b3277",
   "metadata": {},
   "outputs": [],
   "source": [
    "query = '''\n",
    "What is cynS in Prochlorococcus MED4 and is it involved in bacterial interaction or nutrient exchange? \n",
    "Do not make up any information. If you don't know, try searching the web. \n",
    "If you still don't know, say 'I don't know'.\n",
    "'''\n",
    "\n",
    "sample_result = structured_llm.invoke(query)"
   ]
  },
  {
   "cell_type": "code",
   "execution_count": 6,
   "id": "60d706bd",
   "metadata": {},
   "outputs": [
    {
     "data": {
      "text/plain": [
       "{'content': [{'type': 'text',\n",
       "   'text': '{\"gene_name\":\"cynS\",\"gene_function\":\"Encodes cyanate lyase, an enzyme that catalyzes the conversion of cyanate to ammonia and carbon dioxide.\",\"research_findings\":[{\"finding_category\":\"gene function\",\"finding_sub_category\":\"cyanate utilization\",\"finding_description\":\"In Prochlorococcus sp. strain MED4, cynS is part of the cynABDS operon, indicating its role in cyanate utilization.\",\"finding_evidence\":\"Gene expression analysis\",\"finding_type\":\"gene function\",\"url\":\"https://pubmed.ncbi.nlm.nih.gov/21057026/\",\"title\":\"Characterization of cyanate metabolism in marine Synechococcus and Prochlorococcus spp\",\"citation\":\"Rangel et al., 2010\",\"organism\":\"Prochlorococcus sp. strain MED4\",\"phylogenetic_distance\":\"close\",\"additional_notes\":\"The cynS gene is prevalent among cyanobacteria, suggesting its importance in nitrogen metabolism.\",\"confidence_score\":9}]} ',\n",
       "   'annotations': []}],\n",
       " 'additional_kwargs': {'tool_outputs': [{'id': 'ws_686529d411c8819e9f69c226ea8b9f9909b20eeb25611907',\n",
       "    'status': 'completed',\n",
       "    'type': 'web_search_call',\n",
       "    'action': {'type': 'search',\n",
       "     'query': 'cynS Prochlorococcus MED4 bacterial interaction nutrient exchange'}}],\n",
       "  'parsed': {'gene_name': 'cynS',\n",
       "   'gene_function': 'Encodes cyanate lyase, an enzyme that catalyzes the conversion of cyanate to ammonia and carbon dioxide.',\n",
       "   'research_findings': [{'finding_category': 'gene function',\n",
       "     'finding_sub_category': 'cyanate utilization',\n",
       "     'finding_description': 'In Prochlorococcus sp. strain MED4, cynS is part of the cynABDS operon, indicating its role in cyanate utilization.',\n",
       "     'finding_evidence': 'Gene expression analysis',\n",
       "     'finding_type': 'gene function',\n",
       "     'url': 'https://pubmed.ncbi.nlm.nih.gov/21057026/',\n",
       "     'title': 'Characterization of cyanate metabolism in marine Synechococcus and Prochlorococcus spp',\n",
       "     'citation': 'Rangel et al., 2010',\n",
       "     'organism': 'Prochlorococcus sp. strain MED4',\n",
       "     'phylogenetic_distance': 'close',\n",
       "     'additional_notes': 'The cynS gene is prevalent among cyanobacteria, suggesting its importance in nitrogen metabolism.',\n",
       "     'confidence_score': 9}]}},\n",
       " 'response_metadata': {'id': 'resp_686529d39004819ebf5c186aebf52b9009b20eeb25611907',\n",
       "  'created_at': 1751460307.0,\n",
       "  'metadata': {},\n",
       "  'model': 'gpt-4o-mini-2024-07-18',\n",
       "  'object': 'response',\n",
       "  'service_tier': 'default',\n",
       "  'status': 'completed',\n",
       "  'model_name': 'gpt-4o-mini-2024-07-18'},\n",
       " 'type': 'ai',\n",
       " 'name': None,\n",
       " 'id': 'msg_686529d6be08819e81779dcd68fc677809b20eeb25611907',\n",
       " 'example': False,\n",
       " 'tool_calls': [],\n",
       " 'invalid_tool_calls': [],\n",
       " 'usage_metadata': {'input_tokens': 924,\n",
       "  'output_tokens': 220,\n",
       "  'total_tokens': 1144,\n",
       "  'output_token_details': {}}}"
      ]
     },
     "execution_count": 6,
     "metadata": {},
     "output_type": "execute_result"
    }
   ],
   "source": [
    "sample_result.model_dump()"
   ]
  },
  {
   "cell_type": "code",
   "execution_count": 7,
   "id": "2cf3c6c5",
   "metadata": {},
   "outputs": [
    {
     "data": {
      "text/plain": [
       "['__abstractmethods__',\n",
       " '__add__',\n",
       " '__annotations__',\n",
       " '__class__',\n",
       " '__class_getitem__',\n",
       " '__class_vars__',\n",
       " '__copy__',\n",
       " '__deepcopy__',\n",
       " '__delattr__',\n",
       " '__dict__',\n",
       " '__dir__',\n",
       " '__doc__',\n",
       " '__eq__',\n",
       " '__fields__',\n",
       " '__fields_set__',\n",
       " '__format__',\n",
       " '__ge__',\n",
       " '__get_pydantic_core_schema__',\n",
       " '__get_pydantic_json_schema__',\n",
       " '__getattr__',\n",
       " '__getattribute__',\n",
       " '__getstate__',\n",
       " '__gt__',\n",
       " '__hash__',\n",
       " '__init__',\n",
       " '__init_subclass__',\n",
       " '__iter__',\n",
       " '__le__',\n",
       " '__lt__',\n",
       " '__module__',\n",
       " '__ne__',\n",
       " '__new__',\n",
       " '__pretty__',\n",
       " '__private_attributes__',\n",
       " '__pydantic_complete__',\n",
       " '__pydantic_computed_fields__',\n",
       " '__pydantic_core_schema__',\n",
       " '__pydantic_custom_init__',\n",
       " '__pydantic_decorators__',\n",
       " '__pydantic_extra__',\n",
       " '__pydantic_fields__',\n",
       " '__pydantic_fields_set__',\n",
       " '__pydantic_generic_metadata__',\n",
       " '__pydantic_init_subclass__',\n",
       " '__pydantic_parent_namespace__',\n",
       " '__pydantic_post_init__',\n",
       " '__pydantic_private__',\n",
       " '__pydantic_root_model__',\n",
       " '__pydantic_serializer__',\n",
       " '__pydantic_setattr_handlers__',\n",
       " '__pydantic_validator__',\n",
       " '__reduce__',\n",
       " '__reduce_ex__',\n",
       " '__replace__',\n",
       " '__repr__',\n",
       " '__repr_args__',\n",
       " '__repr_name__',\n",
       " '__repr_recursion__',\n",
       " '__repr_str__',\n",
       " '__rich_repr__',\n",
       " '__setattr__',\n",
       " '__setstate__',\n",
       " '__signature__',\n",
       " '__sizeof__',\n",
       " '__slots__',\n",
       " '__str__',\n",
       " '__subclasshook__',\n",
       " '__weakref__',\n",
       " '_abc_impl',\n",
       " '_backwards_compat_tool_calls',\n",
       " '_calculate_keys',\n",
       " '_copy_and_set_values',\n",
       " '_get_value',\n",
       " '_iter',\n",
       " '_setattr_handler',\n",
       " 'additional_kwargs',\n",
       " 'construct',\n",
       " 'content',\n",
       " 'copy',\n",
       " 'dict',\n",
       " 'example',\n",
       " 'from_orm',\n",
       " 'get_lc_namespace',\n",
       " 'id',\n",
       " 'invalid_tool_calls',\n",
       " 'is_lc_serializable',\n",
       " 'json',\n",
       " 'lc_attributes',\n",
       " 'lc_id',\n",
       " 'lc_secrets',\n",
       " 'model_computed_fields',\n",
       " 'model_config',\n",
       " 'model_construct',\n",
       " 'model_copy',\n",
       " 'model_dump',\n",
       " 'model_dump_json',\n",
       " 'model_extra',\n",
       " 'model_fields',\n",
       " 'model_fields_set',\n",
       " 'model_json_schema',\n",
       " 'model_parametrized_name',\n",
       " 'model_post_init',\n",
       " 'model_rebuild',\n",
       " 'model_validate',\n",
       " 'model_validate_json',\n",
       " 'model_validate_strings',\n",
       " 'name',\n",
       " 'parse_file',\n",
       " 'parse_obj',\n",
       " 'parse_raw',\n",
       " 'pretty_print',\n",
       " 'pretty_repr',\n",
       " 'response_metadata',\n",
       " 'schema',\n",
       " 'schema_json',\n",
       " 'text',\n",
       " 'to_json',\n",
       " 'to_json_not_implemented',\n",
       " 'tool_calls',\n",
       " 'type',\n",
       " 'update_forward_refs',\n",
       " 'usage_metadata',\n",
       " 'validate']"
      ]
     },
     "execution_count": 7,
     "metadata": {},
     "output_type": "execute_result"
    }
   ],
   "source": [
    "dir(sample_result)"
   ]
  },
  {
   "cell_type": "markdown",
   "id": "eea963b8",
   "metadata": {},
   "source": [
    "# run a sample query with openai"
   ]
  },
  {
   "cell_type": "code",
   "execution_count": 8,
   "id": "282de51b",
   "metadata": {},
   "outputs": [],
   "source": [
    "# Initialize the chat model with OpenAI's GPT-4o-mini\n",
    "# pip install -qU \"langchain[openai]\"\n",
    "from langchain.chat_models import init_chat_model\n",
    "\n",
    "llm = init_chat_model(\"gpt-4o-mini\", model_provider=\"openai\", temperature=0.0)\n",
    "structured_llm = llm.with_structured_output(gene_db_classes.GeneResearchSummarySimple)"
   ]
  },
  {
   "cell_type": "markdown",
   "id": "31b96c40",
   "metadata": {},
   "source": [
    "\n",
    "openai_web_search_tool = {\"type\": \"web_search_preview\"}\n",
    "structured_llm = llm.bind_tools(\n",
    "    [openai_web_search_tool],\n",
    "    #response_format=gene_db_classes.GeneResearchEntry,\n",
    "    strict=True,\n",
    ")\n"
   ]
  },
  {
   "cell_type": "code",
   "execution_count": 9,
   "id": "4d9b9ce4",
   "metadata": {},
   "outputs": [],
   "source": [
    "query = '''\n",
    "What is cynS in Prochlorococcus MED4 and is it involved in bacterial interaction or nutrient exchange? \n",
    "Do not make up any information. If you don't know, try searching the web. \n",
    "If you still don't know, say 'I don't know'.\n",
    "'''\n",
    "\n",
    "sample_result = structured_llm.invoke(query)"
   ]
  },
  {
   "cell_type": "code",
   "execution_count": 10,
   "id": "0265db05",
   "metadata": {},
   "outputs": [
    {
     "data": {
      "text/plain": [
       "{'gene_name': 'cynS',\n",
       " 'gene_function': 'CynS is involved in the synthesis of cyanate, which is a nitrogen source for the organism.',\n",
       " 'research_findings': [{'finding_category': 'nutrient uptake',\n",
       "   'finding_sub_category': 'cyanate utilization',\n",
       "   'finding_description': 'CynS facilitates the uptake and utilization of cyanate as a nitrogen source in Prochlorococcus MED4.',\n",
       "   'finding_evidence': 'Gene knockout experiments showed reduced growth on cyanate in cynS mutants compared to wild type.',\n",
       "   'finding_type': 'nutrient uptake',\n",
       "   'url': 'https://www.ncbi.nlm.nih.gov/pubmed/12345678',\n",
       "   'title': 'Role of cynS in cyanate utilization in Prochlorococcus MED4',\n",
       "   'citation': 'Smith et al., 2020, Journal of Marine Microbiology',\n",
       "   'organism': 'Prochlorococcus MED4',\n",
       "   'phylogenetic_distance': 'close',\n",
       "   'additional_notes': 'CynS may play a role in interactions with other microorganisms by utilizing cyanate, which can influence nutrient dynamics in marine environments.',\n",
       "   'confidence_score': 8}]}"
      ]
     },
     "execution_count": 10,
     "metadata": {},
     "output_type": "execute_result"
    }
   ],
   "source": [
    "sample_result.model_dump()"
   ]
  },
  {
   "cell_type": "code",
   "execution_count": 11,
   "id": "0e081a73",
   "metadata": {},
   "outputs": [
    {
     "data": {
      "text/plain": [
       "RunnableBinding(bound=ChatOpenAI(client=<openai.resources.chat.completions.completions.Completions object at 0x000001CBBFC48920>, async_client=<openai.resources.chat.completions.completions.AsyncCompletions object at 0x000001CBCA5655B0>, root_client=<openai.OpenAI object at 0x000001CBCA1EE780>, root_async_client=<openai.AsyncOpenAI object at 0x000001CBC0053EC0>, model_name='gpt-4o-mini', temperature=0.0, model_kwargs={}, openai_api_key=SecretStr('**********')), kwargs={'response_format': <class 'gene_db_classes.GeneResearchSummarySimple'>, 'ls_structured_output_format': {'kwargs': {'method': 'json_schema', 'strict': None}, 'schema': {'type': 'function', 'function': {'name': 'GeneResearchSummarySimple', 'description': \"Research on a specific gene's involvement in coping with stress conditions\", 'parameters': {'properties': {'gene_name': {'description': 'Name of the gene being studied', 'type': 'string'}, 'gene_function': {'description': 'Function of the gene', 'type': 'string'}, 'research_findings': {'description': 'List of research findings related to this gene, can be empty if none found', 'items': {'description': 'Description of the research process and findings related to a specific finding on a specific gene', 'properties': {'finding_category': {'description': \"Category of the finding, e.g. 'physiological', 'gene function', 'stress response', 'nutrient uptake', 'nutrient exudation', 'coculture role'\", 'type': 'string'}, 'finding_sub_category': {'description': \"sub category of the finding, e.g. 'high light stress' for stress response, nutrient name/type for nutrient exchange\", 'type': 'string'}, 'finding_description': {'description': 'Description of the finding related to the gene', 'type': 'string'}, 'finding_evidence': {'description': \"Evidence supporting this finding, e.g. 'gene knockout experiments', 'gene expression analysis', 'protein interaction studies'\", 'type': 'string'}, 'finding_type': {'description': \"Type of finding, e.g. 'gene function', 'stress response', 'nutrient uptake', 'nutrient exudation', 'coculture role'\", 'type': 'string'}, 'url': {'description': 'URL to access the research paper supporting this finding', 'type': 'string'}, 'title': {'description': 'Title of the research paper supporting this finding', 'type': 'string'}, 'citation': {'description': 'Citation for the research paper supporting this finding', 'type': 'string'}, 'organism': {'description': 'Organism where the finding is studied in the cited literature', 'type': 'string'}, 'phylogenetic_distance': {'description': 'Phylogenetic distance between this research and Prochlorococcus', 'type': 'string'}, 'additional_notes': {'description': 'Any additional notes or comments about the finding', 'type': 'string'}, 'confidence_score': {'anyOf': [{'maximum': 10, 'minimum': 1, 'type': 'integer'}, {'type': 'null'}], 'default': None, 'description': 'A numerical score representing the confidence in the evidence, from 1 to 10'}}, 'required': ['finding_category', 'finding_sub_category', 'finding_description', 'finding_evidence', 'finding_type', 'url', 'title', 'citation', 'organism', 'phylogenetic_distance', 'additional_notes'], 'type': 'object'}, 'type': 'array'}}, 'required': ['gene_name', 'gene_function', 'research_findings'], 'type': 'object'}}}}}, config={}, config_factories=[])\n",
       "| RunnableBinding(bound=RunnableLambda(...), kwargs={}, config={}, config_factories=[], custom_output_type=<class 'gene_db_classes.GeneResearchSummarySimple'>)"
      ]
     },
     "execution_count": 11,
     "metadata": {},
     "output_type": "execute_result"
    }
   ],
   "source": [
    "structured_llm"
   ]
  },
  {
   "cell_type": "code",
   "execution_count": null,
   "id": "81003f2e",
   "metadata": {},
   "outputs": [],
   "source": []
  },
  {
   "cell_type": "markdown",
   "id": "ced3024c",
   "metadata": {},
   "source": [
    "# run a sample query with perplexity"
   ]
  },
  {
   "cell_type": "code",
   "execution_count": 15,
   "id": "eb2acd53",
   "metadata": {},
   "outputs": [],
   "source": [
    "# Initialize the chat model with OpenAI's GPT-4o-mini\n",
    "# pip install -qU \"langchain-perplexity\"\n",
    "from langchain.chat_models import init_chat_model\n",
    "#     \"search_mode\": \"academic\",\n",
    "#llm = init_chat_model(\"llama-3.1-sonar-small-128k-online\", model_provider=\"perplexity\")\n",
    "# add to the invoke call:\n",
    "#extra_body={\"search_mode\": \"academic\"}\n",
    "llm = init_chat_model(\"sonar-pro\", model_provider=\"perplexity\")\n",
    "# no structured output for tier 1 models in perplexity\n",
    "#structured_llm = llm.with_structured_output(gene_db_classes.GeneResearchSummarySimple)"
   ]
  },
  {
   "cell_type": "code",
   "execution_count": null,
   "id": "eaff0fa8",
   "metadata": {},
   "outputs": [],
   "source": [
    "\n",
    "from langchain_core.prompts import ChatPromptTemplate\n",
    "\n",
    "prompt_template = ChatPromptTemplate([\n",
    "    #(\"system\", gene_db_prompts.system_prompt_from_gemini_without_literature_placeholder),\n",
    "    (\"user\", gene_db_prompts.another_prompt_build_gene_entry_try1)\n",
    "])\n",
    "\n",
    "query = prompt_template.invoke({\"gene_name_or_id\": \"amt1\", 'organism': \"Prochlorococcus MED4\"})"
   ]
  },
  {
   "cell_type": "code",
   "execution_count": 17,
   "id": "2bb4f6f1",
   "metadata": {},
   "outputs": [
    {
     "data": {
      "text/plain": [
       "{'content': '<research_summary>\\n<gene_function>\\nThe **amt1** gene in Prochlorococcus MED4 encodes an ammonium transporter protein that is integral to the uptake of ammonium (NH₄⁺) from the environment. Ammonium is the preferred nitrogen source for many cyanobacteria due to its high bioavailability and low energetic cost of assimilation. In Prochlorococcus, amt1 is highly conserved and is specifically upregulated under nitrogen limitation, indicating its primary function is to facilitate ammonium acquisition when external nitrogen is scarce (Tolonen et al., 2006). Amt1 is part of a family of membrane proteins that transport ammonium across the cytoplasmic membrane, contributing to nitrogen assimilation and overall cellular nitrogen homeostasis[3].\\n</gene_function>\\n\\n<physiological_impact>\\nUnder nitrogen limitation, **amt1** expression is significantly increased, suggesting that Prochlorococcus tightly regulates this transporter to maximize ammonium uptake when nitrogen sources are depleted. Elevated amt1 expression helps maintain cellular nitrogen levels, supporting basic metabolic functions and growth, even when external nitrogen is scarce. This response is critical for survival in oligotrophic (nutrient-poor) marine environments, where Prochlorococcus is abundant. The physiological state of the cell is thus closely linked to amt1 activity, as efficient ammonium uptake is necessary to sustain photosynthesis, protein synthesis, and cell division under nutrient stress (Tolonen et al., 2006)[3].\\n</physiological_impact>\\n\\n<stress_response>\\nAmt1 is directly involved in the **nitrogen stress response** of Prochlorococcus. When nitrogen becomes limiting, amt1 is upregulated, along with other nitrogen acquisition genes such as ntcA, the global nitrogen regulator. This indicates that amt1 is part of a broader adaptive transcriptional response that enables Prochlorococcus to sense and respond to environmental nitrogen depletion. The contrasting regulation of ntcA and amt1 observed under nitrogen stress highlights the dynamic adjustment of nitrogen metabolism in response to environmental cues (Tolonen et al., 2006)[3].\\n</stress_response>\\n\\n<nutrient_exchange>\\nAmt1’s primary role in **nutrient exchange** is the import of ammonium from the surrounding seawater into the Prochlorococcus cell, directly impacting the nitrogen cycle in marine environments. While the amt1 gene is not directly implicated in the release of nitrogenous compounds, its activity can influence the overall flux of nitrogen within microbial communities by affecting the amount of available nitrogen for other organisms, including Alteromonas, in coculture settings. Efficient ammonium uptake by Prochlorococcus via amt1 may reduce the availability of this nutrient to heterotrophs, thereby structuring community dynamics (Tolonen et al., 2006)[3].\\n</nutrient_exchange>\\n\\n<nutrient_uptake>\\nAmt1 is a **high-affinity ammonium transporter**. Its expression is tightly regulated and upregulated under nitrogen limitation, allowing Prochlorococcus to efficiently scavenge trace amounts of ammonium from oligotrophic waters. This high-affinity uptake mechanism is essential for the survival and competitiveness of Prochlorococcus in environments where nitrogen is often the limiting nutrient (Tolonen et al., 2006)[3].\\n</nutrient_uptake>\\n\\n<nutrient_release>\\nThere is **no direct evidence** that amt1 is involved in the release of nitrogenous compounds by Prochlorococcus. Its function is restricted to the uptake of ammonium, and there is no indication from the literature that amt1 activity leads to the excretion of nitrogen metabolites. However, the overall nitrogen status of the cell, influenced by amt1-mediated uptake, may indirectly affect the exudation of organic nitrogen compounds, although this remains speculative and is not directly supported by current research.\\n</nutrient_release>\\n\\n<oxidative_stress>\\nThere is **no direct evidence** linking amt1 to oxidative stress response in Prochlorococcus. The amt1 gene is primarily associated with nitrogen acquisition rather than the management of reactive oxygen species or other oxidative stress pathways. However, maintaining nitrogen homeostasis may indirectly support cellular functions that mitigate oxidative stress, since nitrogen limitation can exacerbate stress conditions in cyanobacteria, but amt1’s role in this context appears secondary and indirect (Tolonen et al., 2006)[3].\\n</oxidative_stress>\\n\\n<bacterial_interaction>\\nIn **coculture with Alteromonas under nitrogen limitation**, amt1-mediated ammonium uptake by Prochlorococcus may influence the availability of nitrogenous compounds in the shared environment. Alteromonas, a heterotrophic bacterium, may compete with Prochlorococcus for available ammonium, or alternatively, may benefit from nitrogen compounds released by Prochlorococcus. The upregulation of amt1 in Prochlorococcus under nitrogen limitation would likely enhance its competitiveness for ammonium, potentially reducing the nutrient available to Alteromonas and thereby affecting the outcome of coculture interactions. However, direct studies on amt1’s specific role in mediating these interactions between Prochlorococcus MED4 and Alteromonas remain limited, and further research is needed to precisely characterize these dynamics (Tolonen et al., 2006)[3].\\n</bacterial_interaction>\\n\\n<citations>\\n- Tolonen, A. C., Aach, J., Lindell, D., Johnson, Z. I., Rector, T., Steen, R., ... & Chisholm, S. W. (2006). Nitrogen stress response of Prochlorococcus strain PCC 9511 (Oxyphotobacteria) involves contrasting regulation of ntcA and amt1. Environmental Microbiology, 8(3), 462-472. https://sfamjournals.onlinelibrary.wiley.com/doi/10.1046/j.1462-2920.2003.00456.x\\n</citations>\\n\\n<confidence_assessment>\\nThe findings summarized here are primarily based on a single, well-cited and peer-reviewed study (Tolonen et al., 2006) that directly addresses amt1 gene function and its regulation in Prochlorococcus under nitrogen stress. The study is highly relevant, but there is a lack of multiple independent investigations specifically examining amt1 in the context of Prochlorococcus MED4 and Alteromonas coculture. Broader literature on nutrient uptake and competition in marine microbial communities supports these interpretations, but direct experimental data on interspecies interactions mediated by amt1 remain limited. Therefore, while there is strong confidence in the core function and regulation of amt1, the assessment of its ecological role in coculture scenarios and in oxidative stress is less certain and may require further investigation.\\n</confidence_assessment>\\n\\n<confidence_score>\\n7\\n</confidence_score>\\n</research_summary>',\n",
       " 'additional_kwargs': {'citations': ['https://dx.plos.org/10.1371/journal.pone.0133207',\n",
       "   'https://sfamjournals.onlinelibrary.wiley.com/doi/10.1046/j.1462-2920.2003.00456.x',\n",
       "   'https://onlinelibrary.wiley.com/doi/10.1046/j.1529-8817.2002.01205.x',\n",
       "   'https://pnas.org/doi/full/10.1073/pnas.0601301103',\n",
       "   'https://dx.plos.org/10.1371/journal.pone.0109327',\n",
       "   'https://pnas.org/doi/full/10.1073/pnas.1733211100',\n",
       "   'https://journals.asm.org/doi/10.1128/JB.01948-06',\n",
       "   'https://journals.asm.org/doi/10.1128/JB.06444-11',\n",
       "   'https://aslopubs.onlinelibrary.wiley.com/doi/10.4319/lo.1999.44.3.0628',\n",
       "   'https://www.semanticscholar.org/paper/79165f309420a74372f3ae3be4d25a7cbe653723']},\n",
       " 'response_metadata': {'model_name': 'sonar-pro'},\n",
       " 'type': 'ai',\n",
       " 'name': None,\n",
       " 'id': 'run--137e754e-f0bc-4e00-88e8-4200778bac2d-0',\n",
       " 'example': False,\n",
       " 'tool_calls': [],\n",
       " 'invalid_tool_calls': [],\n",
       " 'usage_metadata': {'input_tokens': 663,\n",
       "  'output_tokens': 1391,\n",
       "  'total_tokens': 2054}}"
      ]
     },
     "execution_count": 17,
     "metadata": {},
     "output_type": "execute_result"
    }
   ],
   "source": [
    "#\n",
    "extra_body_perplexity = dict(search_mode=\"academic\", web_search_options=dict(search_context_size=\"high\"))\n",
    "\n",
    "sample_result = llm.invoke(query, extra_body=extra_body_perplexity)\n",
    "sample_result.model_dump()\n"
   ]
  },
  {
   "cell_type": "code",
   "execution_count": 18,
   "id": "9eb3c327",
   "metadata": {},
   "outputs": [
    {
     "name": "stdout",
     "output_type": "stream",
     "text": [
      "<research_summary>\n",
      "<gene_function>\n",
      "The **amt1** gene in Prochlorococcus MED4 encodes an ammonium transporter protein that is integral to the uptake of ammonium (NH₄⁺) from the environment. Ammonium is the preferred nitrogen source for many cyanobacteria due to its high bioavailability and low energetic cost of assimilation. In Prochlorococcus, amt1 is highly conserved and is specifically upregulated under nitrogen limitation, indicating its primary function is to facilitate ammonium acquisition when external nitrogen is scarce (Tolonen et al., 2006). Amt1 is part of a family of membrane proteins that transport ammonium across the cytoplasmic membrane, contributing to nitrogen assimilation and overall cellular nitrogen homeostasis[3].\n",
      "</gene_function>\n",
      "\n",
      "<physiological_impact>\n",
      "Under nitrogen limitation, **amt1** expression is significantly increased, suggesting that Prochlorococcus tightly regulates this transporter to maximize ammonium uptake when nitrogen sources are depleted. Elevated amt1 expression helps maintain cellular nitrogen levels, supporting basic metabolic functions and growth, even when external nitrogen is scarce. This response is critical for survival in oligotrophic (nutrient-poor) marine environments, where Prochlorococcus is abundant. The physiological state of the cell is thus closely linked to amt1 activity, as efficient ammonium uptake is necessary to sustain photosynthesis, protein synthesis, and cell division under nutrient stress (Tolonen et al., 2006)[3].\n",
      "</physiological_impact>\n",
      "\n",
      "<stress_response>\n",
      "Amt1 is directly involved in the **nitrogen stress response** of Prochlorococcus. When nitrogen becomes limiting, amt1 is upregulated, along with other nitrogen acquisition genes such as ntcA, the global nitrogen regulator. This indicates that amt1 is part of a broader adaptive transcriptional response that enables Prochlorococcus to sense and respond to environmental nitrogen depletion. The contrasting regulation of ntcA and amt1 observed under nitrogen stress highlights the dynamic adjustment of nitrogen metabolism in response to environmental cues (Tolonen et al., 2006)[3].\n",
      "</stress_response>\n",
      "\n",
      "<nutrient_exchange>\n",
      "Amt1’s primary role in **nutrient exchange** is the import of ammonium from the surrounding seawater into the Prochlorococcus cell, directly impacting the nitrogen cycle in marine environments. While the amt1 gene is not directly implicated in the release of nitrogenous compounds, its activity can influence the overall flux of nitrogen within microbial communities by affecting the amount of available nitrogen for other organisms, including Alteromonas, in coculture settings. Efficient ammonium uptake by Prochlorococcus via amt1 may reduce the availability of this nutrient to heterotrophs, thereby structuring community dynamics (Tolonen et al., 2006)[3].\n",
      "</nutrient_exchange>\n",
      "\n",
      "<nutrient_uptake>\n",
      "Amt1 is a **high-affinity ammonium transporter**. Its expression is tightly regulated and upregulated under nitrogen limitation, allowing Prochlorococcus to efficiently scavenge trace amounts of ammonium from oligotrophic waters. This high-affinity uptake mechanism is essential for the survival and competitiveness of Prochlorococcus in environments where nitrogen is often the limiting nutrient (Tolonen et al., 2006)[3].\n",
      "</nutrient_uptake>\n",
      "\n",
      "<nutrient_release>\n",
      "There is **no direct evidence** that amt1 is involved in the release of nitrogenous compounds by Prochlorococcus. Its function is restricted to the uptake of ammonium, and there is no indication from the literature that amt1 activity leads to the excretion of nitrogen metabolites. However, the overall nitrogen status of the cell, influenced by amt1-mediated uptake, may indirectly affect the exudation of organic nitrogen compounds, although this remains speculative and is not directly supported by current research.\n",
      "</nutrient_release>\n",
      "\n",
      "<oxidative_stress>\n",
      "There is **no direct evidence** linking amt1 to oxidative stress response in Prochlorococcus. The amt1 gene is primarily associated with nitrogen acquisition rather than the management of reactive oxygen species or other oxidative stress pathways. However, maintaining nitrogen homeostasis may indirectly support cellular functions that mitigate oxidative stress, since nitrogen limitation can exacerbate stress conditions in cyanobacteria, but amt1’s role in this context appears secondary and indirect (Tolonen et al., 2006)[3].\n",
      "</oxidative_stress>\n",
      "\n",
      "<bacterial_interaction>\n",
      "In **coculture with Alteromonas under nitrogen limitation**, amt1-mediated ammonium uptake by Prochlorococcus may influence the availability of nitrogenous compounds in the shared environment. Alteromonas, a heterotrophic bacterium, may compete with Prochlorococcus for available ammonium, or alternatively, may benefit from nitrogen compounds released by Prochlorococcus. The upregulation of amt1 in Prochlorococcus under nitrogen limitation would likely enhance its competitiveness for ammonium, potentially reducing the nutrient available to Alteromonas and thereby affecting the outcome of coculture interactions. However, direct studies on amt1’s specific role in mediating these interactions between Prochlorococcus MED4 and Alteromonas remain limited, and further research is needed to precisely characterize these dynamics (Tolonen et al., 2006)[3].\n",
      "</bacterial_interaction>\n",
      "\n",
      "<citations>\n",
      "- Tolonen, A. C., Aach, J., Lindell, D., Johnson, Z. I., Rector, T., Steen, R., ... & Chisholm, S. W. (2006). Nitrogen stress response of Prochlorococcus strain PCC 9511 (Oxyphotobacteria) involves contrasting regulation of ntcA and amt1. Environmental Microbiology, 8(3), 462-472. https://sfamjournals.onlinelibrary.wiley.com/doi/10.1046/j.1462-2920.2003.00456.x\n",
      "</citations>\n",
      "\n",
      "<confidence_assessment>\n",
      "The findings summarized here are primarily based on a single, well-cited and peer-reviewed study (Tolonen et al., 2006) that directly addresses amt1 gene function and its regulation in Prochlorococcus under nitrogen stress. The study is highly relevant, but there is a lack of multiple independent investigations specifically examining amt1 in the context of Prochlorococcus MED4 and Alteromonas coculture. Broader literature on nutrient uptake and competition in marine microbial communities supports these interpretations, but direct experimental data on interspecies interactions mediated by amt1 remain limited. Therefore, while there is strong confidence in the core function and regulation of amt1, the assessment of its ecological role in coculture scenarios and in oxidative stress is less certain and may require further investigation.\n",
      "</confidence_assessment>\n",
      "\n",
      "<confidence_score>\n",
      "7\n",
      "</confidence_score>\n",
      "</research_summary>\n"
     ]
    }
   ],
   "source": [
    "print(sample_result.content)\n"
   ]
  },
  {
   "cell_type": "code",
   "execution_count": 19,
   "id": "f4ccac1f",
   "metadata": {},
   "outputs": [],
   "source": [
    "# Initialize the chat model with OpenAI's GPT-4o-mini\n",
    "# pip install -qU \"langchain[openai]\"\n",
    "from langchain.chat_models import init_chat_model\n",
    "\n",
    "openaillm = init_chat_model(\"gpt-4o-mini\", model_provider=\"openai\", temperature=0.0)\n",
    "structured_openaillm = openaillm.with_structured_output(gene_db_classes.GeneResearchSummarySimple)"
   ]
  },
  {
   "cell_type": "code",
   "execution_count": 20,
   "id": "090bd05e",
   "metadata": {},
   "outputs": [],
   "source": [
    "second_prompt = '''\n",
    "I have the following information about the gene {gene_name_or_id} in {organism}:\n",
    "\n",
    "\n",
    "# REVIEW text to be reformatted:\n",
    "{review_text}\n",
    "\n",
    "# TASK AND INSTRUCTIONS\n",
    "Your primary goal is to populate a JSON object that strictly adheres to the `GeneResearchSummarySimple` schema based on the review above and published literature.\n",
    "Your task is to search the web for relevant scientific literature related to the gene `{gene_name_or_id}` and synthesize the findings into a structured JSON object.\n",
    "\n",
    "\n",
    "1.  **Gene Function:** First, determine and concisely state the primary function of the gene `{gene_name_or_id}`.\n",
    "2.  **Identify Findings:** Scour the literature for specific experimental findings related to the **Key Biological Processes of Interest** mentioned above.\n",
    "3.  **Populate ResearchFindingSimple:** For each distinct finding, create a `ResearchFindingSimple` object.\n",
    "    - **finding_category/finding_type:** Use one of the key process terms (e.g., 'nutrient uptake', 'stress response', 'coculture role').\n",
    "    - **finding_description:** Be specific. Instead of \"involved in N metabolism,\" write \"Shown to be upregulated under nitrogen starvation, facilitating the uptake of ammonium.\"\n",
    "    - **finding_evidence:** Extract the experimental method, e.g., 'gene expression analysis (RNA-seq)', 'proteomic analysis (mass spectrometry)', 'knockout mutant phenotype'.\n",
    "    - **Phylogenetic Distance:** This is crucial. Assess the organism used in the study:\n",
    "        - 'Direct': The study was done in Prochlorococcus.\n",
    "        - 'Close': The study was in another cyanobacterium (e.g., Synechococcus, Synechocystis).\n",
    "        - 'Relevant': The study was in another marine bacterium (e.g., Alteromonas itself, Vibrio).\n",
    "        - 'Distant': The study was in a model organism like E. coli or yeast, but the function is highly conserved.\n",
    "    - **Confidence Score (1-10):** Assign a score based on the evidence's relevance and directness.\n",
    "        - **10:** Direct experimental evidence (e.g., knockout) in the exact Prochlorococcus strain of interest showing the effect.\n",
    "        - **8-9:** Direct evidence (transcriptome/proteome) in Prochlorococcus or a very close relative under nitrogen limitation.\n",
    "        - **6-7:** Strong evidence in a related cyanobacterium or clear homology-based inference.\n",
    "        - **3-5:** Inferred function based on studies in distant organisms (e.g., E. coli) or purely correlational data.\n",
    "        - **1-2:** Highly speculative connection.\n",
    "4.  **Final Output:** Your final output must be **only the JSON object** that can be parsed directly. Do not include any explanatory text before or after the JSON.\n",
    "\n",
    "Use the `GeneResearchSummarySimple` schema to generate your response.\n",
    "\n",
    "'''\n",
    "\n",
    "\n",
    "\n",
    "second_prompt_template = ChatPromptTemplate([\n",
    "    #(\"system\", gene_db_prompts.system_prompt_from_gemini_without_literature_placeholder),\n",
    "    (\"user\", second_prompt)\n",
    "])\n",
    "\n",
    "query = second_prompt_template.invoke({\n",
    "    \"gene_name_or_id\": \"amt1\",\n",
    "    'organism': \"Prochlorococcus MED4\",\n",
    "    'review_text': sample_result.content\n",
    "})\n",
    "sample_result_reformated = structured_openaillm.invoke(query)\n"
   ]
  },
  {
   "cell_type": "code",
   "execution_count": 21,
   "id": "5f16434d",
   "metadata": {},
   "outputs": [
    {
     "data": {
      "text/plain": [
       "{'gene_name': 'amt1',\n",
       " 'gene_function': 'The amt1 gene encodes an ammonium transporter protein that facilitates the uptake of ammonium (NH₄⁺) from the environment, particularly under nitrogen limitation.',\n",
       " 'research_findings': [{'finding_category': 'nutrient uptake',\n",
       "   'finding_sub_category': 'ammonium uptake',\n",
       "   'finding_description': 'Shown to be upregulated under nitrogen starvation, facilitating the uptake of ammonium.',\n",
       "   'finding_evidence': 'gene expression analysis (RNA-seq)',\n",
       "   'finding_type': 'nutrient uptake',\n",
       "   'url': 'https://sfamjournals.onlinelibrary.wiley.com/doi/10.1046/j.1462-2920.2003.00456.x',\n",
       "   'title': 'Nitrogen stress response of Prochlorococcus strain PCC 9511 (Oxyphotobacteria) involves contrasting regulation of ntcA and amt1',\n",
       "   'citation': 'Tolonen, A. C., Aach, J., Lindell, D., Johnson, Z. I., Rector, T., Steen, R., ... & Chisholm, S. W. (2006). Environmental Microbiology, 8(3), 462-472.',\n",
       "   'organism': 'Prochlorococcus MED4',\n",
       "   'phylogenetic_distance': 'Direct',\n",
       "   'additional_notes': 'This finding highlights the critical role of amt1 in nitrogen acquisition under nutrient-limited conditions.',\n",
       "   'confidence_score': 9},\n",
       "  {'finding_category': 'stress response',\n",
       "   'finding_sub_category': 'nitrogen stress response',\n",
       "   'finding_description': 'Amt1 is upregulated in response to nitrogen limitation, indicating its role in the nitrogen stress response.',\n",
       "   'finding_evidence': 'gene expression analysis (RNA-seq)',\n",
       "   'finding_type': 'stress response',\n",
       "   'url': 'https://sfamjournals.onlinelibrary.wiley.com/doi/10.1046/j.1462-2920.2003.00456.x',\n",
       "   'title': 'Nitrogen stress response of Prochlorococcus strain PCC 9511 (Oxyphotobacteria) involves contrasting regulation of ntcA and amt1',\n",
       "   'citation': 'Tolonen, A. C., Aach, J., Lindell, D., Johnson, Z. I., Rector, T., Steen, R., ... & Chisholm, S. W. (2006). Environmental Microbiology, 8(3), 462-472.',\n",
       "   'organism': 'Prochlorococcus MED4',\n",
       "   'phylogenetic_distance': 'Direct',\n",
       "   'additional_notes': 'This indicates a broader adaptive transcriptional response to nitrogen depletion.',\n",
       "   'confidence_score': 9},\n",
       "  {'finding_category': 'nutrient exchange',\n",
       "   'finding_sub_category': 'ammonium import',\n",
       "   'finding_description': 'Amt1 facilitates the import of ammonium, impacting nitrogen availability in marine microbial communities.',\n",
       "   'finding_evidence': 'functional assays and community interaction studies',\n",
       "   'finding_type': 'nutrient exchange',\n",
       "   'url': 'https://sfamjournals.onlinelibrary.wiley.com/doi/10.1046/j.1462-2920.2003.00456.x',\n",
       "   'title': 'Nitrogen stress response of Prochlorococcus strain PCC 9511 (Oxyphotobacteria) involves contrasting regulation of ntcA and amt1',\n",
       "   'citation': 'Tolonen, A. C., Aach, J., Lindell, D., Johnson, Z. I., Rector, T., Steen, R., ... & Chisholm, S. W. (2006). Environmental Microbiology, 8(3), 462-472.',\n",
       "   'organism': 'Prochlorococcus MED4',\n",
       "   'phylogenetic_distance': 'Direct',\n",
       "   'additional_notes': 'This role may influence community dynamics by affecting nitrogen availability for other organisms.',\n",
       "   'confidence_score': 8}]}"
      ]
     },
     "execution_count": 21,
     "metadata": {},
     "output_type": "execute_result"
    }
   ],
   "source": [
    "sample_result_reformated.model_dump()"
   ]
  },
  {
   "cell_type": "code",
   "execution_count": null,
   "id": "a97c7d0c",
   "metadata": {},
   "outputs": [],
   "source": []
  },
  {
   "cell_type": "code",
   "execution_count": 14,
   "id": "369bcac1",
   "metadata": {},
   "outputs": [
    {
     "ename": "TypeError",
     "evalue": "Completions.create() got an unexpected keyword argument 'params_list'",
     "output_type": "error",
     "traceback": [
      "\u001b[31m---------------------------------------------------------------------------\u001b[39m",
      "\u001b[31mTypeError\u001b[39m                                 Traceback (most recent call last)",
      "\u001b[36mCell\u001b[39m\u001b[36m \u001b[39m\u001b[32mIn[14]\u001b[39m\u001b[32m, line 20\u001b[39m\n\u001b[32m     17\u001b[39m         saved_file = run_query_and_save(params, result)\n\u001b[32m     18\u001b[39m         \u001b[38;5;28mprint\u001b[39m(\u001b[33mf\u001b[39m\u001b[33m\"\u001b[39m\u001b[33mSaved: \u001b[39m\u001b[38;5;132;01m{\u001b[39;00msaved_file\u001b[38;5;132;01m}\u001b[39;00m\u001b[33m\"\u001b[39m)\n\u001b[32m---> \u001b[39m\u001b[32m20\u001b[39m \u001b[38;5;28;01mawait\u001b[39;00m batch_run_and_save()\n",
      "\u001b[36mCell\u001b[39m\u001b[36m \u001b[39m\u001b[32mIn[14]\u001b[39m\u001b[32m, line 16\u001b[39m, in \u001b[36mbatch_run_and_save\u001b[39m\u001b[34m()\u001b[39m\n\u001b[32m     14\u001b[39m prompt_values = [prompt_template.invoke(params) \u001b[38;5;28;01mfor\u001b[39;00m params \u001b[38;5;129;01min\u001b[39;00m param_list]\n\u001b[32m     15\u001b[39m \u001b[38;5;66;03m# abatch_as_completed returns an async generator\u001b[39;00m\n\u001b[32m---> \u001b[39m\u001b[32m16\u001b[39m \u001b[38;5;28;01masync\u001b[39;00m \u001b[38;5;28;01mfor\u001b[39;00m params, result \u001b[38;5;129;01min\u001b[39;00m llm.abatch_as_completed(prompt_values, params_list=param_list):\n\u001b[32m     17\u001b[39m     saved_file = run_query_and_save(params, result)\n\u001b[32m     18\u001b[39m     \u001b[38;5;28mprint\u001b[39m(\u001b[33mf\u001b[39m\u001b[33m\"\u001b[39m\u001b[33mSaved: \u001b[39m\u001b[38;5;132;01m{\u001b[39;00msaved_file\u001b[38;5;132;01m}\u001b[39;00m\u001b[33m\"\u001b[39m)\n",
      "\u001b[36mFile \u001b[39m\u001b[32mc:\\Users\\Osnat\\Documents\\GitHub\\spock\\.venv\\Lib\\site-packages\\langchain_core\\runnables\\base.py:994\u001b[39m, in \u001b[36mRunnable.abatch_as_completed\u001b[39m\u001b[34m(self, inputs, config, return_exceptions, **kwargs)\u001b[39m\n\u001b[32m    986\u001b[39m coros = [\n\u001b[32m    987\u001b[39m     gated_coro(semaphore, ainvoke_task(i, input_, config))\n\u001b[32m    988\u001b[39m     \u001b[38;5;28;01mif\u001b[39;00m semaphore\n\u001b[32m    989\u001b[39m     \u001b[38;5;28;01melse\u001b[39;00m ainvoke_task(i, input_, config)\n\u001b[32m    990\u001b[39m     \u001b[38;5;28;01mfor\u001b[39;00m i, (input_, config) \u001b[38;5;129;01min\u001b[39;00m \u001b[38;5;28menumerate\u001b[39m(\u001b[38;5;28mzip\u001b[39m(inputs, configs))\n\u001b[32m    991\u001b[39m ]\n\u001b[32m    993\u001b[39m \u001b[38;5;28;01mfor\u001b[39;00m coro \u001b[38;5;129;01min\u001b[39;00m asyncio.as_completed(coros):\n\u001b[32m--> \u001b[39m\u001b[32m994\u001b[39m     \u001b[38;5;28;01myield\u001b[39;00m \u001b[38;5;28;01mawait\u001b[39;00m coro\n",
      "\u001b[36mFile \u001b[39m\u001b[32m~\\AppData\\Roaming\\uv\\python\\cpython-3.12.11-windows-x86_64-none\\Lib\\asyncio\\tasks.py:631\u001b[39m, in \u001b[36mas_completed.<locals>._wait_for_one\u001b[39m\u001b[34m()\u001b[39m\n\u001b[32m    628\u001b[39m \u001b[38;5;28;01mif\u001b[39;00m f \u001b[38;5;129;01mis\u001b[39;00m \u001b[38;5;28;01mNone\u001b[39;00m:\n\u001b[32m    629\u001b[39m     \u001b[38;5;66;03m# Dummy value from _on_timeout().\u001b[39;00m\n\u001b[32m    630\u001b[39m     \u001b[38;5;28;01mraise\u001b[39;00m exceptions.TimeoutError\n\u001b[32m--> \u001b[39m\u001b[32m631\u001b[39m \u001b[38;5;28;01mreturn\u001b[39;00m \u001b[43mf\u001b[49m\u001b[43m.\u001b[49m\u001b[43mresult\u001b[49m\u001b[43m(\u001b[49m\u001b[43m)\u001b[49m\n",
      "\u001b[36mFile \u001b[39m\u001b[32mc:\\Users\\Osnat\\Documents\\GitHub\\spock\\.venv\\Lib\\site-packages\\langchain_core\\runnables\\base.py:983\u001b[39m, in \u001b[36mRunnable.abatch_as_completed.<locals>.ainvoke_task\u001b[39m\u001b[34m(i, input_, config)\u001b[39m\n\u001b[32m    981\u001b[39m         out = e\n\u001b[32m    982\u001b[39m \u001b[38;5;28;01melse\u001b[39;00m:\n\u001b[32m--> \u001b[39m\u001b[32m983\u001b[39m     out = \u001b[38;5;28;01mawait\u001b[39;00m \u001b[38;5;28mself\u001b[39m.ainvoke(input_, config, **kwargs)\n\u001b[32m    984\u001b[39m \u001b[38;5;28;01mreturn\u001b[39;00m (i, out)\n",
      "\u001b[36mFile \u001b[39m\u001b[32mc:\\Users\\Osnat\\Documents\\GitHub\\spock\\.venv\\Lib\\site-packages\\langchain_core\\language_models\\chat_models.py:394\u001b[39m, in \u001b[36mBaseChatModel.ainvoke\u001b[39m\u001b[34m(self, input, config, stop, **kwargs)\u001b[39m\n\u001b[32m    384\u001b[39m \u001b[38;5;129m@override\u001b[39m\n\u001b[32m    385\u001b[39m \u001b[38;5;28;01masync\u001b[39;00m \u001b[38;5;28;01mdef\u001b[39;00m\u001b[38;5;250m \u001b[39m\u001b[34mainvoke\u001b[39m(\n\u001b[32m    386\u001b[39m     \u001b[38;5;28mself\u001b[39m,\n\u001b[32m   (...)\u001b[39m\u001b[32m    391\u001b[39m     **kwargs: Any,\n\u001b[32m    392\u001b[39m ) -> BaseMessage:\n\u001b[32m    393\u001b[39m     config = ensure_config(config)\n\u001b[32m--> \u001b[39m\u001b[32m394\u001b[39m     llm_result = \u001b[38;5;28;01mawait\u001b[39;00m \u001b[38;5;28mself\u001b[39m.agenerate_prompt(\n\u001b[32m    395\u001b[39m         [\u001b[38;5;28mself\u001b[39m._convert_input(\u001b[38;5;28minput\u001b[39m)],\n\u001b[32m    396\u001b[39m         stop=stop,\n\u001b[32m    397\u001b[39m         callbacks=config.get(\u001b[33m\"\u001b[39m\u001b[33mcallbacks\u001b[39m\u001b[33m\"\u001b[39m),\n\u001b[32m    398\u001b[39m         tags=config.get(\u001b[33m\"\u001b[39m\u001b[33mtags\u001b[39m\u001b[33m\"\u001b[39m),\n\u001b[32m    399\u001b[39m         metadata=config.get(\u001b[33m\"\u001b[39m\u001b[33mmetadata\u001b[39m\u001b[33m\"\u001b[39m),\n\u001b[32m    400\u001b[39m         run_name=config.get(\u001b[33m\"\u001b[39m\u001b[33mrun_name\u001b[39m\u001b[33m\"\u001b[39m),\n\u001b[32m    401\u001b[39m         run_id=config.pop(\u001b[33m\"\u001b[39m\u001b[33mrun_id\u001b[39m\u001b[33m\"\u001b[39m, \u001b[38;5;28;01mNone\u001b[39;00m),\n\u001b[32m    402\u001b[39m         **kwargs,\n\u001b[32m    403\u001b[39m     )\n\u001b[32m    404\u001b[39m     \u001b[38;5;28;01mreturn\u001b[39;00m cast(\u001b[33m\"\u001b[39m\u001b[33mChatGeneration\u001b[39m\u001b[33m\"\u001b[39m, llm_result.generations[\u001b[32m0\u001b[39m][\u001b[32m0\u001b[39m]).message\n",
      "\u001b[36mFile \u001b[39m\u001b[32mc:\\Users\\Osnat\\Documents\\GitHub\\spock\\.venv\\Lib\\site-packages\\langchain_core\\language_models\\chat_models.py:968\u001b[39m, in \u001b[36mBaseChatModel.agenerate_prompt\u001b[39m\u001b[34m(self, prompts, stop, callbacks, **kwargs)\u001b[39m\n\u001b[32m    959\u001b[39m \u001b[38;5;129m@override\u001b[39m\n\u001b[32m    960\u001b[39m \u001b[38;5;28;01masync\u001b[39;00m \u001b[38;5;28;01mdef\u001b[39;00m\u001b[38;5;250m \u001b[39m\u001b[34magenerate_prompt\u001b[39m(\n\u001b[32m    961\u001b[39m     \u001b[38;5;28mself\u001b[39m,\n\u001b[32m   (...)\u001b[39m\u001b[32m    965\u001b[39m     **kwargs: Any,\n\u001b[32m    966\u001b[39m ) -> LLMResult:\n\u001b[32m    967\u001b[39m     prompt_messages = [p.to_messages() \u001b[38;5;28;01mfor\u001b[39;00m p \u001b[38;5;129;01min\u001b[39;00m prompts]\n\u001b[32m--> \u001b[39m\u001b[32m968\u001b[39m     \u001b[38;5;28;01mreturn\u001b[39;00m \u001b[38;5;28;01mawait\u001b[39;00m \u001b[38;5;28mself\u001b[39m.agenerate(\n\u001b[32m    969\u001b[39m         prompt_messages, stop=stop, callbacks=callbacks, **kwargs\n\u001b[32m    970\u001b[39m     )\n",
      "\u001b[36mFile \u001b[39m\u001b[32mc:\\Users\\Osnat\\Documents\\GitHub\\spock\\.venv\\Lib\\site-packages\\langchain_core\\language_models\\chat_models.py:926\u001b[39m, in \u001b[36mBaseChatModel.agenerate\u001b[39m\u001b[34m(self, messages, stop, callbacks, tags, metadata, run_name, run_id, **kwargs)\u001b[39m\n\u001b[32m    913\u001b[39m     \u001b[38;5;28;01mif\u001b[39;00m run_managers:\n\u001b[32m    914\u001b[39m         \u001b[38;5;28;01mawait\u001b[39;00m asyncio.gather(\n\u001b[32m    915\u001b[39m             *[\n\u001b[32m    916\u001b[39m                 run_manager.on_llm_end(\n\u001b[32m   (...)\u001b[39m\u001b[32m    924\u001b[39m             ]\n\u001b[32m    925\u001b[39m         )\n\u001b[32m--> \u001b[39m\u001b[32m926\u001b[39m     \u001b[38;5;28;01mraise\u001b[39;00m exceptions[\u001b[32m0\u001b[39m]\n\u001b[32m    927\u001b[39m flattened_outputs = [\n\u001b[32m    928\u001b[39m     LLMResult(generations=[res.generations], llm_output=res.llm_output)  \u001b[38;5;66;03m# type: ignore[list-item, union-attr]\u001b[39;00m\n\u001b[32m    929\u001b[39m     \u001b[38;5;28;01mfor\u001b[39;00m res \u001b[38;5;129;01min\u001b[39;00m results\n\u001b[32m    930\u001b[39m ]\n\u001b[32m    931\u001b[39m llm_output = \u001b[38;5;28mself\u001b[39m._combine_llm_outputs([res.llm_output \u001b[38;5;28;01mfor\u001b[39;00m res \u001b[38;5;129;01min\u001b[39;00m results])  \u001b[38;5;66;03m# type: ignore[union-attr]\u001b[39;00m\n",
      "\u001b[36mFile \u001b[39m\u001b[32mc:\\Users\\Osnat\\Documents\\GitHub\\spock\\.venv\\Lib\\site-packages\\langchain_core\\language_models\\chat_models.py:1094\u001b[39m, in \u001b[36mBaseChatModel._agenerate_with_cache\u001b[39m\u001b[34m(self, messages, stop, run_manager, **kwargs)\u001b[39m\n\u001b[32m   1092\u001b[39m     result = generate_from_stream(\u001b[38;5;28miter\u001b[39m(chunks))\n\u001b[32m   1093\u001b[39m \u001b[38;5;28;01melif\u001b[39;00m inspect.signature(\u001b[38;5;28mself\u001b[39m._agenerate).parameters.get(\u001b[33m\"\u001b[39m\u001b[33mrun_manager\u001b[39m\u001b[33m\"\u001b[39m):\n\u001b[32m-> \u001b[39m\u001b[32m1094\u001b[39m     result = \u001b[38;5;28;01mawait\u001b[39;00m \u001b[38;5;28mself\u001b[39m._agenerate(\n\u001b[32m   1095\u001b[39m         messages, stop=stop, run_manager=run_manager, **kwargs\n\u001b[32m   1096\u001b[39m     )\n\u001b[32m   1097\u001b[39m \u001b[38;5;28;01melse\u001b[39;00m:\n\u001b[32m   1098\u001b[39m     result = \u001b[38;5;28;01mawait\u001b[39;00m \u001b[38;5;28mself\u001b[39m._agenerate(messages, stop=stop, **kwargs)\n",
      "\u001b[36mFile \u001b[39m\u001b[32mc:\\Users\\Osnat\\Documents\\GitHub\\spock\\.venv\\Lib\\site-packages\\langchain_core\\language_models\\chat_models.py:1134\u001b[39m, in \u001b[36mBaseChatModel._agenerate\u001b[39m\u001b[34m(self, messages, stop, run_manager, **kwargs)\u001b[39m\n\u001b[32m   1126\u001b[39m \u001b[38;5;28;01masync\u001b[39;00m \u001b[38;5;28;01mdef\u001b[39;00m\u001b[38;5;250m \u001b[39m\u001b[34m_agenerate\u001b[39m(\n\u001b[32m   1127\u001b[39m     \u001b[38;5;28mself\u001b[39m,\n\u001b[32m   1128\u001b[39m     messages: \u001b[38;5;28mlist\u001b[39m[BaseMessage],\n\u001b[32m   (...)\u001b[39m\u001b[32m   1131\u001b[39m     **kwargs: Any,\n\u001b[32m   1132\u001b[39m ) -> ChatResult:\n\u001b[32m   1133\u001b[39m \u001b[38;5;250m    \u001b[39m\u001b[33;03m\"\"\"Top Level call.\"\"\"\u001b[39;00m\n\u001b[32m-> \u001b[39m\u001b[32m1134\u001b[39m     \u001b[38;5;28;01mreturn\u001b[39;00m \u001b[38;5;28;01mawait\u001b[39;00m run_in_executor(\n\u001b[32m   1135\u001b[39m         \u001b[38;5;28;01mNone\u001b[39;00m,\n\u001b[32m   1136\u001b[39m         \u001b[38;5;28mself\u001b[39m._generate,\n\u001b[32m   1137\u001b[39m         messages,\n\u001b[32m   1138\u001b[39m         stop,\n\u001b[32m   1139\u001b[39m         run_manager.get_sync() \u001b[38;5;28;01mif\u001b[39;00m run_manager \u001b[38;5;28;01melse\u001b[39;00m \u001b[38;5;28;01mNone\u001b[39;00m,\n\u001b[32m   1140\u001b[39m         **kwargs,\n\u001b[32m   1141\u001b[39m     )\n",
      "\u001b[36mFile \u001b[39m\u001b[32mc:\\Users\\Osnat\\Documents\\GitHub\\spock\\.venv\\Lib\\site-packages\\langchain_core\\runnables\\config.py:616\u001b[39m, in \u001b[36mrun_in_executor\u001b[39m\u001b[34m(executor_or_config, func, *args, **kwargs)\u001b[39m\n\u001b[32m    612\u001b[39m         \u001b[38;5;28;01mraise\u001b[39;00m \u001b[38;5;167;01mRuntimeError\u001b[39;00m \u001b[38;5;28;01mfrom\u001b[39;00m\u001b[38;5;250m \u001b[39m\u001b[34;01mexc\u001b[39;00m\n\u001b[32m    614\u001b[39m \u001b[38;5;28;01mif\u001b[39;00m executor_or_config \u001b[38;5;129;01mis\u001b[39;00m \u001b[38;5;28;01mNone\u001b[39;00m \u001b[38;5;129;01mor\u001b[39;00m \u001b[38;5;28misinstance\u001b[39m(executor_or_config, \u001b[38;5;28mdict\u001b[39m):\n\u001b[32m    615\u001b[39m     \u001b[38;5;66;03m# Use default executor with context copied from current context\u001b[39;00m\n\u001b[32m--> \u001b[39m\u001b[32m616\u001b[39m     \u001b[38;5;28;01mreturn\u001b[39;00m \u001b[38;5;28;01mawait\u001b[39;00m asyncio.get_running_loop().run_in_executor(\n\u001b[32m    617\u001b[39m         \u001b[38;5;28;01mNone\u001b[39;00m,\n\u001b[32m    618\u001b[39m         cast(\u001b[33m\"\u001b[39m\u001b[33mCallable[..., T]\u001b[39m\u001b[33m\"\u001b[39m, partial(copy_context().run, wrapper)),\n\u001b[32m    619\u001b[39m     )\n\u001b[32m    621\u001b[39m \u001b[38;5;28;01mreturn\u001b[39;00m \u001b[38;5;28;01mawait\u001b[39;00m asyncio.get_running_loop().run_in_executor(executor_or_config, wrapper)\n",
      "\u001b[36mFile \u001b[39m\u001b[32m~\\AppData\\Roaming\\uv\\python\\cpython-3.12.11-windows-x86_64-none\\Lib\\concurrent\\futures\\thread.py:59\u001b[39m, in \u001b[36m_WorkItem.run\u001b[39m\u001b[34m(self)\u001b[39m\n\u001b[32m     56\u001b[39m     \u001b[38;5;28;01mreturn\u001b[39;00m\n\u001b[32m     58\u001b[39m \u001b[38;5;28;01mtry\u001b[39;00m:\n\u001b[32m---> \u001b[39m\u001b[32m59\u001b[39m     result = \u001b[38;5;28;43mself\u001b[39;49m\u001b[43m.\u001b[49m\u001b[43mfn\u001b[49m\u001b[43m(\u001b[49m\u001b[43m*\u001b[49m\u001b[38;5;28;43mself\u001b[39;49m\u001b[43m.\u001b[49m\u001b[43margs\u001b[49m\u001b[43m,\u001b[49m\u001b[43m \u001b[49m\u001b[43m*\u001b[49m\u001b[43m*\u001b[49m\u001b[38;5;28;43mself\u001b[39;49m\u001b[43m.\u001b[49m\u001b[43mkwargs\u001b[49m\u001b[43m)\u001b[49m\n\u001b[32m     60\u001b[39m \u001b[38;5;28;01mexcept\u001b[39;00m \u001b[38;5;167;01mBaseException\u001b[39;00m \u001b[38;5;28;01mas\u001b[39;00m exc:\n\u001b[32m     61\u001b[39m     \u001b[38;5;28mself\u001b[39m.future.set_exception(exc)\n",
      "\u001b[36mFile \u001b[39m\u001b[32mc:\\Users\\Osnat\\Documents\\GitHub\\spock\\.venv\\Lib\\site-packages\\langchain_core\\runnables\\config.py:607\u001b[39m, in \u001b[36mrun_in_executor.<locals>.wrapper\u001b[39m\u001b[34m()\u001b[39m\n\u001b[32m    605\u001b[39m \u001b[38;5;28;01mdef\u001b[39;00m\u001b[38;5;250m \u001b[39m\u001b[34mwrapper\u001b[39m() -> T:\n\u001b[32m    606\u001b[39m     \u001b[38;5;28;01mtry\u001b[39;00m:\n\u001b[32m--> \u001b[39m\u001b[32m607\u001b[39m         \u001b[38;5;28;01mreturn\u001b[39;00m \u001b[43mfunc\u001b[49m\u001b[43m(\u001b[49m\u001b[43m*\u001b[49m\u001b[43margs\u001b[49m\u001b[43m,\u001b[49m\u001b[43m \u001b[49m\u001b[43m*\u001b[49m\u001b[43m*\u001b[49m\u001b[43mkwargs\u001b[49m\u001b[43m)\u001b[49m\n\u001b[32m    608\u001b[39m     \u001b[38;5;28;01mexcept\u001b[39;00m \u001b[38;5;167;01mStopIteration\u001b[39;00m \u001b[38;5;28;01mas\u001b[39;00m exc:\n\u001b[32m    609\u001b[39m         \u001b[38;5;66;03m# StopIteration can't be set on an asyncio.Future\u001b[39;00m\n\u001b[32m    610\u001b[39m         \u001b[38;5;66;03m# it raises a TypeError and leaves the Future pending forever\u001b[39;00m\n\u001b[32m    611\u001b[39m         \u001b[38;5;66;03m# so we need to convert it to a RuntimeError\u001b[39;00m\n\u001b[32m    612\u001b[39m         \u001b[38;5;28;01mraise\u001b[39;00m \u001b[38;5;167;01mRuntimeError\u001b[39;00m \u001b[38;5;28;01mfrom\u001b[39;00m\u001b[38;5;250m \u001b[39m\u001b[34;01mexc\u001b[39;00m\n",
      "\u001b[36mFile \u001b[39m\u001b[32mc:\\Users\\Osnat\\Documents\\GitHub\\spock\\.venv\\Lib\\site-packages\\langchain_perplexity\\chat_models.py:372\u001b[39m, in \u001b[36mChatPerplexity._generate\u001b[39m\u001b[34m(self, messages, stop, run_manager, **kwargs)\u001b[39m\n\u001b[32m    370\u001b[39m message_dicts, params = \u001b[38;5;28mself\u001b[39m._create_message_dicts(messages, stop)\n\u001b[32m    371\u001b[39m params = {**params, **kwargs}\n\u001b[32m--> \u001b[39m\u001b[32m372\u001b[39m response = \u001b[38;5;28;43mself\u001b[39;49m\u001b[43m.\u001b[49m\u001b[43mclient\u001b[49m\u001b[43m.\u001b[49m\u001b[43mchat\u001b[49m\u001b[43m.\u001b[49m\u001b[43mcompletions\u001b[49m\u001b[43m.\u001b[49m\u001b[43mcreate\u001b[49m\u001b[43m(\u001b[49m\u001b[43mmessages\u001b[49m\u001b[43m=\u001b[49m\u001b[43mmessage_dicts\u001b[49m\u001b[43m,\u001b[49m\u001b[43m \u001b[49m\u001b[43m*\u001b[49m\u001b[43m*\u001b[49m\u001b[43mparams\u001b[49m\u001b[43m)\u001b[49m\n\u001b[32m    373\u001b[39m \u001b[38;5;28;01mif\u001b[39;00m usage := \u001b[38;5;28mgetattr\u001b[39m(response, \u001b[33m\"\u001b[39m\u001b[33musage\u001b[39m\u001b[33m\"\u001b[39m, \u001b[38;5;28;01mNone\u001b[39;00m):\n\u001b[32m    374\u001b[39m     usage_metadata = _create_usage_metadata(usage.model_dump())\n",
      "\u001b[36mFile \u001b[39m\u001b[32mc:\\Users\\Osnat\\Documents\\GitHub\\spock\\.venv\\Lib\\site-packages\\openai\\_utils\\_utils.py:287\u001b[39m, in \u001b[36mrequired_args.<locals>.inner.<locals>.wrapper\u001b[39m\u001b[34m(*args, **kwargs)\u001b[39m\n\u001b[32m    285\u001b[39m             msg = \u001b[33mf\u001b[39m\u001b[33m\"\u001b[39m\u001b[33mMissing required argument: \u001b[39m\u001b[38;5;132;01m{\u001b[39;00mquote(missing[\u001b[32m0\u001b[39m])\u001b[38;5;132;01m}\u001b[39;00m\u001b[33m\"\u001b[39m\n\u001b[32m    286\u001b[39m     \u001b[38;5;28;01mraise\u001b[39;00m \u001b[38;5;167;01mTypeError\u001b[39;00m(msg)\n\u001b[32m--> \u001b[39m\u001b[32m287\u001b[39m \u001b[38;5;28;01mreturn\u001b[39;00m \u001b[43mfunc\u001b[49m\u001b[43m(\u001b[49m\u001b[43m*\u001b[49m\u001b[43margs\u001b[49m\u001b[43m,\u001b[49m\u001b[43m \u001b[49m\u001b[43m*\u001b[49m\u001b[43m*\u001b[49m\u001b[43mkwargs\u001b[49m\u001b[43m)\u001b[49m\n",
      "\u001b[31mTypeError\u001b[39m: Completions.create() got an unexpected keyword argument 'params_list'"
     ]
    }
   ],
   "source": [
    "from pathlib import Path\n",
    "import asyncio\n",
    "def run_query_and_save(params, result):\n",
    "    gene = params[\"gene_name_or_id\"]\n",
    "    organism = params[\"organism\"].replace(\" \", \"_\")\n",
    "    filename = output_dir / f\"{gene}_{organism}.txt\"\n",
    "    with open(filename, \"w\", encoding=\"utf-8\") as f:\n",
    "        f.write(result.content)\n",
    "    return filename\n",
    "\n",
    "\n",
    "async def batch_run_and_save():\n",
    "    # Prepare prompt values for each param\n",
    "    prompt_values = [prompt_template.invoke(params) for params in param_list]\n",
    "    # abatch_as_completed returns an async generator\n",
    "    async for params, result in llm.abatch_as_completed(prompt_values, params_list=param_list):\n",
    "        saved_file = run_query_and_save(params, result)\n",
    "        print(f\"Saved: {saved_file}\")\n",
    "\n",
    "await batch_run_and_save()\n"
   ]
  },
  {
   "cell_type": "code",
   "execution_count": null,
   "id": "3011ac99",
   "metadata": {},
   "outputs": [],
   "source": []
  }
 ],
 "metadata": {
  "kernelspec": {
   "display_name": "spock",
   "language": "python",
   "name": "python3"
  },
  "language_info": {
   "codemirror_mode": {
    "name": "ipython",
    "version": 3
   },
   "file_extension": ".py",
   "mimetype": "text/x-python",
   "name": "python",
   "nbconvert_exporter": "python",
   "pygments_lexer": "ipython3",
   "version": "3.12.11"
  }
 },
 "nbformat": 4,
 "nbformat_minor": 5
}
