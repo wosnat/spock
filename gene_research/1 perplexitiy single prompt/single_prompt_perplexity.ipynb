{
 "cells": [
  {
   "cell_type": "markdown",
   "id": "68cbf4fe",
   "metadata": {},
   "source": [
    "# Single prompt from perplexity\n",
    "\n",
    "This notebook implements creating a simple DB using a single prompt from perplexity, using the builtin web search in the model. Not using any of the complex reasoning model as this is the first attempt - but using the sonar-pro model and the relatively high context to improve the result.\n",
    "\n",
    "Because perplexity does not support structured outputs, the result undergo a second transformation by chatgpt-4o-mini which change the format to the DB format."
   ]
  },
  {
   "cell_type": "code",
   "execution_count": 1,
   "id": "0389d0c9",
   "metadata": {},
   "outputs": [],
   "source": [
    "import os\n",
    "import json\n",
    "from IPython.display import Markdown, display, update_display\n",
    "import pandas as pd\n",
    "import numpy as np\n",
    "import gffpandas.gffpandas as gffpd\n"
   ]
  },
  {
   "cell_type": "code",
   "execution_count": 2,
   "id": "2c8ee3b0",
   "metadata": {},
   "outputs": [
    {
     "data": {
      "text/plain": [
       "True"
      ]
     },
     "execution_count": 2,
     "metadata": {},
     "output_type": "execute_result"
    }
   ],
   "source": [
    "# get api keys\n",
    "import os\n",
    "\n",
    "# load environment variables from .env file (requires `python-dotenv`)\n",
    "from dotenv import load_dotenv\n",
    "\n",
    "load_dotenv(override=True)\n",
    "\n"
   ]
  },
  {
   "cell_type": "code",
   "execution_count": 3,
   "id": "0c42570d",
   "metadata": {},
   "outputs": [],
   "source": [
    "os.environ[\"LANGCHAIN_PROJECT\"] = \"cc1a3_plx_single\""
   ]
  },
  {
   "cell_type": "code",
   "execution_count": 4,
   "id": "c5754f79",
   "metadata": {},
   "outputs": [],
   "source": [
    "%load_ext autoreload\n",
    "%autoreload 2"
   ]
  },
  {
   "cell_type": "code",
   "execution_count": 32,
   "id": "b974d7f8",
   "metadata": {},
   "outputs": [],
   "source": [
    "import gene_db_classes \n",
    "import gene_db_prompts \n",
    "import extract_citation"
   ]
  },
  {
   "cell_type": "markdown",
   "id": "bba718a8",
   "metadata": {},
   "source": [
    "# Initialize the models and create templates"
   ]
  },
  {
   "cell_type": "code",
   "execution_count": 6,
   "id": "90cb455f",
   "metadata": {},
   "outputs": [],
   "source": [
    "# Initialize the chat model with perplexity sonar-pro\n",
    "# pip install -qU \"langchain-perplexity\"\n",
    "from langchain.chat_models import init_chat_model\n",
    "perplexity_llm = init_chat_model(\"sonar-pro\", model_provider=\"perplexity\", temperature=0, max_tokens=3000)\n",
    "\n",
    "# perlexity additional parameters\n",
    "extra_body_perplexity = dict(search_mode=\"academic\", web_search_options=dict(search_context_size=\"high\"))\n",
    "\n",
    "# no structured output for tier 1 models in perplexity\n",
    "#structured_llm = llm.with_structured_output(gene_db_classes.GeneResearchSummarySimple)"
   ]
  },
  {
   "cell_type": "code",
   "execution_count": 7,
   "id": "ad54d4a0",
   "metadata": {},
   "outputs": [],
   "source": [
    "# Initialize the chat model with OpenAI's GPT-4o-mini\n",
    "# pip install -qU \"langchain[openai]\"\n",
    "from langchain.chat_models import init_chat_model\n",
    "\n",
    "openai_llm = init_chat_model(\"gpt-4o-mini\", model_provider=\"openai\", temperature=0.0)\n",
    "structured_openai_llm = openai_llm.with_structured_output(gene_db_classes.GeneResearchSummarySimple)"
   ]
  },
  {
   "cell_type": "code",
   "execution_count": 8,
   "id": "a43ae4d9",
   "metadata": {},
   "outputs": [],
   "source": [
    "\n",
    "openai_web_search_tool = {\"type\": \"web_search_preview\"}\n",
    "structured_openai_llm_with_tool = openai_llm.bind_tools(\n",
    "    [openai_web_search_tool],\n",
    "    response_format=gene_db_classes.GeneResearchSummarySimple,\n",
    "    strict=True,\n",
    ")\n",
    "\n"
   ]
  },
  {
   "cell_type": "code",
   "execution_count": 9,
   "id": "80f90487",
   "metadata": {},
   "outputs": [],
   "source": [
    "\n",
    "from langchain_core.prompts import ChatPromptTemplate\n",
    "prompt_template = ChatPromptTemplate([\n",
    "    #(\"system\", gene_db_prompts.system_prompt_from_gemini_without_literature_placeholder),\n",
    "    (\"user\", gene_db_prompts.prompt_for_single_prompt_perplexity_prochlorococcus)\n",
    "])\n",
    "def get_prompt_for_row(x):\n",
    "    return prompt_template.invoke(dict(\n",
    "        gene_name_or_id=x['Name_gene'],\n",
    "        locus_tag=x['locus_tag'],\n",
    "        product=x['product'],\n",
    "        protein_id=x['protein_id'], \n",
    "        old_locus_tag=x['old_locus_tag'],\n",
    "    ))\n",
    "\n"
   ]
  },
  {
   "cell_type": "code",
   "execution_count": 10,
   "id": "6dd802ec",
   "metadata": {},
   "outputs": [],
   "source": [
    "second_prompt_template = ChatPromptTemplate([\n",
    "    #(\"system\", gene_db_prompts.system_prompt_from_gemini_without_literature_placeholder),\n",
    "    (\"user\", gene_db_prompts.second_prompt_for_single_prompt_perplexity_prochlorococcus)\n",
    "])\n",
    "\n",
    "def _get_citations_urls(perplexity_response):\n",
    "    citations_urls_list =perplexity_response.additional_kwargs['citations']\n",
    "    formatted_list = [f'[{i}] {url}' for i, url in enumerate(citations_urls_list, start=1) ]\n",
    "    return '\\n'.join(formatted_list)\n",
    "\n",
    "    \n",
    "\n",
    "def get_second_prompt_for_gene(gene_name, perplexity_response):\n",
    "    return second_prompt_template.invoke(dict(\n",
    "        gene_name_or_id=gene_name,\n",
    "        review_text=perplexity_response.content,\n",
    "        citations_urls=_get_citations_urls(perplexity_response),\n",
    "    ))\n"
   ]
  },
  {
   "cell_type": "markdown",
   "id": "d0303649",
   "metadata": {},
   "source": [
    "# Load MED4 genes"
   ]
  },
  {
   "cell_type": "code",
   "execution_count": 11,
   "id": "17eba95a",
   "metadata": {},
   "outputs": [
    {
     "data": {
      "text/plain": [
       "['cds_from_genomic.fna',\n",
       " 'GCF_000011465.1_ASM1146v1_genomic.fna',\n",
       " 'GCF_000011465.1_ASM1146v1_genomic.fna.fai',\n",
       " 'genomic.gbff',\n",
       " 'genomic.gff',\n",
       " 'genomic.gtf',\n",
       " 'MED4.bed',\n",
       " 'MED4_biocyc_pathways.txt',\n",
       " 'MED4_named_genes_NCBI.csv',\n",
       " 'MED4_pathways.csv',\n",
       " 'MED4_PMM2locus.csv',\n",
       " 'MED4_protein.faa',\n",
       " 'MED4_user_ko.txt',\n",
       " 'Pro_MED4.gff',\n",
       " 'README.get_pmm',\n",
       " 'sequence_report.jsonl',\n",
       " 'uniprot-taxonomy-59919.tab']"
      ]
     },
     "execution_count": 11,
     "metadata": {},
     "output_type": "execute_result"
    }
   ],
   "source": [
    "import os\n",
    "med4_genome_dpath = '../../genomes/MED4'\n",
    "os.listdir(med4_genome_dpath)"
   ]
  },
  {
   "cell_type": "code",
   "execution_count": 12,
   "id": "804261ee",
   "metadata": {},
   "outputs": [],
   "source": [
    "annotation = gffpd.read_gff3(os.path.join(med4_genome_dpath, 'genomic.gff'))\n",
    "gff_cds_df = annotation.filter_feature_of_type(['CDS']).attributes_to_columns()\n",
    "gff_gene_df = annotation.filter_feature_of_type(['gene']).attributes_to_columns()\n",
    "\n",
    "gff_df = pd.merge(gff_cds_df, gff_gene_df, on='locus_tag', suffixes=('_cds', '_gene'), how='left')\n",
    "\n",
    "gff_columns = [#'phase','Name', 'Note', 'exception', 'gbkey', 'inference', 'partial','pseudo',\n",
    "               'gene_name', 'gene', 'locus_tag', \n",
    "       'product', 'protein_id', ]\n",
    "#gff_df[gff_columns]\n"
   ]
  },
  {
   "cell_type": "code",
   "execution_count": 13,
   "id": "e9d1d6bb",
   "metadata": {},
   "outputs": [],
   "source": [
    "gff_columns = [\n",
    "    #'seq_id_cds', 'source_cds', 'type_cds', 'start_cds', 'end_cds',\n",
    "    #'score_cds', 'strand_cds', 'phase_cds', 'attributes_cds', 'Dbxref',\n",
    "    #'ID_cds', \n",
    "    #'Name_cds', #'Note', 'Parent', 'end_range', 'exception',\n",
    "    #'gbkey_cds', \n",
    "    #'gene_cds', #'inference', \n",
    "    'locus_tag', #'partial', \n",
    "    'product',\n",
    "       'protein_id', 'pseudo', #'transl_table', 'seq_id_gene', 'source_gene',\n",
    "       #'type_gene', 'start_gene', 'end_gene', 'score_gene', 'strand_gene',\n",
    "       #'phase_gene', 'attributes_gene', 'ID_gene', \n",
    "       'Name_gene', #'gbkey_gene',\n",
    "      'gene_gene', \n",
    "      'gene_biotype', 'old_locus_tag'\n",
    "]"
   ]
  },
  {
   "cell_type": "code",
   "execution_count": 14,
   "id": "02568cfa",
   "metadata": {},
   "outputs": [
    {
     "data": {
      "text/plain": [
       "Index(['seq_id_cds', 'source_cds', 'type_cds', 'start_cds', 'end_cds',\n",
       "       'score_cds', 'strand_cds', 'phase_cds', 'attributes_cds', 'Dbxref',\n",
       "       'ID_cds', 'Name_cds', 'Note', 'Parent', 'end_range', 'exception',\n",
       "       'gbkey_cds', 'gene_cds', 'inference', 'locus_tag', 'partial', 'product',\n",
       "       'protein_id', 'pseudo', 'transl_table', 'seq_id_gene', 'source_gene',\n",
       "       'type_gene', 'start_gene', 'end_gene', 'score_gene', 'strand_gene',\n",
       "       'phase_gene', 'attributes_gene', 'ID_gene', 'Name_gene', 'gbkey_gene',\n",
       "       'gene_gene', 'gene_biotype', 'old_locus_tag'],\n",
       "      dtype='object')"
      ]
     },
     "execution_count": 14,
     "metadata": {},
     "output_type": "execute_result"
    }
   ],
   "source": [
    "gff_df.columns"
   ]
  },
  {
   "cell_type": "code",
   "execution_count": 15,
   "id": "30dfd2ef",
   "metadata": {},
   "outputs": [
    {
     "data": {
      "text/html": [
       "<div>\n",
       "<style scoped>\n",
       "    .dataframe tbody tr th:only-of-type {\n",
       "        vertical-align: middle;\n",
       "    }\n",
       "\n",
       "    .dataframe tbody tr th {\n",
       "        vertical-align: top;\n",
       "    }\n",
       "\n",
       "    .dataframe thead th {\n",
       "        text-align: right;\n",
       "    }\n",
       "</style>\n",
       "<table border=\"1\" class=\"dataframe\">\n",
       "  <thead>\n",
       "    <tr style=\"text-align: right;\">\n",
       "      <th></th>\n",
       "      <th>0</th>\n",
       "    </tr>\n",
       "  </thead>\n",
       "  <tbody>\n",
       "    <tr>\n",
       "      <th>locus_tag</th>\n",
       "      <td>TX50_RS00020</td>\n",
       "    </tr>\n",
       "    <tr>\n",
       "      <th>product</th>\n",
       "      <td>DNA polymerase III subunit beta</td>\n",
       "    </tr>\n",
       "    <tr>\n",
       "      <th>protein_id</th>\n",
       "      <td>WP_011131639.1</td>\n",
       "    </tr>\n",
       "    <tr>\n",
       "      <th>pseudo</th>\n",
       "      <td>None</td>\n",
       "    </tr>\n",
       "    <tr>\n",
       "      <th>Name_gene</th>\n",
       "      <td>dnaN</td>\n",
       "    </tr>\n",
       "    <tr>\n",
       "      <th>gene_gene</th>\n",
       "      <td>dnaN</td>\n",
       "    </tr>\n",
       "    <tr>\n",
       "      <th>gene_biotype</th>\n",
       "      <td>protein_coding</td>\n",
       "    </tr>\n",
       "    <tr>\n",
       "      <th>old_locus_tag</th>\n",
       "      <td>PMM0001</td>\n",
       "    </tr>\n",
       "  </tbody>\n",
       "</table>\n",
       "</div>"
      ],
      "text/plain": [
       "                                             0\n",
       "locus_tag                         TX50_RS00020\n",
       "product        DNA polymerase III subunit beta\n",
       "protein_id                      WP_011131639.1\n",
       "pseudo                                    None\n",
       "Name_gene                                 dnaN\n",
       "gene_gene                                 dnaN\n",
       "gene_biotype                    protein_coding\n",
       "old_locus_tag                          PMM0001"
      ]
     },
     "execution_count": 15,
     "metadata": {},
     "output_type": "execute_result"
    }
   ],
   "source": [
    "gff_df[gff_columns].head(1).T"
   ]
  },
  {
   "cell_type": "code",
   "execution_count": 16,
   "id": "0de83b11",
   "metadata": {},
   "outputs": [
    {
     "data": {
      "text/plain": [
       "gene_biotype\n",
       "protein_coding    1860\n",
       "tRNA                37\n",
       "rRNA                 3\n",
       "tmRNA                1\n",
       "ncRNA                1\n",
       "SRP_RNA              1\n",
       "RNase_P_RNA          1\n",
       "Name: count, dtype: int64"
      ]
     },
     "execution_count": 16,
     "metadata": {},
     "output_type": "execute_result"
    }
   ],
   "source": [
    "gff_gene_df.gene_biotype.value_counts(dropna=False)"
   ]
  },
  {
   "cell_type": "markdown",
   "id": "02ff8369",
   "metadata": {},
   "source": [
    "These are different types of gene biotypes from NCBI's GFF (General Feature Format) annotation files, each representing a distinct functional category of genes:\n",
    "* protein_coding: Genes that encode proteins - these are transcribed into mRNA and then translated into amino acid sequences to form functional proteins. This represents the majority of genes in most genomes.\n",
    "* tmRNA: Transfer-messenger RNA genes that encode a unique type of RNA molecule found in bacteria. tmRNA rescues ribosomes that become stalled during translation by acting as both a tRNA and an mRNA, allowing the ribosome to complete translation and tag the incomplete protein for degradation.\n",
    "* tRNA: Transfer RNA genes that produce tRNA molecules responsible for bringing amino acids to the ribosome during protein synthesis. Each tRNA recognizes specific codons in the mRNA and carries the corresponding amino acid.\n",
    "* rRNA: Ribosomal RNA genes that encode the RNA components of ribosomes. These are essential structural and catalytic components of the protein synthesis machinery, including the 16S, 23S, and 5S rRNAs in bacteria.\n",
    "* ncRNA: Non-coding RNA genes that produce functional RNA molecules that are not translated into proteins. This is a broad category that includes various regulatory RNAs like microRNAs, long non-coding RNAs, and small interfering RNAs.\n",
    "* SRP_RNA: Signal Recognition Particle RNA genes that encode the RNA component of the signal recognition particle. This ribonucleoprotein complex recognizes signal sequences on newly synthesized proteins and directs them to the endoplasmic reticulum for proper cellular localization.\n",
    "* RNase_P_RNA: Ribonuclease P RNA genes that encode the catalytic RNA subunit of RNase P, an enzyme responsible for processing the 5' end of precursor tRNA molecules during tRNA maturation.\n",
    "These biotype classifications help researchers understand the functional diversity of genes beyond just protein-coding sequences, highlighting the important roles that various RNA molecules play in cellular processes."
   ]
  },
  {
   "cell_type": "code",
   "execution_count": 17,
   "id": "369fe430",
   "metadata": {},
   "outputs": [
    {
     "data": {
      "text/html": [
       "<div>\n",
       "<style scoped>\n",
       "    .dataframe tbody tr th:only-of-type {\n",
       "        vertical-align: middle;\n",
       "    }\n",
       "\n",
       "    .dataframe tbody tr th {\n",
       "        vertical-align: top;\n",
       "    }\n",
       "\n",
       "    .dataframe thead th {\n",
       "        text-align: right;\n",
       "    }\n",
       "</style>\n",
       "<table border=\"1\" class=\"dataframe\">\n",
       "  <thead>\n",
       "    <tr style=\"text-align: right;\">\n",
       "      <th></th>\n",
       "      <th>locus_tag</th>\n",
       "      <th>product</th>\n",
       "      <th>protein_id</th>\n",
       "      <th>pseudo</th>\n",
       "      <th>Name_gene</th>\n",
       "      <th>gene_gene</th>\n",
       "      <th>gene_biotype</th>\n",
       "      <th>old_locus_tag</th>\n",
       "    </tr>\n",
       "  </thead>\n",
       "  <tbody>\n",
       "    <tr>\n",
       "      <th>0</th>\n",
       "      <td>TX50_RS00020</td>\n",
       "      <td>DNA polymerase III subunit beta</td>\n",
       "      <td>WP_011131639.1</td>\n",
       "      <td>None</td>\n",
       "      <td>dnaN</td>\n",
       "      <td>dnaN</td>\n",
       "      <td>protein_coding</td>\n",
       "      <td>PMM0001</td>\n",
       "    </tr>\n",
       "    <tr>\n",
       "      <th>1</th>\n",
       "      <td>TX50_RS00025</td>\n",
       "      <td>hypothetical protein</td>\n",
       "      <td>WP_011131640.1</td>\n",
       "      <td>None</td>\n",
       "      <td>TX50_RS00025</td>\n",
       "      <td>None</td>\n",
       "      <td>protein_coding</td>\n",
       "      <td>PMM0002</td>\n",
       "    </tr>\n",
       "    <tr>\n",
       "      <th>2</th>\n",
       "      <td>TX50_RS00030</td>\n",
       "      <td>phosphoribosylformylglycinamidine synthase sub...</td>\n",
       "      <td>WP_011131641.1</td>\n",
       "      <td>None</td>\n",
       "      <td>purL</td>\n",
       "      <td>purL</td>\n",
       "      <td>protein_coding</td>\n",
       "      <td>PMM0003</td>\n",
       "    </tr>\n",
       "    <tr>\n",
       "      <th>3</th>\n",
       "      <td>TX50_RS00035</td>\n",
       "      <td>amidophosphoribosyltransferase</td>\n",
       "      <td>WP_011131642.1</td>\n",
       "      <td>None</td>\n",
       "      <td>purF</td>\n",
       "      <td>purF</td>\n",
       "      <td>protein_coding</td>\n",
       "      <td>PMM0004</td>\n",
       "    </tr>\n",
       "    <tr>\n",
       "      <th>4</th>\n",
       "      <td>TX50_RS00040</td>\n",
       "      <td>DNA topoisomerase 4 subunit A</td>\n",
       "      <td>WP_011131643.1</td>\n",
       "      <td>None</td>\n",
       "      <td>TX50_RS00040</td>\n",
       "      <td>None</td>\n",
       "      <td>protein_coding</td>\n",
       "      <td>PMM0005</td>\n",
       "    </tr>\n",
       "    <tr>\n",
       "      <th>...</th>\n",
       "      <td>...</td>\n",
       "      <td>...</td>\n",
       "      <td>...</td>\n",
       "      <td>...</td>\n",
       "      <td>...</td>\n",
       "      <td>...</td>\n",
       "      <td>...</td>\n",
       "      <td>...</td>\n",
       "    </tr>\n",
       "    <tr>\n",
       "      <th>1861</th>\n",
       "      <td>TX50_RS09140</td>\n",
       "      <td>excinuclease ABC subunit UvrA</td>\n",
       "      <td>WP_011133339.1</td>\n",
       "      <td>None</td>\n",
       "      <td>uvrA</td>\n",
       "      <td>uvrA</td>\n",
       "      <td>protein_coding</td>\n",
       "      <td>PMM1712</td>\n",
       "    </tr>\n",
       "    <tr>\n",
       "      <th>1862</th>\n",
       "      <td>TX50_RS09145</td>\n",
       "      <td>AAA family ATPase</td>\n",
       "      <td>WP_011133340.1</td>\n",
       "      <td>None</td>\n",
       "      <td>TX50_RS09145</td>\n",
       "      <td>None</td>\n",
       "      <td>protein_coding</td>\n",
       "      <td>PMM1713</td>\n",
       "    </tr>\n",
       "    <tr>\n",
       "      <th>1863</th>\n",
       "      <td>TX50_RS09150</td>\n",
       "      <td>AarF/ABC1/UbiB kinase family protein</td>\n",
       "      <td>WP_011133341.1</td>\n",
       "      <td>None</td>\n",
       "      <td>TX50_RS09150</td>\n",
       "      <td>None</td>\n",
       "      <td>protein_coding</td>\n",
       "      <td>PMM1714</td>\n",
       "    </tr>\n",
       "    <tr>\n",
       "      <th>1864</th>\n",
       "      <td>TX50_RS09155</td>\n",
       "      <td>alpha/beta hydrolase</td>\n",
       "      <td>WP_011133342.1</td>\n",
       "      <td>None</td>\n",
       "      <td>TX50_RS09155</td>\n",
       "      <td>None</td>\n",
       "      <td>protein_coding</td>\n",
       "      <td>PMM1715</td>\n",
       "    </tr>\n",
       "    <tr>\n",
       "      <th>1865</th>\n",
       "      <td>TX50_RS09160</td>\n",
       "      <td>threonine synthase</td>\n",
       "      <td>WP_011133343.1</td>\n",
       "      <td>None</td>\n",
       "      <td>thrC</td>\n",
       "      <td>thrC</td>\n",
       "      <td>protein_coding</td>\n",
       "      <td>PMM1716</td>\n",
       "    </tr>\n",
       "  </tbody>\n",
       "</table>\n",
       "<p>1861 rows × 8 columns</p>\n",
       "</div>"
      ],
      "text/plain": [
       "         locus_tag                                            product  \\\n",
       "0     TX50_RS00020                    DNA polymerase III subunit beta   \n",
       "1     TX50_RS00025                               hypothetical protein   \n",
       "2     TX50_RS00030  phosphoribosylformylglycinamidine synthase sub...   \n",
       "3     TX50_RS00035                     amidophosphoribosyltransferase   \n",
       "4     TX50_RS00040                      DNA topoisomerase 4 subunit A   \n",
       "...            ...                                                ...   \n",
       "1861  TX50_RS09140                      excinuclease ABC subunit UvrA   \n",
       "1862  TX50_RS09145                                  AAA family ATPase   \n",
       "1863  TX50_RS09150               AarF/ABC1/UbiB kinase family protein   \n",
       "1864  TX50_RS09155                               alpha/beta hydrolase   \n",
       "1865  TX50_RS09160                                 threonine synthase   \n",
       "\n",
       "          protein_id pseudo     Name_gene gene_gene    gene_biotype  \\\n",
       "0     WP_011131639.1   None          dnaN      dnaN  protein_coding   \n",
       "1     WP_011131640.1   None  TX50_RS00025      None  protein_coding   \n",
       "2     WP_011131641.1   None          purL      purL  protein_coding   \n",
       "3     WP_011131642.1   None          purF      purF  protein_coding   \n",
       "4     WP_011131643.1   None  TX50_RS00040      None  protein_coding   \n",
       "...              ...    ...           ...       ...             ...   \n",
       "1861  WP_011133339.1   None          uvrA      uvrA  protein_coding   \n",
       "1862  WP_011133340.1   None  TX50_RS09145      None  protein_coding   \n",
       "1863  WP_011133341.1   None  TX50_RS09150      None  protein_coding   \n",
       "1864  WP_011133342.1   None  TX50_RS09155      None  protein_coding   \n",
       "1865  WP_011133343.1   None          thrC      thrC  protein_coding   \n",
       "\n",
       "     old_locus_tag  \n",
       "0          PMM0001  \n",
       "1          PMM0002  \n",
       "2          PMM0003  \n",
       "3          PMM0004  \n",
       "4          PMM0005  \n",
       "...            ...  \n",
       "1861       PMM1712  \n",
       "1862       PMM1713  \n",
       "1863       PMM1714  \n",
       "1864       PMM1715  \n",
       "1865       PMM1716  \n",
       "\n",
       "[1861 rows x 8 columns]"
      ]
     },
     "execution_count": 17,
     "metadata": {},
     "output_type": "execute_result"
    }
   ],
   "source": [
    "gff_df[~gff_df.Name_gene.isna()][gff_columns]\n"
   ]
  },
  {
   "cell_type": "code",
   "execution_count": 18,
   "id": "9a2d1f13",
   "metadata": {},
   "outputs": [],
   "source": [
    "# focus on protein coding genes\n",
    "# to start with, we will only use protein coding genes that are not pseudogenes\n",
    "\n",
    "gff_df_filter = gff_df[gff_df.gene_biotype.isin(['protein_coding']) & gff_df.pseudo.isna() & ~gff_df.gene_gene.isna()][gff_columns]\n"
   ]
  },
  {
   "cell_type": "code",
   "execution_count": 19,
   "id": "5ad347d5",
   "metadata": {},
   "outputs": [],
   "source": [
    "out_dpath = 'batch_results'\n",
    "os.makedirs(out_dpath, exist_ok=True)"
   ]
  },
  {
   "cell_type": "code",
   "execution_count": 20,
   "id": "fbd0960f",
   "metadata": {},
   "outputs": [],
   "source": [
    "gff_df_filter.to_csv(os.path.join(out_dpath, 'MED4_genes_filter.csv'), index=False)\n"
   ]
  },
  {
   "cell_type": "markdown",
   "id": "e3593e11",
   "metadata": {},
   "source": [
    "# Run a sample query to test the integration"
   ]
  },
  {
   "cell_type": "code",
   "execution_count": 21,
   "id": "51f0dc4d",
   "metadata": {},
   "outputs": [
    {
     "data": {
      "text/plain": [
       "locus_tag                                           TX50_RS00130\n",
       "product          type I glyceraldehyde-3-phosphate dehydrogenase\n",
       "protein_id                                        WP_011131661.1\n",
       "pseudo                                                      None\n",
       "Name_gene                                                    gap\n",
       "gene_gene                                                    gap\n",
       "gene_biotype                                      protein_coding\n",
       "old_locus_tag                                            PMM0023\n",
       "Name: 22, dtype: object"
      ]
     },
     "execution_count": 21,
     "metadata": {},
     "output_type": "execute_result"
    }
   ],
   "source": [
    "gene_row = gff_df_filter.iloc[14]\n",
    "gene_row"
   ]
  },
  {
   "cell_type": "code",
   "execution_count": 22,
   "id": "04b73c22",
   "metadata": {},
   "outputs": [
    {
     "data": {
      "text/plain": [
       "ChatPromptValue(messages=[HumanMessage(content=\"\\nYou are a research assistant tasked with creating a comprehensive summary of a specific gene's function and its role in the coculture of Prochlorococcus and Alteromonas under nitrogen limitation conditions. Your goal is to provide a detailed, fact-based summary using published scientific literature.\\n\\nThe gene you will be researching is:\\n<gene_name>\\ngap\\n</gene_name>\\n\\n<organism>\\nProchlorococcus MED4\\n</organism>\\n\\n<locus_tag>\\nTX50_RS00130\\n</locus_tag>\\n\\n<product>\\ntype I glyceraldehyde-3-phosphate dehydrogenase\\n</product>\\n\\n<protein_id>\\nWP_011131661.1 \\n</protein_id>\\n\\n<old_locus_tag>\\nPMM0023\\n</old_locus_tag>\\n\\n\\nIn your research summary, cover the following areas:\\n1. Gene function\\n2. Impact on physiological state\\n3. Involvement in stress response\\n4. Role in nutrient exchange (uptake and release)\\n5. Contribution to oxidative stress\\n6. Influence on bacterial interaction in coculture\\n\\nFollow these steps to conduct your research and present your findings:\\n\\n1. Search for and review published studies related to the specified gene, focusing on its role in Prochlorococcus, cyanobacteria, or similar marine microorganisms.\\n\\n2. For each area listed above, provide a summary of the gene's role or impact, based on factual data from scientific papers. Include multiple findings per category if available.\\n\\n3. When discussing gene expression or protein abundances, provide interpretations of their significance in the context of the coculture and nitrogen limitation.\\n\\n\\n6. After completing your research, assess your confidence in the findings. Consider factors such as the number of relevant studies, consistency of results across studies, and the recency of the research. Provide a brief justification for your confidence assessment.\\n\\n7. Based on your justification, assign a confidence score on a scale of 1 to 10, where 1 is the lowest confidence and 10 is the highest.\\n\\nFormat your response as follows:\\n\\n<research_summary>\\n<gene_function>\\n[Summary of gene function with citations]\\n</gene_function>\\n\\n<physiological_impact>\\n[Summary of impact on physiological state with citations]\\n</physiological_impact>\\n\\n<stress_response>\\n[Summary of involvement in stress response with citations]\\n</stress_response>\\n\\n\\n<nutrient_exchange>\\n[Summary of role in nutrient exchange with citations]\\n</nutrient_exchange>\\n\\n<nutrient_uptake>\\n[Summary of role in nutrient exchange with citations]\\n</nutrient_uptake>\\n\\n\\n<nutrient_release>\\n[Summary of role in nutrient exchange with citations]\\n</nutrient_release>\\n\\n<oxidative_stress>\\n[Summary of contribution to dealing with oxidative stress with citations]\\n</oxidative_stress>\\n\\n<bacterial_interaction>\\n[Summary of influence on bacterial interaction in coculture with citations]\\n</bacterial_interaction>\\n\\n\\n<citations>\\n[list of papers cited throughout. Including title, authors, year and journal. Include url and DOI where available]\\n</citations>\\n\\n<confidence_assessment>\\n[Justification for confidence score]\\n</confidence_assessment>\\n\\n<confidence_score>\\n[Numerical score between 1 and 10]\\n</confidence_score>\\n</research_summary>\\n\\n\\nEnsure that your summary is comprehensive, fact-based, and based on published literature.  If there is insufficient information available for any section, state this clearly and explain why the information might be lacking.\\n\\n\", additional_kwargs={}, response_metadata={})])"
      ]
     },
     "execution_count": 22,
     "metadata": {},
     "output_type": "execute_result"
    }
   ],
   "source": [
    "\n",
    "query = get_prompt_for_row(gene_row) \n",
    "query"
   ]
  },
  {
   "cell_type": "code",
   "execution_count": 23,
   "id": "1fe1c867",
   "metadata": {},
   "outputs": [
    {
     "name": "stdout",
     "output_type": "stream",
     "text": [
      "Human: \n",
      "You are a research assistant tasked with creating a comprehensive summary of a specific gene's function and its role in the coculture of Prochlorococcus and Alteromonas under nitrogen limitation conditions. Your goal is to provide a detailed, fact-based summary using published scientific literature.\n",
      "\n",
      "The gene you will be researching is:\n",
      "<gene_name>\n",
      "gap\n",
      "</gene_name>\n",
      "\n",
      "<organism>\n",
      "Prochlorococcus MED4\n",
      "</organism>\n",
      "\n",
      "<locus_tag>\n",
      "TX50_RS00130\n",
      "</locus_tag>\n",
      "\n",
      "<product>\n",
      "type I glyceraldehyde-3-phosphate dehydrogenase\n",
      "</product>\n",
      "\n",
      "<protein_id>\n",
      "WP_011131661.1 \n",
      "</protein_id>\n",
      "\n",
      "<old_locus_tag>\n",
      "PMM0023\n",
      "</old_locus_tag>\n",
      "\n",
      "\n",
      "In your research summary, cover the following areas:\n",
      "1. Gene function\n",
      "2. Impact on physiological state\n",
      "3. Involvement in stress response\n",
      "4. Role in nutrient exchange (uptake and release)\n",
      "5. Contribution to oxidative stress\n",
      "6. Influence on bacterial interaction in coculture\n",
      "\n",
      "Follow these steps to conduct your research and present your findings:\n",
      "\n",
      "1. Search for and review published studies related to the specified gene, focusing on its role in Prochlorococcus, cyanobacteria, or similar marine microorganisms.\n",
      "\n",
      "2. For each area listed above, provide a summary of the gene's role or impact, based on factual data from scientific papers. Include multiple findings per category if available.\n",
      "\n",
      "3. When discussing gene expression or protein abundances, provide interpretations of their significance in the context of the coculture and nitrogen limitation.\n",
      "\n",
      "\n",
      "6. After completing your research, assess your confidence in the findings. Consider factors such as the number of relevant studies, consistency of results across studies, and the recency of the research. Provide a brief justification for your confidence assessment.\n",
      "\n",
      "7. Based on your justification, assign a confidence score on a scale of 1 to 10, where 1 is the lowest confidence and 10 is the highest.\n",
      "\n",
      "Format your response as follows:\n",
      "\n",
      "<research_summary>\n",
      "<gene_function>\n",
      "[Summary of gene function with citations]\n",
      "</gene_function>\n",
      "\n",
      "<physiological_impact>\n",
      "[Summary of impact on physiological state with citations]\n",
      "</physiological_impact>\n",
      "\n",
      "<stress_response>\n",
      "[Summary of involvement in stress response with citations]\n",
      "</stress_response>\n",
      "\n",
      "\n",
      "<nutrient_exchange>\n",
      "[Summary of role in nutrient exchange with citations]\n",
      "</nutrient_exchange>\n",
      "\n",
      "<nutrient_uptake>\n",
      "[Summary of role in nutrient exchange with citations]\n",
      "</nutrient_uptake>\n",
      "\n",
      "\n",
      "<nutrient_release>\n",
      "[Summary of role in nutrient exchange with citations]\n",
      "</nutrient_release>\n",
      "\n",
      "<oxidative_stress>\n",
      "[Summary of contribution to dealing with oxidative stress with citations]\n",
      "</oxidative_stress>\n",
      "\n",
      "<bacterial_interaction>\n",
      "[Summary of influence on bacterial interaction in coculture with citations]\n",
      "</bacterial_interaction>\n",
      "\n",
      "\n",
      "<citations>\n",
      "[list of papers cited throughout. Including title, authors, year and journal. Include url and DOI where available]\n",
      "</citations>\n",
      "\n",
      "<confidence_assessment>\n",
      "[Justification for confidence score]\n",
      "</confidence_assessment>\n",
      "\n",
      "<confidence_score>\n",
      "[Numerical score between 1 and 10]\n",
      "</confidence_score>\n",
      "</research_summary>\n",
      "\n",
      "\n",
      "Ensure that your summary is comprehensive, fact-based, and based on published literature.  If there is insufficient information available for any section, state this clearly and explain why the information might be lacking.\n",
      "\n",
      "\n"
     ]
    }
   ],
   "source": [
    "print(query.to_string())"
   ]
  },
  {
   "cell_type": "code",
   "execution_count": 24,
   "id": "26747117",
   "metadata": {},
   "outputs": [
    {
     "data": {
      "text/plain": [
       "{'content': '<research_summary>\\n<gene_function>\\nThe gene gap (TX50_RS00130, old locus tag PMM0023) in Prochlorococcus MED4 encodes a type I glyceraldehyde-3-phosphate dehydrogenase (GAPDH). This enzyme is a key component of the glycolytic pathway and the Calvin-Benson-Bassham (CBB) cycle, catalyzing the conversion of glyceraldehyde-3-phosphate to 1,3-bisphosphoglycerate, a critical step in both central carbon metabolism and photosynthetic carbon fixation. GAPDH is essential for energy production and carbon assimilation in Prochlorococcus, supporting its role as a dominant primary producer in oligotrophic oceans[3]. While direct studies on the gap gene in Prochlorococcus MED4 are limited, its function is well-conserved across cyanobacteria and other photosynthetic organisms.\\n</gene_function>\\n\\n<physiological_impact>\\nGAPDH activity is central to the physiological state of Prochlorococcus, as it directly links photosynthetic carbon fixation to energy metabolism. Under nitrogen limitation, Prochlorococcus shifts its metabolic priorities, often increasing carbon storage (e.g., glycogen) and exudation of organic compounds rather than growth[3]. The gap gene’s product, GAPDH, is crucial for maintaining metabolic flux through these pathways, ensuring that fixed carbon is either stored or released, depending on nutrient availability. This dynamic allocation of carbon is essential for survival under fluctuating environmental conditions[3].\\n</physiological_impact>\\n\\n<stress_response>\\nThere is no direct evidence in the literature that the gap gene in Prochlorococcus MED4 is specifically regulated under stress conditions such as nitrogen limitation. However, as a central metabolic enzyme, GAPDH is likely to be involved in the general stress response by maintaining metabolic homeostasis. In other organisms, GAPDH is known to be regulated under various stresses, but specific studies on its stress-related regulation in Prochlorococcus are lacking. The broader metabolic model of Prochlorococcus suggests that under nutrient limitation, metabolic pathways involving GAPDH are dynamically adjusted to cope with stress[3].\\n</stress_response>\\n\\n<nutrient_exchange>\\nThe gap gene’s product, GAPDH, is not directly involved in nutrient uptake or release but is central to the metabolic network that determines how fixed carbon is allocated within the cell. Under nitrogen limitation, Prochlorococcus increases the exudation of organic acids and amino acids, which can be utilized by other bacteria such as Alteromonas in coculture[3]. The activity of GAPDH ensures that carbon fixed via photosynthesis is available for these processes.\\n</nutrient_exchange>\\n\\n<nutrient_uptake>\\nThere is no evidence that the gap gene or its product is directly involved in nutrient uptake mechanisms in Prochlorococcus. Nutrient uptake is typically mediated by specific transporters and regulatory systems, not by central metabolic enzymes like GAPDH[6].\\n</nutrient_uptake>\\n\\n<nutrient_release>\\nUnder nitrogen limitation, Prochlorococcus increases the release of organic compounds, including organic acids and amino acids, as a result of overflow metabolism[3]. While GAPDH is not directly responsible for the release of these compounds, its activity is essential for generating the metabolic intermediates that are eventually exuded. This process supports the growth of heterotrophic bacteria like Alteromonas in coculture, which can utilize these released compounds as carbon and energy sources[3].\\n</nutrient_release>\\n\\n<oxidative_stress>\\nThere is no direct evidence linking the gap gene or GAPDH to oxidative stress response in Prochlorococcus. In other organisms, GAPDH can be a target of oxidative damage and may play a role in redox signaling, but such roles have not been documented in Prochlorococcus. The primary function of GAPDH in Prochlorococcus remains metabolic, supporting carbon fixation and energy production[3].\\n</oxidative_stress>\\n\\n<bacterial_interaction>\\nIn coculture with Alteromonas under nitrogen limitation, Prochlorococcus releases organic compounds as a result of metabolic adjustments, including increased activity of central metabolic enzymes like GAPDH[3]. These released compounds can be utilized by Alteromonas, promoting a mutualistic interaction where Prochlorococcus provides carbon and Alteromonas may provide other benefits, such as nutrient remineralization. The gap gene’s role in central metabolism is thus indirectly supportive of bacterial interactions by ensuring the availability of exuded carbon sources[3].\\n</bacterial_interaction>\\n\\n<citations>\\n1. **Clade-Specific Quantitative Analysis of Photosynthetic Gene Expression in Prochlorococcus**  \\n   - Authors: Not specified in snippet  \\n   - Journal: PLOS ONE  \\n   - Year: 2015  \\n   - DOI: 10.1371/journal.pone.0133207  \\n   - URL: https://dx.plos.org/10.1371/journal.pone.0133207\\n\\n2. **Analysis of natural populations of Prochlorococcus spp. in the northern Red Sea using phycoerythrin gene sequences**  \\n   - Authors: Not specified in snippet  \\n   - Journal: Environmental Microbiology  \\n   - Year: 2003  \\n   - DOI: 10.1046/j.1462-2920.2003.00456.x  \\n   - URL: https://sfamjournals.onlinelibrary.wiley.com/doi/10.1046/j.1462-2920.2003.00456.x\\n\\n3. **Dynamic Allocation of Carbon Storage and Nutrient-Dependent Exudation in a Revised Genome-Scale Model of Prochlorococcus**  \\n   - Authors: Not specified in snippet  \\n   - Journal: Frontiers in Genetics  \\n   - Year: 2021  \\n   - DOI: 10.3389/fgene.2021.586293  \\n   - URL: https://www.frontiersin.org/articles/10.3389/fgene.2021.586293/full\\n\\n4. **Improved enzyme functional annotation prediction using contrastive learning with structural inference**  \\n   - Authors: Not specified in snippet  \\n   - Journal: Nature Communications Biology  \\n   - Year: 2024  \\n   - DOI: 10.1038/s42003-024-07359-z  \\n   - URL: https://www.nature.com/articles/s42003-024-07359-z\\n\\n5. **CLEAN-Contact: Contrastive Learning-enabled Enzyme Functional Annotation Prediction with Structural Inference**  \\n   - Authors: Not specified in snippet  \\n   - Journal: bioRxiv  \\n   - Year: 2024  \\n   - DOI: 10.1101/2024.05.14.594148  \\n   - URL: http://biorxiv.org/lookup/doi/10.1101/2024.05.14.594148\\n\\n6. **Phosphate acquisition genes in Prochlorococcus ecotypes: Evidence for genome-wide adaptation**  \\n   - Authors: Not specified in snippet  \\n   - Journal: Proceedings of the National Academy of Sciences  \\n   - Year: 2006  \\n   - DOI: 10.1073/pnas.0601301103  \\n   - URL: https://pnas.org/doi/full/10.1073/pnas.0601301103\\n\\n7. **High‐frequency sampling captures variability in phytoplankton population‐specific periodicity, growth, and productivity**  \\n   - Authors: Not specified in snippet  \\n   - Journal: Limnology and Oceanography  \\n   - Year: 2022  \\n   - DOI: 10.1002/lno.12683  \\n   - URL: https://aslopubs.onlinelibrary.wiley.com/doi/10.1002/lno.12683\\n\\n8. **Quantitative and Functional Characterization of the Hyper-Conserved Protein of Prochlorococcus and Marine Synechococcus**  \\n   - Authors: Not specified in snippet  \\n   - Journal: PLOS ONE  \\n   - Year: 2014  \\n   - DOI: 10.1371/journal.pone.0109327  \\n   - URL: https://dx.plos.org/10.1371/journal.pone.0109327\\n\\n9. **Genome sequence of the cyanobacterium Prochlorococcus marinus SS120, a nearly minimal oxyphototrophic genome**  \\n   - Authors: Not specified in snippet  \\n   - Journal: Proceedings of the National Academy of Sciences  \\n   - Year: 2003  \\n   - DOI: 10.1073/pnas.1733211100  \\n   - URL: https://pnas.org/doi/full/10.1073/pnas.1733211100\\n\\n10. **Cryo-Electron Tomography Reveals the Comparative Three-Dimensional Architecture of Prochlorococcus, a Globally Important Marine Cyanobacterium**  \\n    - Authors: Not specified in snippet  \\n    - Journal: Journal of Bacteriology  \\n    - Year: 2007  \\n    - DOI: 10.1128/JB.01948-06  \\n    - URL: https://journals.asm.org/doi/10.1128/JB.01948-06\\n</citations>\\n\\n<confidence_assessment>\\nThe confidence in the findings is moderate. The function of the gap gene as encoding GAPDH and its central role in carbon metabolism is well-established in cyanobacteria and supported by metabolic modeling in Prochlorococcus[3]. However, there is a lack of direct experimental studies on the regulation or specific stress responses of the gap gene in Prochlorococcus MED4, particularly under nitrogen limitation or in coculture with Alteromonas. Most insights are inferred from broader metabolic studies and models, rather than gene-specific investigations. The recent and comprehensive metabolic modeling provides strong indirect support, but direct evidence is limited.\\n</confidence_assessment>\\n\\n<confidence_score>\\n6\\n</confidence_score>\\n</research_summary>',\n",
       " 'additional_kwargs': {'citations': ['https://dx.plos.org/10.1371/journal.pone.0133207',\n",
       "   'https://sfamjournals.onlinelibrary.wiley.com/doi/10.1046/j.1462-2920.2003.00456.x',\n",
       "   'https://www.frontiersin.org/articles/10.3389/fgene.2021.586293/full',\n",
       "   'https://www.nature.com/articles/s42003-024-07359-z',\n",
       "   'http://biorxiv.org/lookup/doi/10.1101/2024.05.14.594148',\n",
       "   'https://pnas.org/doi/full/10.1073/pnas.0601301103',\n",
       "   'https://aslopubs.onlinelibrary.wiley.com/doi/10.1002/lno.12683',\n",
       "   'https://dx.plos.org/10.1371/journal.pone.0109327',\n",
       "   'https://pnas.org/doi/full/10.1073/pnas.1733211100',\n",
       "   'https://journals.asm.org/doi/10.1128/JB.01948-06']},\n",
       " 'response_metadata': {'model_name': 'sonar-pro'},\n",
       " 'type': 'ai',\n",
       " 'name': None,\n",
       " 'id': 'run--bfa84fe7-e225-4c2d-9b4e-b5d7e34d1458-0',\n",
       " 'example': False,\n",
       " 'tool_calls': [],\n",
       " 'invalid_tool_calls': [],\n",
       " 'usage_metadata': {'input_tokens': 690,\n",
       "  'output_tokens': 2058,\n",
       "  'total_tokens': 2748}}"
      ]
     },
     "execution_count": 24,
     "metadata": {},
     "output_type": "execute_result"
    }
   ],
   "source": [
    "\n",
    "sample_result = perplexity_llm.invoke(query, extra_body=extra_body_perplexity)\n",
    "sample_result.model_dump()\n"
   ]
  },
  {
   "cell_type": "code",
   "execution_count": 25,
   "id": "23871af7",
   "metadata": {},
   "outputs": [
    {
     "name": "stdout",
     "output_type": "stream",
     "text": [
      "<research_summary>\n",
      "<gene_function>\n",
      "The gene gap (TX50_RS00130, old locus tag PMM0023) in Prochlorococcus MED4 encodes a type I glyceraldehyde-3-phosphate dehydrogenase (GAPDH). This enzyme is a key component of the glycolytic pathway and the Calvin-Benson-Bassham (CBB) cycle, catalyzing the conversion of glyceraldehyde-3-phosphate to 1,3-bisphosphoglycerate, a critical step in both central carbon metabolism and photosynthetic carbon fixation. GAPDH is essential for energy production and carbon assimilation in Prochlorococcus, supporting its role as a dominant primary producer in oligotrophic oceans[3]. While direct studies on the gap gene in Prochlorococcus MED4 are limited, its function is well-conserved across cyanobacteria and other photosynthetic organisms.\n",
      "</gene_function>\n",
      "\n",
      "<physiological_impact>\n",
      "GAPDH activity is central to the physiological state of Prochlorococcus, as it directly links photosynthetic carbon fixation to energy metabolism. Under nitrogen limitation, Prochlorococcus shifts its metabolic priorities, often increasing carbon storage (e.g., glycogen) and exudation of organic compounds rather than growth[3]. The gap gene’s product, GAPDH, is crucial for maintaining metabolic flux through these pathways, ensuring that fixed carbon is either stored or released, depending on nutrient availability. This dynamic allocation of carbon is essential for survival under fluctuating environmental conditions[3].\n",
      "</physiological_impact>\n",
      "\n",
      "<stress_response>\n",
      "There is no direct evidence in the literature that the gap gene in Prochlorococcus MED4 is specifically regulated under stress conditions such as nitrogen limitation. However, as a central metabolic enzyme, GAPDH is likely to be involved in the general stress response by maintaining metabolic homeostasis. In other organisms, GAPDH is known to be regulated under various stresses, but specific studies on its stress-related regulation in Prochlorococcus are lacking. The broader metabolic model of Prochlorococcus suggests that under nutrient limitation, metabolic pathways involving GAPDH are dynamically adjusted to cope with stress[3].\n",
      "</stress_response>\n",
      "\n",
      "<nutrient_exchange>\n",
      "The gap gene’s product, GAPDH, is not directly involved in nutrient uptake or release but is central to the metabolic network that determines how fixed carbon is allocated within the cell. Under nitrogen limitation, Prochlorococcus increases the exudation of organic acids and amino acids, which can be utilized by other bacteria such as Alteromonas in coculture[3]. The activity of GAPDH ensures that carbon fixed via photosynthesis is available for these processes.\n",
      "</nutrient_exchange>\n",
      "\n",
      "<nutrient_uptake>\n",
      "There is no evidence that the gap gene or its product is directly involved in nutrient uptake mechanisms in Prochlorococcus. Nutrient uptake is typically mediated by specific transporters and regulatory systems, not by central metabolic enzymes like GAPDH[6].\n",
      "</nutrient_uptake>\n",
      "\n",
      "<nutrient_release>\n",
      "Under nitrogen limitation, Prochlorococcus increases the release of organic compounds, including organic acids and amino acids, as a result of overflow metabolism[3]. While GAPDH is not directly responsible for the release of these compounds, its activity is essential for generating the metabolic intermediates that are eventually exuded. This process supports the growth of heterotrophic bacteria like Alteromonas in coculture, which can utilize these released compounds as carbon and energy sources[3].\n",
      "</nutrient_release>\n",
      "\n",
      "<oxidative_stress>\n",
      "There is no direct evidence linking the gap gene or GAPDH to oxidative stress response in Prochlorococcus. In other organisms, GAPDH can be a target of oxidative damage and may play a role in redox signaling, but such roles have not been documented in Prochlorococcus. The primary function of GAPDH in Prochlorococcus remains metabolic, supporting carbon fixation and energy production[3].\n",
      "</oxidative_stress>\n",
      "\n",
      "<bacterial_interaction>\n",
      "In coculture with Alteromonas under nitrogen limitation, Prochlorococcus releases organic compounds as a result of metabolic adjustments, including increased activity of central metabolic enzymes like GAPDH[3]. These released compounds can be utilized by Alteromonas, promoting a mutualistic interaction where Prochlorococcus provides carbon and Alteromonas may provide other benefits, such as nutrient remineralization. The gap gene’s role in central metabolism is thus indirectly supportive of bacterial interactions by ensuring the availability of exuded carbon sources[3].\n",
      "</bacterial_interaction>\n",
      "\n",
      "<citations>\n",
      "1. **Clade-Specific Quantitative Analysis of Photosynthetic Gene Expression in Prochlorococcus**  \n",
      "   - Authors: Not specified in snippet  \n",
      "   - Journal: PLOS ONE  \n",
      "   - Year: 2015  \n",
      "   - DOI: 10.1371/journal.pone.0133207  \n",
      "   - URL: https://dx.plos.org/10.1371/journal.pone.0133207\n",
      "\n",
      "2. **Analysis of natural populations of Prochlorococcus spp. in the northern Red Sea using phycoerythrin gene sequences**  \n",
      "   - Authors: Not specified in snippet  \n",
      "   - Journal: Environmental Microbiology  \n",
      "   - Year: 2003  \n",
      "   - DOI: 10.1046/j.1462-2920.2003.00456.x  \n",
      "   - URL: https://sfamjournals.onlinelibrary.wiley.com/doi/10.1046/j.1462-2920.2003.00456.x\n",
      "\n",
      "3. **Dynamic Allocation of Carbon Storage and Nutrient-Dependent Exudation in a Revised Genome-Scale Model of Prochlorococcus**  \n",
      "   - Authors: Not specified in snippet  \n",
      "   - Journal: Frontiers in Genetics  \n",
      "   - Year: 2021  \n",
      "   - DOI: 10.3389/fgene.2021.586293  \n",
      "   - URL: https://www.frontiersin.org/articles/10.3389/fgene.2021.586293/full\n",
      "\n",
      "4. **Improved enzyme functional annotation prediction using contrastive learning with structural inference**  \n",
      "   - Authors: Not specified in snippet  \n",
      "   - Journal: Nature Communications Biology  \n",
      "   - Year: 2024  \n",
      "   - DOI: 10.1038/s42003-024-07359-z  \n",
      "   - URL: https://www.nature.com/articles/s42003-024-07359-z\n",
      "\n",
      "5. **CLEAN-Contact: Contrastive Learning-enabled Enzyme Functional Annotation Prediction with Structural Inference**  \n",
      "   - Authors: Not specified in snippet  \n",
      "   - Journal: bioRxiv  \n",
      "   - Year: 2024  \n",
      "   - DOI: 10.1101/2024.05.14.594148  \n",
      "   - URL: http://biorxiv.org/lookup/doi/10.1101/2024.05.14.594148\n",
      "\n",
      "6. **Phosphate acquisition genes in Prochlorococcus ecotypes: Evidence for genome-wide adaptation**  \n",
      "   - Authors: Not specified in snippet  \n",
      "   - Journal: Proceedings of the National Academy of Sciences  \n",
      "   - Year: 2006  \n",
      "   - DOI: 10.1073/pnas.0601301103  \n",
      "   - URL: https://pnas.org/doi/full/10.1073/pnas.0601301103\n",
      "\n",
      "7. **High‐frequency sampling captures variability in phytoplankton population‐specific periodicity, growth, and productivity**  \n",
      "   - Authors: Not specified in snippet  \n",
      "   - Journal: Limnology and Oceanography  \n",
      "   - Year: 2022  \n",
      "   - DOI: 10.1002/lno.12683  \n",
      "   - URL: https://aslopubs.onlinelibrary.wiley.com/doi/10.1002/lno.12683\n",
      "\n",
      "8. **Quantitative and Functional Characterization of the Hyper-Conserved Protein of Prochlorococcus and Marine Synechococcus**  \n",
      "   - Authors: Not specified in snippet  \n",
      "   - Journal: PLOS ONE  \n",
      "   - Year: 2014  \n",
      "   - DOI: 10.1371/journal.pone.0109327  \n",
      "   - URL: https://dx.plos.org/10.1371/journal.pone.0109327\n",
      "\n",
      "9. **Genome sequence of the cyanobacterium Prochlorococcus marinus SS120, a nearly minimal oxyphototrophic genome**  \n",
      "   - Authors: Not specified in snippet  \n",
      "   - Journal: Proceedings of the National Academy of Sciences  \n",
      "   - Year: 2003  \n",
      "   - DOI: 10.1073/pnas.1733211100  \n",
      "   - URL: https://pnas.org/doi/full/10.1073/pnas.1733211100\n",
      "\n",
      "10. **Cryo-Electron Tomography Reveals the Comparative Three-Dimensional Architecture of Prochlorococcus, a Globally Important Marine Cyanobacterium**  \n",
      "    - Authors: Not specified in snippet  \n",
      "    - Journal: Journal of Bacteriology  \n",
      "    - Year: 2007  \n",
      "    - DOI: 10.1128/JB.01948-06  \n",
      "    - URL: https://journals.asm.org/doi/10.1128/JB.01948-06\n",
      "</citations>\n",
      "\n",
      "<confidence_assessment>\n",
      "The confidence in the findings is moderate. The function of the gap gene as encoding GAPDH and its central role in carbon metabolism is well-established in cyanobacteria and supported by metabolic modeling in Prochlorococcus[3]. However, there is a lack of direct experimental studies on the regulation or specific stress responses of the gap gene in Prochlorococcus MED4, particularly under nitrogen limitation or in coculture with Alteromonas. Most insights are inferred from broader metabolic studies and models, rather than gene-specific investigations. The recent and comprehensive metabolic modeling provides strong indirect support, but direct evidence is limited.\n",
      "</confidence_assessment>\n",
      "\n",
      "<confidence_score>\n",
      "6\n",
      "</confidence_score>\n",
      "</research_summary>\n"
     ]
    }
   ],
   "source": [
    "print(sample_result.content)\n"
   ]
  },
  {
   "cell_type": "code",
   "execution_count": 26,
   "id": "5a4720e3",
   "metadata": {},
   "outputs": [
    {
     "name": "stdout",
     "output_type": "stream",
     "text": [
      "['https://dx.plos.org/10.1371/journal.pone.0133207', 'https://sfamjournals.onlinelibrary.wiley.com/doi/10.1046/j.1462-2920.2003.00456.x', 'https://www.frontiersin.org/articles/10.3389/fgene.2021.586293/full', 'https://www.nature.com/articles/s42003-024-07359-z', 'http://biorxiv.org/lookup/doi/10.1101/2024.05.14.594148', 'https://pnas.org/doi/full/10.1073/pnas.0601301103', 'https://aslopubs.onlinelibrary.wiley.com/doi/10.1002/lno.12683', 'https://dx.plos.org/10.1371/journal.pone.0109327', 'https://pnas.org/doi/full/10.1073/pnas.1733211100', 'https://journals.asm.org/doi/10.1128/JB.01948-06']\n"
     ]
    }
   ],
   "source": [
    "print(sample_result.additional_kwargs['citations'])\n"
   ]
  },
  {
   "cell_type": "code",
   "execution_count": 36,
   "id": "0ef18e7c",
   "metadata": {},
   "outputs": [
    {
     "name": "stdout",
     "output_type": "stream",
     "text": [
      "Error fetching the URL: 403 Client Error: Forbidden for url: https://sfamjournals.onlinelibrary.wiley.com/doi/10.1046/j.1462-2920.2003.00456.x\n",
      "Error fetching the URL: 403 Client Error: Forbidden for url: https://pnas.org/doi/full/10.1073/pnas.0601301103\n",
      "Error fetching the URL: 403 Client Error: Forbidden for url: https://aslopubs.onlinelibrary.wiley.com/doi/10.1002/lno.12683\n",
      "Error fetching the URL: 403 Client Error: Forbidden for url: https://pnas.org/doi/full/10.1073/pnas.1733211100\n",
      "Error fetching the URL: 403 Client Error: Forbidden for url: https://journals.asm.org/doi/10.1128/JB.01948-06\n"
     ]
    },
    {
     "data": {
      "text/plain": [
       "[('https://dx.plos.org/10.1371/journal.pone.0133207',\n",
       "  'María-Carmen Fernández-Pinos,, Marta Casado,, Gemma Caballero,, Erik R. Zinser,, Jordi Dachs,, & Benjamin Piña (Year not found). PLOS One. PLOS ONE, 10, e0133207. https://doi.org/10.1371/journal.pone.0133207'),\n",
       " ('https://sfamjournals.onlinelibrary.wiley.com/doi/10.1046/j.1462-2920.2003.00456.x',\n",
       "  'Could not generate citation'),\n",
       " ('https://www.frontiersin.org/articles/10.3389/fgene.2021.586293/full',\n",
       "  'Author not found (2021/02/09). Dynamic Allocation of Carbon Storage and Nutrient-Dependent Exudation in a Revised Genome-Scale Model ofProchlorococcus. Frontiers in Genetics, 12, 586293. https://doi.org/10.3389/fgene.2021.586293'),\n",
       " ('https://www.nature.com/articles/s42003-024-07359-z',\n",
       "  'Author not found (Year not found). Improved enzyme functional annotation prediction using contrastive learning with structural inference. Communications Biology, 7, 1. https://doi.org/10.1038/s42003-024-07359-z'),\n",
       " ('http://biorxiv.org/lookup/doi/10.1101/2024.05.14.594148',\n",
       "  'Author not found (2024/01/01). CLEAN-Contact: Contrastive Learning-enabled Enzyme Functional Annotation Prediction with Structural Inference. bioRxiv, 2024.05.14.594148. https://doi.org/10.1101/2024.05.14.594148'),\n",
       " ('https://pnas.org/doi/full/10.1073/pnas.0601301103',\n",
       "  'Could not generate citation'),\n",
       " ('https://aslopubs.onlinelibrary.wiley.com/doi/10.1002/lno.12683',\n",
       "  'Could not generate citation'),\n",
       " ('https://dx.plos.org/10.1371/journal.pone.0109327',\n",
       "  'Caroline E. Whidden,, Katrina G. DeZeeuw,, Jackie K. Zorz,, Andrew P. Joy,, David A. Barnett,, Milo S. Johnson,, Olga Zhaxybayeva,, & Amanda M. Cockshutt (Year not found). PLOS One. PLOS ONE, 9, e109327. https://doi.org/10.1371/journal.pone.0109327'),\n",
       " ('https://pnas.org/doi/full/10.1073/pnas.1733211100',\n",
       "  'Could not generate citation'),\n",
       " ('https://journals.asm.org/doi/10.1128/JB.01948-06',\n",
       "  'Could not generate citation')]"
      ]
     },
     "execution_count": 36,
     "metadata": {},
     "output_type": "execute_result"
    }
   ],
   "source": [
    "[(url, extract_citation.format_apa_citation(extract_citation.extract_citation_info(url)))\n",
    "   for url in sample_result.additional_kwargs['citations']]\n"
   ]
  },
  {
   "cell_type": "markdown",
   "id": "d9f0f9b1",
   "metadata": {},
   "source": [
    "# run openai to do reformating "
   ]
  },
  {
   "cell_type": "code",
   "execution_count": 27,
   "id": "b37d0296",
   "metadata": {},
   "outputs": [],
   "source": [
    "query2 = get_second_prompt_for_gene(gene_row['Name_gene'], sample_result)\n"
   ]
  },
  {
   "cell_type": "code",
   "execution_count": 28,
   "id": "844a6f2e",
   "metadata": {},
   "outputs": [
    {
     "data": {
      "text/plain": [
       "ChatPromptValue(messages=[HumanMessage(content='\\nI have the following information about the gene gap in Prochlorococcus MED4:\\n\\n\\n# REVIEW text to be reformatted:\\n<research_summary>\\n<gene_function>\\nThe gene gap (TX50_RS00130, old locus tag PMM0023) in Prochlorococcus MED4 encodes a type I glyceraldehyde-3-phosphate dehydrogenase (GAPDH). This enzyme is a key component of the glycolytic pathway and the Calvin-Benson-Bassham (CBB) cycle, catalyzing the conversion of glyceraldehyde-3-phosphate to 1,3-bisphosphoglycerate, a critical step in both central carbon metabolism and photosynthetic carbon fixation. GAPDH is essential for energy production and carbon assimilation in Prochlorococcus, supporting its role as a dominant primary producer in oligotrophic oceans[3]. While direct studies on the gap gene in Prochlorococcus MED4 are limited, its function is well-conserved across cyanobacteria and other photosynthetic organisms.\\n</gene_function>\\n\\n<physiological_impact>\\nGAPDH activity is central to the physiological state of Prochlorococcus, as it directly links photosynthetic carbon fixation to energy metabolism. Under nitrogen limitation, Prochlorococcus shifts its metabolic priorities, often increasing carbon storage (e.g., glycogen) and exudation of organic compounds rather than growth[3]. The gap gene’s product, GAPDH, is crucial for maintaining metabolic flux through these pathways, ensuring that fixed carbon is either stored or released, depending on nutrient availability. This dynamic allocation of carbon is essential for survival under fluctuating environmental conditions[3].\\n</physiological_impact>\\n\\n<stress_response>\\nThere is no direct evidence in the literature that the gap gene in Prochlorococcus MED4 is specifically regulated under stress conditions such as nitrogen limitation. However, as a central metabolic enzyme, GAPDH is likely to be involved in the general stress response by maintaining metabolic homeostasis. In other organisms, GAPDH is known to be regulated under various stresses, but specific studies on its stress-related regulation in Prochlorococcus are lacking. The broader metabolic model of Prochlorococcus suggests that under nutrient limitation, metabolic pathways involving GAPDH are dynamically adjusted to cope with stress[3].\\n</stress_response>\\n\\n<nutrient_exchange>\\nThe gap gene’s product, GAPDH, is not directly involved in nutrient uptake or release but is central to the metabolic network that determines how fixed carbon is allocated within the cell. Under nitrogen limitation, Prochlorococcus increases the exudation of organic acids and amino acids, which can be utilized by other bacteria such as Alteromonas in coculture[3]. The activity of GAPDH ensures that carbon fixed via photosynthesis is available for these processes.\\n</nutrient_exchange>\\n\\n<nutrient_uptake>\\nThere is no evidence that the gap gene or its product is directly involved in nutrient uptake mechanisms in Prochlorococcus. Nutrient uptake is typically mediated by specific transporters and regulatory systems, not by central metabolic enzymes like GAPDH[6].\\n</nutrient_uptake>\\n\\n<nutrient_release>\\nUnder nitrogen limitation, Prochlorococcus increases the release of organic compounds, including organic acids and amino acids, as a result of overflow metabolism[3]. While GAPDH is not directly responsible for the release of these compounds, its activity is essential for generating the metabolic intermediates that are eventually exuded. This process supports the growth of heterotrophic bacteria like Alteromonas in coculture, which can utilize these released compounds as carbon and energy sources[3].\\n</nutrient_release>\\n\\n<oxidative_stress>\\nThere is no direct evidence linking the gap gene or GAPDH to oxidative stress response in Prochlorococcus. In other organisms, GAPDH can be a target of oxidative damage and may play a role in redox signaling, but such roles have not been documented in Prochlorococcus. The primary function of GAPDH in Prochlorococcus remains metabolic, supporting carbon fixation and energy production[3].\\n</oxidative_stress>\\n\\n<bacterial_interaction>\\nIn coculture with Alteromonas under nitrogen limitation, Prochlorococcus releases organic compounds as a result of metabolic adjustments, including increased activity of central metabolic enzymes like GAPDH[3]. These released compounds can be utilized by Alteromonas, promoting a mutualistic interaction where Prochlorococcus provides carbon and Alteromonas may provide other benefits, such as nutrient remineralization. The gap gene’s role in central metabolism is thus indirectly supportive of bacterial interactions by ensuring the availability of exuded carbon sources[3].\\n</bacterial_interaction>\\n\\n<citations>\\n1. **Clade-Specific Quantitative Analysis of Photosynthetic Gene Expression in Prochlorococcus**  \\n   - Authors: Not specified in snippet  \\n   - Journal: PLOS ONE  \\n   - Year: 2015  \\n   - DOI: 10.1371/journal.pone.0133207  \\n   - URL: https://dx.plos.org/10.1371/journal.pone.0133207\\n\\n2. **Analysis of natural populations of Prochlorococcus spp. in the northern Red Sea using phycoerythrin gene sequences**  \\n   - Authors: Not specified in snippet  \\n   - Journal: Environmental Microbiology  \\n   - Year: 2003  \\n   - DOI: 10.1046/j.1462-2920.2003.00456.x  \\n   - URL: https://sfamjournals.onlinelibrary.wiley.com/doi/10.1046/j.1462-2920.2003.00456.x\\n\\n3. **Dynamic Allocation of Carbon Storage and Nutrient-Dependent Exudation in a Revised Genome-Scale Model of Prochlorococcus**  \\n   - Authors: Not specified in snippet  \\n   - Journal: Frontiers in Genetics  \\n   - Year: 2021  \\n   - DOI: 10.3389/fgene.2021.586293  \\n   - URL: https://www.frontiersin.org/articles/10.3389/fgene.2021.586293/full\\n\\n4. **Improved enzyme functional annotation prediction using contrastive learning with structural inference**  \\n   - Authors: Not specified in snippet  \\n   - Journal: Nature Communications Biology  \\n   - Year: 2024  \\n   - DOI: 10.1038/s42003-024-07359-z  \\n   - URL: https://www.nature.com/articles/s42003-024-07359-z\\n\\n5. **CLEAN-Contact: Contrastive Learning-enabled Enzyme Functional Annotation Prediction with Structural Inference**  \\n   - Authors: Not specified in snippet  \\n   - Journal: bioRxiv  \\n   - Year: 2024  \\n   - DOI: 10.1101/2024.05.14.594148  \\n   - URL: http://biorxiv.org/lookup/doi/10.1101/2024.05.14.594148\\n\\n6. **Phosphate acquisition genes in Prochlorococcus ecotypes: Evidence for genome-wide adaptation**  \\n   - Authors: Not specified in snippet  \\n   - Journal: Proceedings of the National Academy of Sciences  \\n   - Year: 2006  \\n   - DOI: 10.1073/pnas.0601301103  \\n   - URL: https://pnas.org/doi/full/10.1073/pnas.0601301103\\n\\n7. **High‐frequency sampling captures variability in phytoplankton population‐specific periodicity, growth, and productivity**  \\n   - Authors: Not specified in snippet  \\n   - Journal: Limnology and Oceanography  \\n   - Year: 2022  \\n   - DOI: 10.1002/lno.12683  \\n   - URL: https://aslopubs.onlinelibrary.wiley.com/doi/10.1002/lno.12683\\n\\n8. **Quantitative and Functional Characterization of the Hyper-Conserved Protein of Prochlorococcus and Marine Synechococcus**  \\n   - Authors: Not specified in snippet  \\n   - Journal: PLOS ONE  \\n   - Year: 2014  \\n   - DOI: 10.1371/journal.pone.0109327  \\n   - URL: https://dx.plos.org/10.1371/journal.pone.0109327\\n\\n9. **Genome sequence of the cyanobacterium Prochlorococcus marinus SS120, a nearly minimal oxyphototrophic genome**  \\n   - Authors: Not specified in snippet  \\n   - Journal: Proceedings of the National Academy of Sciences  \\n   - Year: 2003  \\n   - DOI: 10.1073/pnas.1733211100  \\n   - URL: https://pnas.org/doi/full/10.1073/pnas.1733211100\\n\\n10. **Cryo-Electron Tomography Reveals the Comparative Three-Dimensional Architecture of Prochlorococcus, a Globally Important Marine Cyanobacterium**  \\n    - Authors: Not specified in snippet  \\n    - Journal: Journal of Bacteriology  \\n    - Year: 2007  \\n    - DOI: 10.1128/JB.01948-06  \\n    - URL: https://journals.asm.org/doi/10.1128/JB.01948-06\\n</citations>\\n\\n<confidence_assessment>\\nThe confidence in the findings is moderate. The function of the gap gene as encoding GAPDH and its central role in carbon metabolism is well-established in cyanobacteria and supported by metabolic modeling in Prochlorococcus[3]. However, there is a lack of direct experimental studies on the regulation or specific stress responses of the gap gene in Prochlorococcus MED4, particularly under nitrogen limitation or in coculture with Alteromonas. Most insights are inferred from broader metabolic studies and models, rather than gene-specific investigations. The recent and comprehensive metabolic modeling provides strong indirect support, but direct evidence is limited.\\n</confidence_assessment>\\n\\n<confidence_score>\\n6\\n</confidence_score>\\n</research_summary>\\n\\n\\n# list of urls for the citations in the review:\\n[1] https://dx.plos.org/10.1371/journal.pone.0133207\\n[2] https://sfamjournals.onlinelibrary.wiley.com/doi/10.1046/j.1462-2920.2003.00456.x\\n[3] https://www.frontiersin.org/articles/10.3389/fgene.2021.586293/full\\n[4] https://www.nature.com/articles/s42003-024-07359-z\\n[5] http://biorxiv.org/lookup/doi/10.1101/2024.05.14.594148\\n[6] https://pnas.org/doi/full/10.1073/pnas.0601301103\\n[7] https://aslopubs.onlinelibrary.wiley.com/doi/10.1002/lno.12683\\n[8] https://dx.plos.org/10.1371/journal.pone.0109327\\n[9] https://pnas.org/doi/full/10.1073/pnas.1733211100\\n[10] https://journals.asm.org/doi/10.1128/JB.01948-06\\n\\n\\n# TASK AND INSTRUCTIONS\\nYour primary goal is to populate a JSON object that strictly adheres to the `GeneResearchSummarySimple` schema based on the review above and published literature.\\nYour task is to search the web for relevant scientific literature related to the gene `gap` and synthesize the findings into a structured JSON object.\\n\\n\\n1.  **Gene Function:** First, determine and concisely state the primary function of the gene `gap`.\\n2.  **Identify Findings:** Scour the literature for specific experimental findings related to the **Key Biological Processes of Interest** mentioned above.\\n3.  **Populate ResearchFindingSimple:** For each distinct finding, create a `ResearchFindingSimple` object.\\n    - **finding_category/finding_type:** Use one of the key process terms (e.g., \\'nutrient uptake\\', \\'stress response\\', \\'coculture role\\').\\n    - **finding_description:** Be specific. Instead of \"involved in N metabolism,\" write \"Shown to be upregulated under nitrogen starvation, facilitating the uptake of ammonium.\"\\n    - **finding_evidence:** Extract the experimental method, e.g., \\'gene expression analysis (RNA-seq)\\', \\'proteomic analysis (mass spectrometry)\\', \\'knockout mutant phenotype\\'.\\n    - **Phylogenetic Distance:** This is crucial. Assess the organism used in the study:\\n        - \\'Direct\\': The study was done in Prochlorococcus.\\n        - \\'Close\\': The study was in another cyanobacterium (e.g., Synechococcus, Synechocystis).\\n        - \\'Relevant\\': The study was in another marine bacterium (e.g., Alteromonas itself, Vibrio).\\n        - \\'Distant\\': The study was in a model organism like E. coli or yeast, but the function is highly conserved.\\n    - **Confidence Score (1-10):** Assign a score based on the evidence\\'s relevance and directness.\\n        - **10:** Direct experimental evidence (e.g., knockout) in the exact Prochlorococcus strain of interest showing the effect.\\n        - **8-9:** Direct evidence (transcriptome/proteome) in Prochlorococcus or a very close relative under nitrogen limitation.\\n        - **6-7:** Strong evidence in a related cyanobacterium or clear homology-based inference.\\n        - **3-5:** Inferred function based on studies in distant organisms (e.g., E. coli) or purely correlational data.\\n        - **1-2:** Highly speculative connection.\\n4.  **Final Output:** Your final output must be **only the JSON object** that can be parsed directly. Do not include any explanatory text before or after the JSON.\\n\\n\\nEnsure that the JSON object strictly adheres to the `GeneResearchSummarySimple` schema. The schema requires the following fields:\\n```python\\nclass ResearchFindingSimple(BaseModel):\\n    \"\"\" Description of the research process and findings related to a specific finding on a specific gene\"\"\"\\n    finding_category: str = Field(description=\"Category of the finding, e.g. \\'physiological\\', \\'gene function\\', \\'stress response\\', \\'nutrient uptake\\', \\'nutrient exudation\\', \\'coculture role\\'\")\\n    finding_sub_category: str = Field(description=\"sub category of the finding, e.g. \\'high light stress\\' for stress response, nutrient name/type for nutrient exchange\")\\n    finding_description: str = Field(description=\"Description of the finding related to the gene\")\\n    finding_evidence: str = Field(description=\"Evidence supporting this finding, e.g. \\'gene knockout experiments\\', \\'gene expression analysis\\', \\'protein interaction studies\\'\")\\n    finding_type: str = Field(description=\"Type of finding, e.g. \\'gene function\\', \\'stress response\\', \\'nutrient uptake\\', \\'nutrient exudation\\', \\'coculture role\\'\")\\n    url: str = Field(description=\"URL to access the research paper supporting this finding\")\\n    title: str = Field(description=\"Title of the research paper supporting this finding\")\\n    citation: str = Field(description=\"Citation for the research paper supporting this finding\")\\n    organism: str = Field(description=\"Organism where the finding is studied in the cited literature\")\\n    phylogenetic_distance: str = Field(description=\"Phylogenetic distance between this research and Prochlorococcus\")\\n    additional_notes: str = Field(description=\"Any additional notes or comments about the finding\")\\n    confidence_score: Optional[int] = Field(\\n        le=10, ge=1,  # Confidence score must be between 1 and 10\\n        default=None, description=\"A numerical score representing the confidence in the evidence, from 1 to 10\"\\n    )\\n\\n\\n\\nclass GeneResearchSummarySimple(BaseModel):\\n    \"\"\"Research on a specific gene\\'s involvement in coping with stress conditions\"\"\"  \\n    gene_name: str = Field(description=\"Name of the gene being studied\")\\n    gene_function: str = Field(description=\"Function of the gene\") \\n    research_findings: List[ResearchFindingSimple] = Field(description=\"List of research findings related to this gene, can be empty if none found\")\\n\\n```\\n\\n\\nIn addition, assign citations for each entry based on urls in the `urls for the citations` list  (if applicable). All citations should correspond to valid papers cited correctly. Ensure that each citation is correctly formatted and corresponds to the findings in the review text. If no cication is available, return \\'No Paper Found\\'.\\n\\n\\n', additional_kwargs={}, response_metadata={})])"
      ]
     },
     "execution_count": 28,
     "metadata": {},
     "output_type": "execute_result"
    }
   ],
   "source": [
    "query2"
   ]
  },
  {
   "cell_type": "code",
   "execution_count": 29,
   "id": "35362a28",
   "metadata": {},
   "outputs": [
    {
     "data": {
      "text/plain": [
       "{'gene_name': 'gap',\n",
       " 'gene_function': 'The gene gap encodes a type I glyceraldehyde-3-phosphate dehydrogenase (GAPDH), which is essential for energy production and carbon assimilation in Prochlorococcus, supporting its role as a dominant primary producer in oligotrophic oceans.',\n",
       " 'research_findings': [{'finding_category': 'physiological',\n",
       "   'finding_sub_category': 'nitrogen limitation',\n",
       "   'finding_description': 'GAPDH activity is crucial for maintaining metabolic flux, allowing Prochlorococcus to store or release fixed carbon depending on nutrient availability.',\n",
       "   'finding_evidence': 'metabolic modeling and physiological studies',\n",
       "   'finding_type': 'physiological',\n",
       "   'url': 'https://www.frontiersin.org/articles/10.3389/fgene.2021.586293/full',\n",
       "   'title': 'Dynamic Allocation of Carbon Storage and Nutrient-Dependent Exudation in a Revised Genome-Scale Model of Prochlorococcus',\n",
       "   'citation': 'Dynamic Allocation of Carbon Storage and Nutrient-Dependent Exudation in a Revised Genome-Scale Model of Prochlorococcus, Frontiers in Genetics, 2021.',\n",
       "   'organism': 'Prochlorococcus MED4',\n",
       "   'phylogenetic_distance': 'Direct',\n",
       "   'additional_notes': 'The findings are based on metabolic modeling rather than direct experimental evidence.',\n",
       "   'confidence_score': 6},\n",
       "  {'finding_category': 'stress response',\n",
       "   'finding_sub_category': 'general stress response',\n",
       "   'finding_description': 'GAPDH is likely involved in the general stress response by maintaining metabolic homeostasis, although specific regulation under stress conditions in Prochlorococcus is not documented.',\n",
       "   'finding_evidence': 'inferred from studies in other organisms',\n",
       "   'finding_type': 'stress response',\n",
       "   'url': 'No Paper Found',\n",
       "   'title': 'No Paper Found',\n",
       "   'citation': 'No Paper Found',\n",
       "   'organism': 'Prochlorococcus MED4',\n",
       "   'phylogenetic_distance': 'Relevant',\n",
       "   'additional_notes': 'The role of GAPDH in stress response is inferred from its function in other organisms.',\n",
       "   'confidence_score': 5},\n",
       "  {'finding_category': 'nutrient exudation',\n",
       "   'finding_sub_category': 'organic compounds',\n",
       "   'finding_description': 'Under nitrogen limitation, Prochlorococcus increases the exudation of organic acids and amino acids, which are facilitated by the activity of GAPDH.',\n",
       "   'finding_evidence': 'metabolic modeling and physiological studies',\n",
       "   'finding_type': 'nutrient exudation',\n",
       "   'url': 'https://www.frontiersin.org/articles/10.3389/fgene.2021.586293/full',\n",
       "   'title': 'Dynamic Allocation of Carbon Storage and Nutrient-Dependent Exudation in a Revised Genome-Scale Model of Prochlorococcus',\n",
       "   'citation': 'Dynamic Allocation of Carbon Storage and Nutrient-Dependent Exudation in a Revised Genome-Scale Model of Prochlorococcus, Frontiers in Genetics, 2021.',\n",
       "   'organism': 'Prochlorococcus MED4',\n",
       "   'phylogenetic_distance': 'Direct',\n",
       "   'additional_notes': 'The findings are based on metabolic modeling rather than direct experimental evidence.',\n",
       "   'confidence_score': 6},\n",
       "  {'finding_category': 'coculture role',\n",
       "   'finding_sub_category': 'interaction with Alteromonas',\n",
       "   'finding_description': 'In coculture with Alteromonas, Prochlorococcus releases organic compounds that can be utilized by Alteromonas, supporting a mutualistic interaction.',\n",
       "   'finding_evidence': 'metabolic modeling and physiological studies',\n",
       "   'finding_type': 'coculture role',\n",
       "   'url': 'https://www.frontiersin.org/articles/10.3389/fgene.2021.586293/full',\n",
       "   'title': 'Dynamic Allocation of Carbon Storage and Nutrient-Dependent Exudation in a Revised Genome-Scale Model of Prochlorococcus',\n",
       "   'citation': 'Dynamic Allocation of Carbon Storage and Nutrient-Dependent Exudation in a Revised Genome-Scale Model of Prochlorococcus, Frontiers in Genetics, 2021.',\n",
       "   'organism': 'Prochlorococcus MED4',\n",
       "   'phylogenetic_distance': 'Direct',\n",
       "   'additional_notes': 'The findings are based on metabolic modeling rather than direct experimental evidence.',\n",
       "   'confidence_score': 6}]}"
      ]
     },
     "execution_count": 29,
     "metadata": {},
     "output_type": "execute_result"
    }
   ],
   "source": [
    "sample_result_reformated = structured_openai_llm.invoke(query2)\n",
    "sample_result_reformated.model_dump()"
   ]
  },
  {
   "cell_type": "code",
   "execution_count": 30,
   "id": "2c45c728",
   "metadata": {},
   "outputs": [
    {
     "data": {
      "text/plain": [
       "{'content': [{'type': 'text',\n",
       "   'text': '{\"gene_name\":\"gap\",\"gene_function\":\"Encodes glyceraldehyde-3-phosphate dehydrogenase (GAPDH), a key enzyme in glycolysis and the Calvin-Benson-Bassham cycle, facilitating the conversion of glyceraldehyde-3-phosphate to 1,3-bisphosphoglycerate.\",\"research_findings\":[{\"finding_category\":\"physiological\",\"finding_sub_category\":\"carbon metabolism\",\"finding_description\":\"GAPDH activity is central to the physiological state of Prochlorococcus, linking photosynthetic carbon fixation to energy metabolism.\",\"finding_evidence\":\"Metabolic modeling studies in Prochlorococcus.\",\"finding_type\":\"gene function\",\"url\":\"https://www.frontiersin.org/articles/10.3389/fgene.2021.586293/full\",\"title\":\"Dynamic Allocation of Carbon Storage and Nutrient-Dependent Exudation in a Revised Genome-Scale Model of Prochlorococcus\",\"citation\":\"Frontiers in Genetics, 2021\",\"organism\":\"Prochlorococcus\",\"phylogenetic_distance\":\"Direct\",\"additional_notes\":\"The study provides insights into the metabolic pathways involving GAPDH in Prochlorococcus.\",\"confidence_score\":8},{\"finding_category\":\"stress response\",\"finding_sub_category\":\"nitrogen limitation\",\"finding_description\":\"Under nitrogen limitation, Prochlorococcus increases the exudation of organic compounds, including organic acids and amino acids, as a result of overflow metabolism.\",\"finding_evidence\":\"Metabolic modeling studies in Prochlorococcus.\",\"finding_type\":\"stress response\",\"url\":\"https://www.frontiersin.org/articles/10.3389/fgene.2021.586293/full\",\"title\":\"Dynamic Allocation of Carbon Storage and Nutrient-Dependent Exudation in a Revised Genome-Scale Model of Prochlorococcus\",\"citation\":\"Frontiers in Genetics, 2021\",\"organism\":\"Prochlorococcus\",\"phylogenetic_distance\":\"Direct\",\"additional_notes\":\"The study highlights the metabolic adjustments of Prochlorococcus under nitrogen limitation.\",\"confidence_score\":8},{\"finding_category\":\"nutrient release\",\"finding_sub_category\":\"organic compounds\",\"finding_description\":\"GAPDH activity ensures that carbon fixed via photosynthesis is available for exudation, supporting the growth of heterotrophic bacteria like Alteromonas in coculture.\",\"finding_evidence\":\"Metabolic modeling studies in Prochlorococcus.\",\"finding_type\":\"nutrient release\",\"url\":\"https://www.frontiersin.org/articles/10.3389/fgene.2021.586293/full\",\"title\":\"Dynamic Allocation of Carbon Storage and Nutrient-Dependent Exudation in a Revised Genome-Scale Model of Prochlorococcus\",\"citation\":\"Frontiers in Genetics, 2021\",\"organism\":\"Prochlorococcus\",\"phylogenetic_distance\":\"Direct\",\"additional_notes\":\"The study discusses the role of GAPDH in nutrient release under nitrogen limitation.\",\"confidence_score\":8}]} ',\n",
       "   'annotations': []}],\n",
       " 'additional_kwargs': {'tool_outputs': [{'id': 'ws_6866e45297d4819d873e7f99fef576a00ffa7fca675ffdff',\n",
       "    'status': 'completed',\n",
       "    'type': 'web_search_call',\n",
       "    'action': {'type': 'search',\n",
       "     'query': 'gap gene Prochlorococcus MED4 research findings'}}],\n",
       "  'parsed': {'gene_name': 'gap',\n",
       "   'gene_function': 'Encodes glyceraldehyde-3-phosphate dehydrogenase (GAPDH), a key enzyme in glycolysis and the Calvin-Benson-Bassham cycle, facilitating the conversion of glyceraldehyde-3-phosphate to 1,3-bisphosphoglycerate.',\n",
       "   'research_findings': [{'finding_category': 'physiological',\n",
       "     'finding_sub_category': 'carbon metabolism',\n",
       "     'finding_description': 'GAPDH activity is central to the physiological state of Prochlorococcus, linking photosynthetic carbon fixation to energy metabolism.',\n",
       "     'finding_evidence': 'Metabolic modeling studies in Prochlorococcus.',\n",
       "     'finding_type': 'gene function',\n",
       "     'url': 'https://www.frontiersin.org/articles/10.3389/fgene.2021.586293/full',\n",
       "     'title': 'Dynamic Allocation of Carbon Storage and Nutrient-Dependent Exudation in a Revised Genome-Scale Model of Prochlorococcus',\n",
       "     'citation': 'Frontiers in Genetics, 2021',\n",
       "     'organism': 'Prochlorococcus',\n",
       "     'phylogenetic_distance': 'Direct',\n",
       "     'additional_notes': 'The study provides insights into the metabolic pathways involving GAPDH in Prochlorococcus.',\n",
       "     'confidence_score': 8},\n",
       "    {'finding_category': 'stress response',\n",
       "     'finding_sub_category': 'nitrogen limitation',\n",
       "     'finding_description': 'Under nitrogen limitation, Prochlorococcus increases the exudation of organic compounds, including organic acids and amino acids, as a result of overflow metabolism.',\n",
       "     'finding_evidence': 'Metabolic modeling studies in Prochlorococcus.',\n",
       "     'finding_type': 'stress response',\n",
       "     'url': 'https://www.frontiersin.org/articles/10.3389/fgene.2021.586293/full',\n",
       "     'title': 'Dynamic Allocation of Carbon Storage and Nutrient-Dependent Exudation in a Revised Genome-Scale Model of Prochlorococcus',\n",
       "     'citation': 'Frontiers in Genetics, 2021',\n",
       "     'organism': 'Prochlorococcus',\n",
       "     'phylogenetic_distance': 'Direct',\n",
       "     'additional_notes': 'The study highlights the metabolic adjustments of Prochlorococcus under nitrogen limitation.',\n",
       "     'confidence_score': 8},\n",
       "    {'finding_category': 'nutrient release',\n",
       "     'finding_sub_category': 'organic compounds',\n",
       "     'finding_description': 'GAPDH activity ensures that carbon fixed via photosynthesis is available for exudation, supporting the growth of heterotrophic bacteria like Alteromonas in coculture.',\n",
       "     'finding_evidence': 'Metabolic modeling studies in Prochlorococcus.',\n",
       "     'finding_type': 'nutrient release',\n",
       "     'url': 'https://www.frontiersin.org/articles/10.3389/fgene.2021.586293/full',\n",
       "     'title': 'Dynamic Allocation of Carbon Storage and Nutrient-Dependent Exudation in a Revised Genome-Scale Model of Prochlorococcus',\n",
       "     'citation': 'Frontiers in Genetics, 2021',\n",
       "     'organism': 'Prochlorococcus',\n",
       "     'phylogenetic_distance': 'Direct',\n",
       "     'additional_notes': 'The study discusses the role of GAPDH in nutrient release under nitrogen limitation.',\n",
       "     'confidence_score': 8}]}},\n",
       " 'response_metadata': {'id': 'resp_6866e450584c819da403fd05468847290ffa7fca675ffdff',\n",
       "  'created_at': 1751573584.0,\n",
       "  'metadata': {},\n",
       "  'model': 'gpt-4o-mini-2024-07-18',\n",
       "  'object': 'response',\n",
       "  'service_tier': 'default',\n",
       "  'status': 'completed',\n",
       "  'model_name': 'gpt-4o-mini-2024-07-18'},\n",
       " 'type': 'ai',\n",
       " 'name': None,\n",
       " 'id': 'msg_6866e45727ac819d84224c8bbeae38af0ffa7fca675ffdff',\n",
       " 'example': False,\n",
       " 'tool_calls': [],\n",
       " 'invalid_tool_calls': [],\n",
       " 'usage_metadata': {'input_tokens': 4305,\n",
       "  'output_tokens': 596,\n",
       "  'total_tokens': 4901,\n",
       "  'output_token_details': {}}}"
      ]
     },
     "execution_count": 30,
     "metadata": {},
     "output_type": "execute_result"
    }
   ],
   "source": [
    "sample_result_reformated2 = structured_openai_llm_with_tool.invoke(query2)\n",
    "sample_result_reformated2.model_dump()"
   ]
  },
  {
   "cell_type": "code",
   "execution_count": 31,
   "id": "8a88c026",
   "metadata": {},
   "outputs": [
    {
     "data": {
      "text/plain": [
       "{'gene_name': 'gap',\n",
       " 'gene_function': 'Encodes glyceraldehyde-3-phosphate dehydrogenase (GAPDH), a key enzyme in glycolysis and the Calvin-Benson-Bassham cycle, facilitating the conversion of glyceraldehyde-3-phosphate to 1,3-bisphosphoglycerate.',\n",
       " 'research_findings': [{'finding_category': 'physiological',\n",
       "   'finding_sub_category': 'carbon metabolism',\n",
       "   'finding_description': 'GAPDH activity is central to the physiological state of Prochlorococcus, linking photosynthetic carbon fixation to energy metabolism.',\n",
       "   'finding_evidence': 'Metabolic modeling studies in Prochlorococcus.',\n",
       "   'finding_type': 'gene function',\n",
       "   'url': 'https://www.frontiersin.org/articles/10.3389/fgene.2021.586293/full',\n",
       "   'title': 'Dynamic Allocation of Carbon Storage and Nutrient-Dependent Exudation in a Revised Genome-Scale Model of Prochlorococcus',\n",
       "   'citation': 'Frontiers in Genetics, 2021',\n",
       "   'organism': 'Prochlorococcus',\n",
       "   'phylogenetic_distance': 'Direct',\n",
       "   'additional_notes': 'The study provides insights into the metabolic pathways involving GAPDH in Prochlorococcus.',\n",
       "   'confidence_score': 8},\n",
       "  {'finding_category': 'stress response',\n",
       "   'finding_sub_category': 'nitrogen limitation',\n",
       "   'finding_description': 'Under nitrogen limitation, Prochlorococcus increases the exudation of organic compounds, including organic acids and amino acids, as a result of overflow metabolism.',\n",
       "   'finding_evidence': 'Metabolic modeling studies in Prochlorococcus.',\n",
       "   'finding_type': 'stress response',\n",
       "   'url': 'https://www.frontiersin.org/articles/10.3389/fgene.2021.586293/full',\n",
       "   'title': 'Dynamic Allocation of Carbon Storage and Nutrient-Dependent Exudation in a Revised Genome-Scale Model of Prochlorococcus',\n",
       "   'citation': 'Frontiers in Genetics, 2021',\n",
       "   'organism': 'Prochlorococcus',\n",
       "   'phylogenetic_distance': 'Direct',\n",
       "   'additional_notes': 'The study highlights the metabolic adjustments of Prochlorococcus under nitrogen limitation.',\n",
       "   'confidence_score': 8},\n",
       "  {'finding_category': 'nutrient release',\n",
       "   'finding_sub_category': 'organic compounds',\n",
       "   'finding_description': 'GAPDH activity ensures that carbon fixed via photosynthesis is available for exudation, supporting the growth of heterotrophic bacteria like Alteromonas in coculture.',\n",
       "   'finding_evidence': 'Metabolic modeling studies in Prochlorococcus.',\n",
       "   'finding_type': 'nutrient release',\n",
       "   'url': 'https://www.frontiersin.org/articles/10.3389/fgene.2021.586293/full',\n",
       "   'title': 'Dynamic Allocation of Carbon Storage and Nutrient-Dependent Exudation in a Revised Genome-Scale Model of Prochlorococcus',\n",
       "   'citation': 'Frontiers in Genetics, 2021',\n",
       "   'organism': 'Prochlorococcus',\n",
       "   'phylogenetic_distance': 'Direct',\n",
       "   'additional_notes': 'The study discusses the role of GAPDH in nutrient release under nitrogen limitation.',\n",
       "   'confidence_score': 8}]}"
      ]
     },
     "execution_count": 31,
     "metadata": {},
     "output_type": "execute_result"
    }
   ],
   "source": [
    "formatted_response2 = gene_db_classes.GeneResearchSummarySimple.model_validate_json(sample_result_reformated2.content[0]['text'])\n",
    "formatted_response2.model_dump()\n"
   ]
  },
  {
   "cell_type": "code",
   "execution_count": null,
   "id": "85d4ed51",
   "metadata": {},
   "outputs": [],
   "source": []
  },
  {
   "cell_type": "code",
   "execution_count": null,
   "id": "e5bb52be",
   "metadata": {},
   "outputs": [],
   "source": []
  }
 ],
 "metadata": {
  "kernelspec": {
   "display_name": "spock",
   "language": "python",
   "name": "python3"
  },
  "language_info": {
   "codemirror_mode": {
    "name": "ipython",
    "version": 3
   },
   "file_extension": ".py",
   "mimetype": "text/x-python",
   "name": "python",
   "nbconvert_exporter": "python",
   "pygments_lexer": "ipython3",
   "version": "3.12.11"
  }
 },
 "nbformat": 4,
 "nbformat_minor": 5
}
