{
 "cells": [
  {
   "cell_type": "code",
   "execution_count": 1,
   "id": "02b37d55",
   "metadata": {},
   "outputs": [],
   "source": [
    "from Bio import SeqIO"
   ]
  },
  {
   "cell_type": "code",
   "execution_count": 2,
   "id": "1a43d064",
   "metadata": {},
   "outputs": [],
   "source": [
    "import os"
   ]
  },
  {
   "cell_type": "code",
   "execution_count": 3,
   "id": "39608418",
   "metadata": {
    "scrolled": false
   },
   "outputs": [],
   "source": [
    "with open('HOT1A3_NCBI_ECnumber.tsv', 'w') as f:\n",
    "    for seq_record in SeqIO.parse(\"genomic.gbff\", \"genbank\"):\n",
    "        for g in seq_record.features:\n",
    "            if 'EC_number' in g.qualifiers:\n",
    "                for tag in g.qualifiers['locus_tag']:\n",
    "                    for ec in g.qualifiers['EC_number']:\n",
    "                        f.write(f'{tag}\\t{ec}\\n')"
   ]
  },
  {
   "cell_type": "code",
   "execution_count": null,
   "id": "4fbff378",
   "metadata": {},
   "outputs": [],
   "source": []
  }
 ],
 "metadata": {
  "kernelspec": {
   "display_name": "Python 3 (ipykernel)",
   "language": "python",
   "name": "python3"
  },
  "language_info": {
   "codemirror_mode": {
    "name": "ipython",
    "version": 3
   },
   "file_extension": ".py",
   "mimetype": "text/x-python",
   "name": "python",
   "nbconvert_exporter": "python",
   "pygments_lexer": "ipython3",
   "version": "3.9.12"
  }
 },
 "nbformat": 4,
 "nbformat_minor": 5
}
